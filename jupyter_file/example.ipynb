{
 "cells": [
  {
   "cell_type": "markdown",
   "metadata": {},
   "source": [
    "** <center>关于链家全网房价数据分析挖掘项目 **"
   ]
  },
  {
   "cell_type": "markdown",
   "metadata": {},
   "source": [
    "**数据说明**\n",
    "1. 数据信息：\n",
    " - 数据量：40多万\n",
    " - 时间：2018年7月前\n",
    "2. 来源\n",
    " - 作者：田昕峣\n",
    " - 获取方式：https://github.com/XinyaoTian/lianjia_Spider  \n",
    "\n",
    "**项目目标 **  \n",
    "建立单位面积房价的预测模型"
   ]
  },
  {
   "cell_type": "markdown",
   "metadata": {
    "toc": true
   },
   "source": [
    "<h1>Table of Contents<span class=\"tocSkip\"></span></h1>\n",
    "<div class=\"toc\"><ul class=\"toc-item\"><li><span><a href=\"#数据导入\" data-toc-modified-id=\"数据导入-1\"><span class=\"toc-item-num\">1&nbsp;&nbsp;</span>数据导入</a></span></li><li><span><a href=\"#数据探索：\" data-toc-modified-id=\"数据探索：-2\"><span class=\"toc-item-num\">2&nbsp;&nbsp;</span>数据探索：</a></span></li><li><span><a href=\"#数据处理：\" data-toc-modified-id=\"数据处理：-3\"><span class=\"toc-item-num\">3&nbsp;&nbsp;</span>数据处理：</a></span></li><li><span><a href=\"#绘图分析\" data-toc-modified-id=\"绘图分析-4\"><span class=\"toc-item-num\">4&nbsp;&nbsp;</span>绘图分析</a></span><ul class=\"toc-item\"><li><span><a href=\"#单变量观察\" data-toc-modified-id=\"单变量观察-4.1\"><span class=\"toc-item-num\">4.1&nbsp;&nbsp;</span>单变量观察</a></span><ul class=\"toc-item\"><li><span><a href=\"#面积、查看次数、收藏次数、发布时间\" data-toc-modified-id=\"面积、查看次数、收藏次数、发布时间-4.1.1\"><span class=\"toc-item-num\">4.1.1&nbsp;&nbsp;</span>面积、查看次数、收藏次数、发布时间</a></span></li><li><span><a href=\"#2年产权、5年产权、房屋户型\" data-toc-modified-id=\"2年产权、5年产权、房屋户型-4.1.2\"><span class=\"toc-item-num\">4.1.2&nbsp;&nbsp;</span>2年产权、5年产权、房屋户型</a></span></li><li><span><a href=\"#朝向、装修程度、电梯配备、楼层位置、楼型、建成时间\" data-toc-modified-id=\"朝向、装修程度、电梯配备、楼层位置、楼型、建成时间-4.1.3\"><span class=\"toc-item-num\">4.1.3&nbsp;&nbsp;</span>朝向、装修程度、电梯配备、楼层位置、楼型、建成时间</a></span></li></ul></li><li><span><a href=\"#多维度分析\" data-toc-modified-id=\"多维度分析-4.2\"><span class=\"toc-item-num\">4.2&nbsp;&nbsp;</span>多维度分析</a></span><ul class=\"toc-item\"><li><span><a href=\"#产权和查看次数、收藏次数\" data-toc-modified-id=\"产权和查看次数、收藏次数-4.2.1\"><span class=\"toc-item-num\">4.2.1&nbsp;&nbsp;</span>产权和查看次数、收藏次数</a></span></li><li><span><a href=\"#户型+产权和查看次数、收藏次数¶\" data-toc-modified-id=\"户型+产权和查看次数、收藏次数¶-4.2.2\"><span class=\"toc-item-num\">4.2.2&nbsp;&nbsp;</span>户型+产权和查看次数、收藏次数¶</a></span></li></ul></li><li><span><a href=\"#关联分析\" data-toc-modified-id=\"关联分析-4.3\"><span class=\"toc-item-num\">4.3&nbsp;&nbsp;</span>关联分析</a></span><ul class=\"toc-item\"><li><span><a href=\"#2年产权、5年产权vs装修程度、户型\" data-toc-modified-id=\"2年产权、5年产权vs装修程度、户型-4.3.1\"><span class=\"toc-item-num\">4.3.1&nbsp;&nbsp;</span>2年产权、5年产权vs装修程度、户型</a></span></li><li><span><a href=\"#电梯、楼层、楼型、建成时间单变量统计\" data-toc-modified-id=\"电梯、楼层、楼型、建成时间单变量统计-4.3.2\"><span class=\"toc-item-num\">4.3.2&nbsp;&nbsp;</span>电梯、楼层、楼型、建成时间单变量统计</a></span></li><li><span><a href=\"#连续变量的相关性\" data-toc-modified-id=\"连续变量的相关性-4.3.3\"><span class=\"toc-item-num\">4.3.3&nbsp;&nbsp;</span>连续变量的相关性</a></span></li><li><span><a href=\"#异常值检查（size_house_edit1与smeter_price_edit1关系为例）\" data-toc-modified-id=\"异常值检查（size_house_edit1与smeter_price_edit1关系为例）-4.3.4\"><span class=\"toc-item-num\">4.3.4&nbsp;&nbsp;</span>异常值检查（size_house_edit1与smeter_price_edit1关系为例）</a></span><ul class=\"toc-item\"><li><span><a href=\"#检查\" data-toc-modified-id=\"检查-4.3.4.1\"><span class=\"toc-item-num\">4.3.4.1&nbsp;&nbsp;</span>检查</a></span></li><li><span><a href=\"#剔除异常点\" data-toc-modified-id=\"剔除异常点-4.3.4.2\"><span class=\"toc-item-num\">4.3.4.2&nbsp;&nbsp;</span>剔除异常点</a></span></li></ul></li></ul></li><li><span><a href=\"#目标变量处理——满足整体分布\" data-toc-modified-id=\"目标变量处理——满足整体分布-4.4\"><span class=\"toc-item-num\">4.4&nbsp;&nbsp;</span>目标变量处理——满足整体分布</a></span><ul class=\"toc-item\"><li><span><a href=\"#绘制正态分布图\" data-toc-modified-id=\"绘制正态分布图-4.4.1\"><span class=\"toc-item-num\">4.4.1&nbsp;&nbsp;</span>绘制正态分布图</a></span></li><li><span><a href=\"#绘制QQ图\" data-toc-modified-id=\"绘制QQ图-4.4.2\"><span class=\"toc-item-num\">4.4.2&nbsp;&nbsp;</span>绘制QQ图</a></span></li><li><span><a href=\"#变换处理与查看\" data-toc-modified-id=\"变换处理与查看-4.4.3\"><span class=\"toc-item-num\">4.4.3&nbsp;&nbsp;</span>变换处理与查看</a></span></li></ul></li><li><span><a href=\"#缺失值处理\" data-toc-modified-id=\"缺失值处理-4.5\"><span class=\"toc-item-num\">4.5&nbsp;&nbsp;</span>缺失值处理</a></span></li><li><span><a href=\"#其它特征工程\" data-toc-modified-id=\"其它特征工程-4.6\"><span class=\"toc-item-num\">4.6&nbsp;&nbsp;</span>其它特征工程</a></span><ul class=\"toc-item\"><li><span><a href=\"#1、有许多特征实际上是类别型的特征，但给出来的是数字，所以需要将其转换成类别型。\" data-toc-modified-id=\"1、有许多特征实际上是类别型的特征，但给出来的是数字，所以需要将其转换成类别型。-4.6.1\"><span class=\"toc-item-num\">4.6.1&nbsp;&nbsp;</span>1、有许多特征实际上是类别型的特征，但给出来的是数字，所以需要将其转换成类别型。</a></span></li><li><span><a href=\"#2、接下来-LabelEncoder，对部分类别的特征进行编号。\" data-toc-modified-id=\"2、接下来-LabelEncoder，对部分类别的特征进行编号。-4.6.2\"><span class=\"toc-item-num\">4.6.2&nbsp;&nbsp;</span>2、接下来 LabelEncoder，对部分类别的特征进行编号。</a></span></li><li><span><a href=\"#3、检查变量的正态分布情况\" data-toc-modified-id=\"3、检查变量的正态分布情况-4.6.3\"><span class=\"toc-item-num\">4.6.3&nbsp;&nbsp;</span>3、检查变量的正态分布情况</a></span><ul class=\"toc-item\"><li><span><a href=\"#检查\" data-toc-modified-id=\"检查-4.6.3.1\"><span class=\"toc-item-num\">4.6.3.1&nbsp;&nbsp;</span>检查</a></span></li><li><span><a href=\"#变换处理\" data-toc-modified-id=\"变换处理-4.6.3.2\"><span class=\"toc-item-num\">4.6.3.2&nbsp;&nbsp;</span>变换处理</a></span></li></ul></li><li><span><a href=\"#哑变量处理\" data-toc-modified-id=\"哑变量处理-4.6.4\"><span class=\"toc-item-num\">4.6.4&nbsp;&nbsp;</span>哑变量处理</a></span></li></ul></li></ul></li><li><span><a href=\"#建立模型\" data-toc-modified-id=\"建立模型-5\"><span class=\"toc-item-num\">5&nbsp;&nbsp;</span>建立模型</a></span><ul class=\"toc-item\"><li><span><a href=\"#数据准备\" data-toc-modified-id=\"数据准备-5.1\"><span class=\"toc-item-num\">5.1&nbsp;&nbsp;</span>数据准备</a></span></li><li><span><a href=\"#模型函数\" data-toc-modified-id=\"模型函数-5.2\"><span class=\"toc-item-num\">5.2&nbsp;&nbsp;</span>模型函数</a></span><ul class=\"toc-item\"><li><span><a href=\"#模型函数设定\" data-toc-modified-id=\"模型函数设定-5.2.1\"><span class=\"toc-item-num\">5.2.1&nbsp;&nbsp;</span>模型函数设定</a></span><ul class=\"toc-item\"><li><span><a href=\"#lasso模型\" data-toc-modified-id=\"lasso模型-5.2.1.1\"><span class=\"toc-item-num\">5.2.1.1&nbsp;&nbsp;</span>lasso模型</a></span></li><li><span><a href=\"#ENet模型\" data-toc-modified-id=\"ENet模型-5.2.1.2\"><span class=\"toc-item-num\">5.2.1.2&nbsp;&nbsp;</span>ENet模型</a></span></li><li><span><a href=\"#KRR模型\" data-toc-modified-id=\"KRR模型-5.2.1.3\"><span class=\"toc-item-num\">5.2.1.3&nbsp;&nbsp;</span>KRR模型</a></span></li><li><span><a href=\"#GBoost模型\" data-toc-modified-id=\"GBoost模型-5.2.1.4\"><span class=\"toc-item-num\">5.2.1.4&nbsp;&nbsp;</span>GBoost模型</a></span></li><li><span><a href=\"#xgboost模型\" data-toc-modified-id=\"xgboost模型-5.2.1.5\"><span class=\"toc-item-num\">5.2.1.5&nbsp;&nbsp;</span>xgboost模型</a></span></li><li><span><a href=\"#LightGBM模型\" data-toc-modified-id=\"LightGBM模型-5.2.1.6\"><span class=\"toc-item-num\">5.2.1.6&nbsp;&nbsp;</span>LightGBM模型</a></span></li></ul></li><li><span><a href=\"#模型得分\" data-toc-modified-id=\"模型得分-5.2.2\"><span class=\"toc-item-num\">5.2.2&nbsp;&nbsp;</span>模型得分</a></span></li></ul></li><li><span><a href=\"#模型融合\" data-toc-modified-id=\"模型融合-5.3\"><span class=\"toc-item-num\">5.3&nbsp;&nbsp;</span>模型融合</a></span><ul class=\"toc-item\"><li><span><a href=\"#基模型融合\" data-toc-modified-id=\"基模型融合-5.3.1\"><span class=\"toc-item-num\">5.3.1&nbsp;&nbsp;</span>基模型融合</a></span></li><li><span><a href=\"#构建stacking-averagd-models的类\" data-toc-modified-id=\"构建stacking-averagd-models的类-5.3.2\"><span class=\"toc-item-num\">5.3.2&nbsp;&nbsp;</span>构建stacking averagd models的类</a></span></li><li><span><a href=\"#测试模型融合\" data-toc-modified-id=\"测试模型融合-5.3.3\"><span class=\"toc-item-num\">5.3.3&nbsp;&nbsp;</span>测试模型融合</a></span><ul class=\"toc-item\"><li><span><a href=\"#stacking\" data-toc-modified-id=\"stacking-5.3.3.1\"><span class=\"toc-item-num\">5.3.3.1&nbsp;&nbsp;</span>stacking</a></span></li><li><span><a href=\"#xgboost\" data-toc-modified-id=\"xgboost-5.3.3.2\"><span class=\"toc-item-num\">5.3.3.2&nbsp;&nbsp;</span>xgboost</a></span></li><li><span><a href=\"#lightgbm\" data-toc-modified-id=\"lightgbm-5.3.3.3\"><span class=\"toc-item-num\">5.3.3.3&nbsp;&nbsp;</span>lightgbm</a></span></li></ul></li><li><span><a href=\"#结果\" data-toc-modified-id=\"结果-5.3.4\"><span class=\"toc-item-num\">5.3.4&nbsp;&nbsp;</span>结果</a></span></li></ul></li></ul></li></ul></div>"
   ]
  },
  {
   "cell_type": "markdown",
   "metadata": {},
   "source": [
    "### 数据导入"
   ]
  },
  {
   "cell_type": "code",
   "execution_count": 1,
   "metadata": {
    "code_folding": [],
    "collapsed": true
   },
   "outputs": [],
   "source": [
    "import numpy as np \n",
    "import pandas as pd\n",
    "import matplotlib.pyplot as plt\n",
    "plt.rcParams['font.sans-serif'] = ['SimHei']\n",
    "plt.rcParams['font.family']='sans-serif' # 解决负号是方块\n",
    "%matplotlib notebook\n",
    "\n",
    "import seaborn as sns\n",
    "color = sns.color_palette()\n",
    "sns.set_style('darkgrid')\n",
    "import warnings\n",
    "def ignore_warn(*args, **kwargs):\n",
    "    pass\n",
    "warnings.warn = ignore_warn\n",
    "\n",
    "import re\n",
    "from scipy import stats\n",
    "from scipy.stats import norm, skew\n",
    "\n",
    "\n",
    "pd.set_option('display.float_format', lambda x: '{:.3f}'.format(x)) #Limiting floats output\n",
    "pd.set_option('display.max_columns',40) # 显示隐藏\n"
   ]
  },
  {
   "cell_type": "code",
   "execution_count": 2,
   "metadata": {
    "collapsed": true
   },
   "outputs": [],
   "source": [
    "dataset = pd.read_csv('./houseInfo.csv')"
   ]
  },
  {
   "cell_type": "code",
   "execution_count": 3,
   "metadata": {
    "collapsed": true
   },
   "outputs": [],
   "source": [
    "a = dataset.ix[1, 'info_cluster']"
   ]
  },
  {
   "cell_type": "code",
   "execution_count": 4,
   "metadata": {
    "collapsed": false
   },
   "outputs": [
    {
     "data": {
      "text/html": [
       "<div>\n",
       "<style scoped>\n",
       "    .dataframe tbody tr th:only-of-type {\n",
       "        vertical-align: middle;\n",
       "    }\n",
       "\n",
       "    .dataframe tbody tr th {\n",
       "        vertical-align: top;\n",
       "    }\n",
       "\n",
       "    .dataframe thead th {\n",
       "        text-align: right;\n",
       "    }\n",
       "</style>\n",
       "<table border=\"1\" class=\"dataframe\">\n",
       "  <thead>\n",
       "    <tr style=\"text-align: right;\">\n",
       "      <th></th>\n",
       "      <th>introduction_house</th>\n",
       "      <th>community_house</th>\n",
       "      <th>href_house</th>\n",
       "      <th>unit_house</th>\n",
       "      <th>size_house</th>\n",
       "      <th>direction_house</th>\n",
       "      <th>decoration_house</th>\n",
       "      <th>elevator_house</th>\n",
       "      <th>type_house</th>\n",
       "      <th>years_house</th>\n",
       "      <th>area_house</th>\n",
       "      <th>interests_house</th>\n",
       "      <th>watch_times</th>\n",
       "      <th>submit_period</th>\n",
       "      <th>years_period</th>\n",
       "      <th>tax_free</th>\n",
       "      <th>total_price</th>\n",
       "      <th>smeter_price</th>\n",
       "      <th>region</th>\n",
       "      <th>info_cluster</th>\n",
       "      <th>info_flood</th>\n",
       "      <th>info_follow</th>\n",
       "    </tr>\n",
       "  </thead>\n",
       "  <tbody>\n",
       "    <tr>\n",
       "      <th>0</th>\n",
       "      <td>电梯花园洋房，开发商精装修带家具家电，小区人车分流</td>\n",
       "      <td>麓山国际帕萨迪纳3组</td>\n",
       "      <td>https://cd.lianjia.com/ershoufang/106101085290...</td>\n",
       "      <td>NaN</td>\n",
       "      <td>NaN</td>\n",
       "      <td>NaN</td>\n",
       "      <td>NaN</td>\n",
       "      <td>NaN</td>\n",
       "      <td>NaN</td>\n",
       "      <td>NaN</td>\n",
       "      <td>麓山</td>\n",
       "      <td>NaN</td>\n",
       "      <td>NaN</td>\n",
       "      <td>NaN</td>\n",
       "      <td>NaN</td>\n",
       "      <td>NaN</td>\n",
       "      <td>250.000</td>\n",
       "      <td>单价25492元/平米</td>\n",
       "      <td>cd</td>\n",
       "      <td>| 2室2厅 | 98.07平米 | 南 | 其他 | 有电梯</td>\n",
       "      <td>高楼层(共9层)2008年建板塔结合  -</td>\n",
       "      <td>3人关注 / 共0次带看 / 2个月以前发布</td>\n",
       "    </tr>\n",
       "    <tr>\n",
       "      <th>1</th>\n",
       "      <td>天府新区麓山国际跃层洋房纯清水出售</td>\n",
       "      <td>麓山国际塞尔维蒙</td>\n",
       "      <td>https://cd.lianjia.com/ershoufang/106101067528...</td>\n",
       "      <td>NaN</td>\n",
       "      <td>NaN</td>\n",
       "      <td>NaN</td>\n",
       "      <td>NaN</td>\n",
       "      <td>NaN</td>\n",
       "      <td>NaN</td>\n",
       "      <td>NaN</td>\n",
       "      <td>麓山</td>\n",
       "      <td>NaN</td>\n",
       "      <td>NaN</td>\n",
       "      <td>NaN</td>\n",
       "      <td>NaN</td>\n",
       "      <td>NaN</td>\n",
       "      <td>420.000</td>\n",
       "      <td>单价20389元/平米</td>\n",
       "      <td>cd</td>\n",
       "      <td>| 叠拼别墅 | 5室1厅 | 206平米 | 南 | 其他 | 无电梯</td>\n",
       "      <td>上叠(共4层)2008年建暂无数据  -</td>\n",
       "      <td>36人关注 / 共2次带看 / 2个月以前发布</td>\n",
       "    </tr>\n",
       "    <tr>\n",
       "      <th>2</th>\n",
       "      <td>麓山国际半月湾跃层，户型通透采光良好楼距开阔视野好</td>\n",
       "      <td>麓山国际半月湾</td>\n",
       "      <td>https://cd.lianjia.com/ershoufang/106101136261...</td>\n",
       "      <td>NaN</td>\n",
       "      <td>NaN</td>\n",
       "      <td>NaN</td>\n",
       "      <td>NaN</td>\n",
       "      <td>NaN</td>\n",
       "      <td>NaN</td>\n",
       "      <td>NaN</td>\n",
       "      <td>麓山</td>\n",
       "      <td>NaN</td>\n",
       "      <td>NaN</td>\n",
       "      <td>NaN</td>\n",
       "      <td>NaN</td>\n",
       "      <td>NaN</td>\n",
       "      <td>275.000</td>\n",
       "      <td>单价24512元/平米</td>\n",
       "      <td>cd</td>\n",
       "      <td>| 2室2厅 | 112.19平米 | 东南 | 其他</td>\n",
       "      <td>高楼层(共16层)2013年建板楼  -</td>\n",
       "      <td>43人关注 / 共1次带看 / 1个月以前发布</td>\n",
       "    </tr>\n",
       "    <tr>\n",
       "      <th>3</th>\n",
       "      <td>中丝园 装修 套三单卫 带车位 !</td>\n",
       "      <td>心怡中丝园</td>\n",
       "      <td>https://cd.lianjia.com/ershoufang/106101229408...</td>\n",
       "      <td>NaN</td>\n",
       "      <td>NaN</td>\n",
       "      <td>NaN</td>\n",
       "      <td>NaN</td>\n",
       "      <td>NaN</td>\n",
       "      <td>NaN</td>\n",
       "      <td>NaN</td>\n",
       "      <td>麓山</td>\n",
       "      <td>NaN</td>\n",
       "      <td>NaN</td>\n",
       "      <td>NaN</td>\n",
       "      <td>NaN</td>\n",
       "      <td>NaN</td>\n",
       "      <td>193.000</td>\n",
       "      <td>单价22043元/平米</td>\n",
       "      <td>cd</td>\n",
       "      <td>| 3室2厅 | 87.56平米 | 南 | 其他 | 有电梯</td>\n",
       "      <td>高楼层(共33层)2015年建板塔结合  -</td>\n",
       "      <td>1人关注 / 共0次带看 / 12天以前发布</td>\n",
       "    </tr>\n",
       "    <tr>\n",
       "      <th>4</th>\n",
       "      <td>麓山国际因特拉肯A区+套三双卫+对中庭+看湖带装修</td>\n",
       "      <td>麓山国际茵特拉肯A</td>\n",
       "      <td>https://cd.lianjia.com/ershoufang/106101233740...</td>\n",
       "      <td>NaN</td>\n",
       "      <td>NaN</td>\n",
       "      <td>NaN</td>\n",
       "      <td>NaN</td>\n",
       "      <td>NaN</td>\n",
       "      <td>NaN</td>\n",
       "      <td>NaN</td>\n",
       "      <td>麓山</td>\n",
       "      <td>NaN</td>\n",
       "      <td>NaN</td>\n",
       "      <td>NaN</td>\n",
       "      <td>NaN</td>\n",
       "      <td>NaN</td>\n",
       "      <td>300.000</td>\n",
       "      <td>单价23303元/平米</td>\n",
       "      <td>cd</td>\n",
       "      <td>| 3室2厅 | 128.74平米 | 西南 | 其他</td>\n",
       "      <td>中楼层(共11层)2016年建板楼  -</td>\n",
       "      <td>0人关注 / 共0次带看 / 10天以前发布</td>\n",
       "    </tr>\n",
       "  </tbody>\n",
       "</table>\n",
       "</div>"
      ],
      "text/plain": [
       "          introduction_house community_house  \\\n",
       "0  电梯花园洋房，开发商精装修带家具家电，小区人车分流     麓山国际帕萨迪纳3组    \n",
       "1          天府新区麓山国际跃层洋房纯清水出售       麓山国际塞尔维蒙    \n",
       "2  麓山国际半月湾跃层，户型通透采光良好楼距开阔视野好        麓山国际半月湾    \n",
       "3          中丝园 装修 套三单卫 带车位 !          心怡中丝园    \n",
       "4  麓山国际因特拉肯A区+套三双卫+对中庭+看湖带装修      麓山国际茵特拉肯A    \n",
       "\n",
       "                                          href_house unit_house size_house  \\\n",
       "0  https://cd.lianjia.com/ershoufang/106101085290...        NaN        NaN   \n",
       "1  https://cd.lianjia.com/ershoufang/106101067528...        NaN        NaN   \n",
       "2  https://cd.lianjia.com/ershoufang/106101136261...        NaN        NaN   \n",
       "3  https://cd.lianjia.com/ershoufang/106101229408...        NaN        NaN   \n",
       "4  https://cd.lianjia.com/ershoufang/106101233740...        NaN        NaN   \n",
       "\n",
       "  direction_house decoration_house elevator_house type_house years_house  \\\n",
       "0             NaN              NaN            NaN        NaN         NaN   \n",
       "1             NaN              NaN            NaN        NaN         NaN   \n",
       "2             NaN              NaN            NaN        NaN         NaN   \n",
       "3             NaN              NaN            NaN        NaN         NaN   \n",
       "4             NaN              NaN            NaN        NaN         NaN   \n",
       "\n",
       "  area_house interests_house watch_times submit_period years_period tax_free  \\\n",
       "0         麓山             NaN         NaN           NaN          NaN      NaN   \n",
       "1         麓山             NaN         NaN           NaN          NaN      NaN   \n",
       "2         麓山             NaN         NaN           NaN          NaN      NaN   \n",
       "3         麓山             NaN         NaN           NaN          NaN      NaN   \n",
       "4         麓山             NaN         NaN           NaN          NaN      NaN   \n",
       "\n",
       "   total_price smeter_price region                            info_cluster  \\\n",
       "0      250.000  单价25492元/平米     cd         | 2室2厅 | 98.07平米 | 南 | 其他 | 有电梯   \n",
       "1      420.000  单价20389元/平米     cd    | 叠拼别墅 | 5室1厅 | 206平米 | 南 | 其他 | 无电梯   \n",
       "2      275.000  单价24512元/平米     cd             | 2室2厅 | 112.19平米 | 东南 | 其他   \n",
       "3      193.000  单价22043元/平米     cd         | 3室2厅 | 87.56平米 | 南 | 其他 | 有电梯   \n",
       "4      300.000  单价23303元/平米     cd             | 3室2厅 | 128.74平米 | 西南 | 其他   \n",
       "\n",
       "                 info_flood              info_follow  \n",
       "0   高楼层(共9层)2008年建板塔结合  -     3人关注 / 共0次带看 / 2个月以前发布  \n",
       "1    上叠(共4层)2008年建暂无数据  -    36人关注 / 共2次带看 / 2个月以前发布  \n",
       "2    高楼层(共16层)2013年建板楼  -    43人关注 / 共1次带看 / 1个月以前发布  \n",
       "3  高楼层(共33层)2015年建板塔结合  -     1人关注 / 共0次带看 / 12天以前发布  \n",
       "4    中楼层(共11层)2016年建板楼  -     0人关注 / 共0次带看 / 10天以前发布  "
      ]
     },
     "execution_count": 4,
     "metadata": {},
     "output_type": "execute_result"
    }
   ],
   "source": [
    "dataset.head(5)"
   ]
  },
  {
   "cell_type": "markdown",
   "metadata": {},
   "source": [
    "### 数据探索：\n",
    "1. 查看数据集中的变量情况"
   ]
  },
  {
   "cell_type": "code",
   "execution_count": 5,
   "metadata": {
    "collapsed": false,
    "scrolled": true
   },
   "outputs": [
    {
     "name": "stdout",
     "output_type": "stream",
     "text": [
      "<class 'pandas.core.frame.DataFrame'>\n",
      "RangeIndex: 474301 entries, 0 to 474300\n",
      "Data columns (total 22 columns):\n",
      "introduction_house    474301 non-null object\n",
      "community_house       474301 non-null object\n",
      "href_house            474301 non-null object\n",
      "unit_house            38137 non-null object\n",
      "size_house            38137 non-null object\n",
      "direction_house       38137 non-null object\n",
      "decoration_house      38109 non-null object\n",
      "elevator_house        37093 non-null object\n",
      "type_house            38137 non-null object\n",
      "years_house           38100 non-null object\n",
      "area_house            474301 non-null object\n",
      "interests_house       38137 non-null object\n",
      "watch_times           38137 non-null object\n",
      "submit_period         38137 non-null object\n",
      "years_period          30543 non-null object\n",
      "tax_free              35260 non-null object\n",
      "total_price           474301 non-null float64\n",
      "smeter_price          474301 non-null object\n",
      "region                474301 non-null object\n",
      "info_cluster          436164 non-null object\n",
      "info_flood            436164 non-null object\n",
      "info_follow           436164 non-null object\n",
      "dtypes: float64(1), object(21)\n",
      "memory usage: 79.6+ MB\n"
     ]
    }
   ],
   "source": [
    "dataset.info()"
   ]
  },
  {
   "cell_type": "code",
   "execution_count": 6,
   "metadata": {
    "collapsed": false
   },
   "outputs": [
    {
     "data": {
      "text/html": [
       "<div>\n",
       "<style scoped>\n",
       "    .dataframe tbody tr th:only-of-type {\n",
       "        vertical-align: middle;\n",
       "    }\n",
       "\n",
       "    .dataframe tbody tr th {\n",
       "        vertical-align: top;\n",
       "    }\n",
       "\n",
       "    .dataframe thead th {\n",
       "        text-align: right;\n",
       "    }\n",
       "</style>\n",
       "<table border=\"1\" class=\"dataframe\">\n",
       "  <thead>\n",
       "    <tr style=\"text-align: right;\">\n",
       "      <th></th>\n",
       "      <th>total_price</th>\n",
       "    </tr>\n",
       "  </thead>\n",
       "  <tbody>\n",
       "    <tr>\n",
       "      <th>count</th>\n",
       "      <td>474301.000</td>\n",
       "    </tr>\n",
       "    <tr>\n",
       "      <th>mean</th>\n",
       "      <td>329.913</td>\n",
       "    </tr>\n",
       "    <tr>\n",
       "      <th>std</th>\n",
       "      <td>371.062</td>\n",
       "    </tr>\n",
       "    <tr>\n",
       "      <th>min</th>\n",
       "      <td>4.000</td>\n",
       "    </tr>\n",
       "    <tr>\n",
       "      <th>25%</th>\n",
       "      <td>143.000</td>\n",
       "    </tr>\n",
       "    <tr>\n",
       "      <th>50%</th>\n",
       "      <td>235.000</td>\n",
       "    </tr>\n",
       "    <tr>\n",
       "      <th>75%</th>\n",
       "      <td>390.000</td>\n",
       "    </tr>\n",
       "    <tr>\n",
       "      <th>max</th>\n",
       "      <td>60000.000</td>\n",
       "    </tr>\n",
       "  </tbody>\n",
       "</table>\n",
       "</div>"
      ],
      "text/plain": [
       "       total_price\n",
       "count   474301.000\n",
       "mean       329.913\n",
       "std        371.062\n",
       "min          4.000\n",
       "25%        143.000\n",
       "50%        235.000\n",
       "75%        390.000\n",
       "max      60000.000"
      ]
     },
     "execution_count": 6,
     "metadata": {},
     "output_type": "execute_result"
    }
   ],
   "source": [
    "dataset.describe()"
   ]
  },
  {
   "cell_type": "code",
   "execution_count": 7,
   "metadata": {
    "collapsed": false,
    "scrolled": true
   },
   "outputs": [
    {
     "name": "stdout",
     "output_type": "stream",
     "text": [
      "训练集特征前的size： (474301, 22)\n"
     ]
    }
   ],
   "source": [
    "# 检查数据维度\n",
    "print(\"训练集特征前的size：\",dataset.shape)\n"
   ]
  },
  {
   "cell_type": "markdown",
   "metadata": {},
   "source": [
    "### 数据处理：\n"
   ]
  },
  {
   "cell_type": "code",
   "execution_count": 8,
   "metadata": {
    "code_folding": [
     145
    ],
    "collapsed": true
   },
   "outputs": [],
   "source": [
    "def size_help_func(x):\n",
    "#     pattern = re.compile(r'\\d+')\n",
    "#     match = pattern.search(x) \n",
    "    x = str(x)\n",
    "    x = x.replace('平方米','')\n",
    "    x = x.replace('平米','')\n",
    "    x = x.replace('米','')\n",
    "    \n",
    "    if (('室' in x) | ('厅' in x)|(x=='nan')|('车位' in x)|('房' in x)|('墅' in x)):\n",
    "        num = 0\n",
    "    else:\n",
    "        num = float(x)\n",
    "\n",
    "#     if ('米' in (x))==True:\n",
    "#         x = x.replace('平米','')\n",
    "#         num = float(x.strip())\n",
    "        \n",
    "#     else:\n",
    "#         num = 0\n",
    "\n",
    "    return num\n",
    "\n",
    "def info_func(x):\n",
    "    \n",
    "    if '平米' in str(x):\n",
    "        a = x.split('平米')[0].split('|')[-1].strip()\n",
    "        if len(a)>1 :\n",
    "            num = a\n",
    "        else:\n",
    "            num = 0.0\n",
    "    else:\n",
    "        num = 0.0\n",
    "    return num\n",
    "    \n",
    "def size_func(x,y):\n",
    "    a = size_help_func(x)\n",
    "    b = info_func(y)\n",
    "    \n",
    "    if a == 0.0:\n",
    "        if ('车位' not in str(b)):\n",
    "            num = float(b)\n",
    "        else:\n",
    "            num = a\n",
    "    else:\n",
    "        num =a\n",
    "    \n",
    "    return num\n",
    "\n",
    "def size_addcata_func(a):\n",
    "#     a = watch_time_func(x)\n",
    "    if a <= 10:\n",
    "        label = str(1)\n",
    "    else:\n",
    "        label = str(0)\n",
    "    return label\n",
    "\n",
    "\n",
    "def watch_time_func(x):\n",
    "    if str(x) == 'nan':\n",
    "        num = -1\n",
    "    else:\n",
    "        a = x.split('次')[0].strip()\n",
    "        num = int(a)\n",
    "    return num\n",
    "\n",
    "def watch_time_addcata_func(x):\n",
    "#     a = watch_time_func(x)\n",
    "    if x == -1:\n",
    "        label = str(1)\n",
    "    else:\n",
    "        label = str(0)\n",
    "    return label\n",
    "\n",
    "def interests_house_func(x):\n",
    "    if str(x) == 'nan':\n",
    "        num = -1\n",
    "    else:\n",
    "        a = x.split('人')[0].strip()\n",
    "        num = int(a)\n",
    "    return num\n",
    "\n",
    "def interests_house_addcata_func(x):\n",
    "#     a = interests_house_func(x)\n",
    "    if x == -1:\n",
    "        label = str(1)\n",
    "    else:\n",
    "        label = str(0)\n",
    "    return label\n",
    "\n",
    "def submit_period_func(x):\n",
    "    if str(x) == 'nan':\n",
    "        num = -1\n",
    "    elif '刚刚' in str(x):\n",
    "        num = 0\n",
    "    elif '年' in str(x):\n",
    "        a = x.split('年')[0].strip()\n",
    "        if a == '一':\n",
    "            num = 365\n",
    "        elif a == '二':\n",
    "            num = 730\n",
    "        else:\n",
    "            num = 1000\n",
    "    elif '个月' in x:\n",
    "        a = x.split('个月')[0].strip()\n",
    "        num = int(a)* 30\n",
    "    elif '天' in x:\n",
    "        a = x.split('天')[0].strip()\n",
    "        num = int(a)\n",
    "    else:\n",
    "        num = -2\n",
    "    return num\n",
    "\n",
    "def submit_period_addcata_func(x):\n",
    "    a = submit_period_func(x)\n",
    "    if a == -2:\n",
    "        label = 3\n",
    "    elif a == -1:\n",
    "        label = 2\n",
    "    elif a == 1000:\n",
    "        label = 1\n",
    "    else:\n",
    "        label = 0\n",
    "    return str(label)\n",
    "\n",
    "def years_period_func(x):\n",
    "    if str(x) == 'nan':\n",
    "        label = str(0)\n",
    "    else:\n",
    "        label = str(1)\n",
    "    return label\n",
    "# def tax_free_func(x):\n",
    "#     if str(x) == 'nan':\n",
    "#         label = str(0)\n",
    "#     else:\n",
    "#         label = str(1)\n",
    "#     return label\n",
    "\n",
    "def smeter_price_func(x):\n",
    "    a = x.split('元')[0].replace('单价','')\n",
    "    if len(a) <= 3:\n",
    "        num = -1\n",
    "    else:\n",
    "        num = int(a)\n",
    "    return num\n",
    "\n",
    "def direction_func(x,y,z):\n",
    "    x = str(x)\n",
    "    y = str(y)\n",
    "    z = str(z)\n",
    "    dir_list = ['东','西','南','北']\n",
    "    if ((dir_list[0] in x)|(dir_list[1] in x)|(dir_list[2] in x)|(dir_list[3] in x)):\n",
    "        label = x\n",
    "    elif (dir_list[0] in y)|(dir_list[1] in y)|(dir_list[2] in y)|(dir_list[3] in y):\n",
    "        label = y\n",
    "    elif (dir_list[0] in z)|(dir_list[1] in z)|(dir_list[2] in z)|(dir_list[3] in z):\n",
    "        a = z.split('|')\n",
    "        for value in a:\n",
    "            if (dir_list[0] in value)|(dir_list[1] in value)|(dir_list[2] in value)|(dir_list[3] in value):\n",
    "                label = value\n",
    "            else:\n",
    "                label = 'nodata'\n",
    "    else:\n",
    "        label = 'nodata'\n",
    "    \n",
    "    return label\n",
    "\n",
    "def decoration_func(x,y,z):\n",
    "    x = str(x)\n",
    "    y = str(y)\n",
    "    z = str(z)\n",
    "    dir_list = ['精装', '其他', '毛坯', '简装']\n",
    "    if ((dir_list[0] in x)|(dir_list[1] in x)|(dir_list[2] in x)|(dir_list[3] in x)):\n",
    "        label = x.strip()\n",
    "    elif (dir_list[0] in y)|(dir_list[1] in y)|(dir_list[2] in y)|(dir_list[3] in y):\n",
    "        label = y.strip()\n",
    "    elif (dir_list[0] in z)|(dir_list[1] in z)|(dir_list[2] in z)|(dir_list[3] in z):\n",
    "        a = z.split('|')\n",
    "        for value in a:\n",
    "            if (dir_list[0] in value)|(dir_list[1] in value)|(dir_list[2] in value)|(dir_list[3] in value):\n",
    "                label = value.strip()\n",
    "            else:\n",
    "                label = 'nodata'\n",
    "    else:\n",
    "        label = 'nodata'\n",
    "        \n",
    "    return label\n",
    "\n",
    "def elevator_func(x,y,z):\n",
    "    '''\n",
    "    x-decoration_house\n",
    "    y-elevator_house\n",
    "    z-info_cluster\n",
    "    '''\n",
    "    x = str(x)\n",
    "    y = str(y)\n",
    "    z = str(z)\n",
    "    dir_list = ['有电梯', '无电梯']\n",
    "    if (dir_list[0] in x)|(dir_list[1] in x):\n",
    "        label = x.strip()\n",
    "    elif (dir_list[0] in y)|(dir_list[1] in y):\n",
    "        label = y.strip()\n",
    "    elif (dir_list[0] in z)|(dir_list[1] in z):\n",
    "        a = z.split('|')\n",
    "        for value in a:\n",
    "            if (dir_list[0] in value)|(dir_list[1] in value):\n",
    "                label = value.strip()\n",
    "            else:\n",
    "                label = 'nodata'\n",
    "    else:\n",
    "        label = 'nodata'\n",
    "    return label\n",
    "\n",
    "def floor_type_func(x):\n",
    "    x = str(x)\n",
    "    if '共' in x:\n",
    "        a = x.split('(')[0]\n",
    "        label = a\n",
    "    elif '层' in x:\n",
    "        a = x.split('层')[0]\n",
    "        a = int(a)\n",
    "        if a <=1:\n",
    "            label = '底层'\n",
    "        elif (a >1)|(a<6):\n",
    "            label = '低楼层'\n",
    "        elif (a >=6)|(a<15):\n",
    "            label = '中楼层'\n",
    "        else:\n",
    "            label = '高楼层'\n",
    "    elif '平房' in x:\n",
    "        label = '底层'\n",
    "    elif x == 'nan':\n",
    "        label = 'nodata'\n",
    "    else:\n",
    "        label = 'nodata'\n",
    "    return label\n",
    "\n",
    "def years_house_type_func(x,y):\n",
    "    x = str(x)\n",
    "    y = str(y)\n",
    "    type_list = ['板塔','板','塔','平房','叠']\n",
    "    if (type_list[0] in x)|(type_list[0] in y):\n",
    "        label = '板塔'\n",
    "    elif (type_list[1] in x)|(type_list[1] in y):\n",
    "        label = '板'\n",
    "    elif (type_list[2] in x)|(type_list[2] in y):\n",
    "        label = '塔'\n",
    "    elif (type_list[3] in x)|(type_list[3] in y):\n",
    "        label = '平房'\n",
    "    elif (type_list[4] in x)|(type_list[4] in y):\n",
    "        label = '别墅'\n",
    "    else:\n",
    "        label = 'nodata'\n",
    "    return label\n",
    "\n",
    "def years_house_year_func(x,y):\n",
    "    x = str(x)\n",
    "    y = str(y)\n",
    "    if ('年' in x):\n",
    "        a = x.split('年')[0].replace('\\'','').strip()\n",
    "        num = int(a)\n",
    "    elif ('年' in y):\n",
    "        a = y.split('年')[0].replace('\\'','').strip()\n",
    "        num = int(a)\n",
    "    else:\n",
    "        num = None\n",
    "        \n",
    "    return num\n",
    "\n",
    "\n"
   ]
  },
  {
   "cell_type": "code",
   "execution_count": 9,
   "metadata": {
    "collapsed": false
   },
   "outputs": [
    {
     "data": {
      "text/plain": [
       "Index(['introduction_house', 'community_house', 'href_house', 'unit_house',\n",
       "       'size_house', 'direction_house', 'decoration_house', 'elevator_house',\n",
       "       'type_house', 'years_house', 'area_house', 'interests_house',\n",
       "       'watch_times', 'submit_period', 'years_period', 'tax_free',\n",
       "       'total_price', 'smeter_price', 'region', 'info_cluster', 'info_flood',\n",
       "       'info_follow'],\n",
       "      dtype='object')"
      ]
     },
     "execution_count": 9,
     "metadata": {},
     "output_type": "execute_result"
    }
   ],
   "source": [
    "dataset.columns"
   ]
  },
  {
   "cell_type": "code",
   "execution_count": 10,
   "metadata": {
    "collapsed": false
   },
   "outputs": [
    {
     "data": {
      "text/plain": [
       "0        -1\n",
       "1        -1\n",
       "2        -1\n",
       "3        -1\n",
       "4        -1\n",
       "5        -1\n",
       "6        -1\n",
       "7        -1\n",
       "8        -1\n",
       "9        -1\n",
       "10       -1\n",
       "11       -1\n",
       "12       -1\n",
       "13       -1\n",
       "14       -1\n",
       "15       -1\n",
       "16       -1\n",
       "17       -1\n",
       "18       -1\n",
       "19       -1\n",
       "20       -1\n",
       "21       -1\n",
       "22       -1\n",
       "23       -1\n",
       "24       -1\n",
       "25       -1\n",
       "26       -1\n",
       "27       -1\n",
       "28       -1\n",
       "29       -1\n",
       "         ..\n",
       "474271   -1\n",
       "474272   -1\n",
       "474273   -1\n",
       "474274   -1\n",
       "474275   -1\n",
       "474276   -1\n",
       "474277   -1\n",
       "474278   -1\n",
       "474279   -1\n",
       "474280   -1\n",
       "474281   -1\n",
       "474282   -1\n",
       "474283   -1\n",
       "474284   -1\n",
       "474285   -1\n",
       "474286   -1\n",
       "474287   -1\n",
       "474288   -1\n",
       "474289   -1\n",
       "474290   -1\n",
       "474291   -1\n",
       "474292   -1\n",
       "474293   -1\n",
       "474294   -1\n",
       "474295   -1\n",
       "474296   -1\n",
       "474297   -1\n",
       "474298   -1\n",
       "474299   -1\n",
       "474300   -1\n",
       "Name: submit_period, Length: 474301, dtype: int64"
      ]
     },
     "execution_count": 10,
     "metadata": {},
     "output_type": "execute_result"
    }
   ],
   "source": [
    "dataset['submit_period'].apply(submit_period_func)"
   ]
  },
  {
   "cell_type": "code",
   "execution_count": 11,
   "metadata": {
    "collapsed": true
   },
   "outputs": [],
   "source": [
    "dataset['years_house_year_edit1'] = list(map(lambda x, y: years_house_year_func(x,y), dataset['type_house'],dataset['years_house']))\n"
   ]
  },
  {
   "cell_type": "code",
   "execution_count": 12,
   "metadata": {
    "collapsed": true
   },
   "outputs": [],
   "source": [
    "dataset['size_house_edit1'] = list(map(lambda x, y: size_func(x,y), dataset['unit_house'],dataset['info_cluster']))\n",
    "dataset['size_house_edit1_addcata'] = dataset['size_house_edit1'].apply(size_addcata_func)\n",
    "\n",
    "dataset['watch_time_edit1'] = dataset['watch_times'].apply(watch_time_func)\n",
    "dataset['watch_time_edit1_addcata'] = dataset['watch_time_edit1'].apply(watch_time_addcata_func)\n",
    "\n",
    "dataset['interests_house_edit1'] = dataset['interests_house'].apply(interests_house_func)\n",
    "dataset['interests_house_edit1_addcata'] = dataset['interests_house_edit1'].apply(interests_house_addcata_func)\n",
    "\n",
    "dataset['submit_period_edit1'] = dataset['submit_period'].apply(submit_period_func)\n",
    "dataset['submit_period_edit1_addcata'] = dataset['submit_period'].apply(submit_period_addcata_func)\n",
    "dataset['years_period_edit1'] = dataset['years_period'].apply(years_period_func)\n",
    "dataset['tax_free_edit1'] = dataset['tax_free'].apply(years_period_func)\n",
    "\n",
    "dataset['smeter_price_edit1'] = dataset['smeter_price'].apply(smeter_price_func)\n",
    "\n",
    "dataset['direction_edit1'] = list(map(lambda x, y, z: direction_func(x,y,z), dataset['direction_house'],dataset['decoration_house'],dataset['info_cluster']))\n",
    "dataset['decoration_edit1'] = list(map(lambda x, y, z: decoration_func(x,y,z), dataset['direction_house'],dataset['decoration_house'],dataset['info_cluster']))\n",
    "dataset['elevator_edit1'] = list(map(lambda x, y, z: elevator_func(x,y,z), dataset['decoration_house'],dataset['elevator_house'],dataset['info_cluster']))\n",
    "\n",
    "dataset['type_house_edit1'] = dataset['type_house'].apply(floor_type_func)\n",
    "dataset['years_house_type_edit1'] = list(map(lambda x, y: years_house_type_func(x,y), dataset['type_house'],dataset['years_house']))\n",
    "dataset['years_house_year_edit1'] = list(map(lambda x, y: years_house_year_func(x,y), dataset['type_house'],dataset['years_house']))\n"
   ]
  },
  {
   "cell_type": "code",
   "execution_count": 13,
   "metadata": {
    "collapsed": false
   },
   "outputs": [
    {
     "name": "stdout",
     "output_type": "stream",
     "text": [
      "房屋小区类型： 55148\n",
      "房屋户型： 77\n",
      "房屋面积： max: 12017.0 min: 0.0 空值： 67263\n",
      "房屋朝向： 203\n",
      "看房次数： max: 851 min: -1 空值： 436164\n",
      "收藏次数： max: 2701 min: -1 空值： 436164\n",
      "多久前发布： max: 365 min: -1 空值： 436164\n",
      "多久前发布的类型： 2\n",
      "2年产权类型： 2\n",
      "5年产权类型： 2\n",
      "总价： max: 60000.0 min: 4.0 空值： 0\n",
      "总价： max: 199984 min: -1 空值： 2\n"
     ]
    }
   ],
   "source": [
    "print('房屋小区类型：', len(dataset['community_house'].unique()));\n",
    "\n",
    "print('房屋户型：', len(dataset['unit_house'].unique()))\n",
    "\n",
    "print('房屋面积：', 'max:',max(dataset['size_house_edit1'].unique()),\n",
    "      'min:',min(dataset['size_house_edit1'].unique()),\n",
    "      '空值：',len(dataset[dataset['size_house_edit1']==0.]))\n",
    "\n",
    "print('房屋朝向：', len(dataset['direction_house'].unique()))\n",
    "\n",
    "print('看房次数：', 'max:',max(dataset['watch_time_edit1'].unique()),\n",
    "      'min:',min(dataset['watch_time_edit1'].unique()),\n",
    "      '空值：',len(dataset[dataset['watch_time_edit1']==-1]))\n",
    "\n",
    "print('收藏次数：', 'max:',max(dataset['interests_house_edit1'].unique()),\n",
    "      'min:',min(dataset['interests_house_edit1'].unique()),\n",
    "      '空值：',len(dataset[dataset['interests_house_edit1']==-1]))\n",
    "\n",
    "print('多久前发布：', 'max:',max(dataset['submit_period_edit1'].unique()),\n",
    "      'min:',min(dataset['submit_period_edit1'].unique()),\n",
    "      '空值：',len(dataset[dataset['submit_period_edit1']==-1]))\n",
    "\n",
    "print('多久前发布的类型：', len(dataset['submit_period_edit1_addcata'].unique()))\n",
    "print('2年产权类型：', len(dataset['years_period_edit1'].unique()))\n",
    "print('5年产权类型：', len(dataset['tax_free_edit1'].unique()))\n",
    "\n",
    "print('总价：', 'max:',max(dataset['total_price'].unique()),\n",
    "      'min:',min(dataset['total_price'].unique()),\n",
    "      '空值：',len(dataset[dataset['total_price']==-1]))\n",
    "\n",
    "print('单位价钱：', 'max:',max(dataset['smeter_price_edit1'].unique()),\n",
    "      'min:',min(dataset['smeter_price_edit1'].unique()),\n",
    "      '空值：',len(dataset[dataset['smeter_price_edit1']==-1]))\n"
   ]
  },
  {
   "cell_type": "code",
   "execution_count": 14,
   "metadata": {
    "collapsed": false
   },
   "outputs": [
    {
     "data": {
      "text/html": [
       "<div>\n",
       "<style scoped>\n",
       "    .dataframe tbody tr th:only-of-type {\n",
       "        vertical-align: middle;\n",
       "    }\n",
       "\n",
       "    .dataframe tbody tr th {\n",
       "        vertical-align: top;\n",
       "    }\n",
       "\n",
       "    .dataframe thead th {\n",
       "        text-align: right;\n",
       "    }\n",
       "</style>\n",
       "<table border=\"1\" class=\"dataframe\">\n",
       "  <thead>\n",
       "    <tr style=\"text-align: right;\">\n",
       "      <th></th>\n",
       "      <th>info_cluster</th>\n",
       "      <th>direction_house</th>\n",
       "      <th>decoration_house</th>\n",
       "      <th>info_flood</th>\n",
       "    </tr>\n",
       "  </thead>\n",
       "  <tbody>\n",
       "    <tr>\n",
       "      <th>337737</th>\n",
       "      <td>NaN</td>\n",
       "      <td>东 南 西 北</td>\n",
       "      <td>精装</td>\n",
       "      <td>NaN</td>\n",
       "    </tr>\n",
       "    <tr>\n",
       "      <th>342204</th>\n",
       "      <td>NaN</td>\n",
       "      <td>东 南 西 北</td>\n",
       "      <td>其他</td>\n",
       "      <td>NaN</td>\n",
       "    </tr>\n",
       "    <tr>\n",
       "      <th>342205</th>\n",
       "      <td>NaN</td>\n",
       "      <td>东 南 西 北</td>\n",
       "      <td>毛坯</td>\n",
       "      <td>NaN</td>\n",
       "    </tr>\n",
       "    <tr>\n",
       "      <th>342234</th>\n",
       "      <td>NaN</td>\n",
       "      <td>东 南 西 北</td>\n",
       "      <td>精装</td>\n",
       "      <td>NaN</td>\n",
       "    </tr>\n",
       "    <tr>\n",
       "      <th>353429</th>\n",
       "      <td>NaN</td>\n",
       "      <td>东 南 西 北</td>\n",
       "      <td>有电梯</td>\n",
       "      <td>NaN</td>\n",
       "    </tr>\n",
       "    <tr>\n",
       "      <th>353431</th>\n",
       "      <td>NaN</td>\n",
       "      <td>东 南 西 北</td>\n",
       "      <td>有电梯</td>\n",
       "      <td>NaN</td>\n",
       "    </tr>\n",
       "    <tr>\n",
       "      <th>353447</th>\n",
       "      <td>NaN</td>\n",
       "      <td>东 南 西 北</td>\n",
       "      <td>无电梯</td>\n",
       "      <td>NaN</td>\n",
       "    </tr>\n",
       "    <tr>\n",
       "      <th>354963</th>\n",
       "      <td>NaN</td>\n",
       "      <td>东 南 西 北</td>\n",
       "      <td>精装</td>\n",
       "      <td>NaN</td>\n",
       "    </tr>\n",
       "    <tr>\n",
       "      <th>354965</th>\n",
       "      <td>NaN</td>\n",
       "      <td>东 南 西 北</td>\n",
       "      <td>精装</td>\n",
       "      <td>NaN</td>\n",
       "    </tr>\n",
       "    <tr>\n",
       "      <th>359978</th>\n",
       "      <td>NaN</td>\n",
       "      <td>东 南 西 北</td>\n",
       "      <td>精装</td>\n",
       "      <td>NaN</td>\n",
       "    </tr>\n",
       "    <tr>\n",
       "      <th>360325</th>\n",
       "      <td>NaN</td>\n",
       "      <td>东 南 西 北</td>\n",
       "      <td>精装</td>\n",
       "      <td>NaN</td>\n",
       "    </tr>\n",
       "    <tr>\n",
       "      <th>360482</th>\n",
       "      <td>NaN</td>\n",
       "      <td>东 南 西 北</td>\n",
       "      <td>精装</td>\n",
       "      <td>NaN</td>\n",
       "    </tr>\n",
       "    <tr>\n",
       "      <th>365587</th>\n",
       "      <td>NaN</td>\n",
       "      <td>东 南 西 北</td>\n",
       "      <td>其他</td>\n",
       "      <td>NaN</td>\n",
       "    </tr>\n",
       "    <tr>\n",
       "      <th>365752</th>\n",
       "      <td>NaN</td>\n",
       "      <td>东 南 西 北</td>\n",
       "      <td>简装</td>\n",
       "      <td>NaN</td>\n",
       "    </tr>\n",
       "    <tr>\n",
       "      <th>366365</th>\n",
       "      <td>NaN</td>\n",
       "      <td>东 南 西 北</td>\n",
       "      <td>简装</td>\n",
       "      <td>NaN</td>\n",
       "    </tr>\n",
       "    <tr>\n",
       "      <th>367228</th>\n",
       "      <td>NaN</td>\n",
       "      <td>东 南 西 北</td>\n",
       "      <td>其他</td>\n",
       "      <td>NaN</td>\n",
       "    </tr>\n",
       "    <tr>\n",
       "      <th>371544</th>\n",
       "      <td>NaN</td>\n",
       "      <td>东 南 西 北</td>\n",
       "      <td>精装</td>\n",
       "      <td>NaN</td>\n",
       "    </tr>\n",
       "    <tr>\n",
       "      <th>371572</th>\n",
       "      <td>NaN</td>\n",
       "      <td>东 南 西 北</td>\n",
       "      <td>毛坯</td>\n",
       "      <td>NaN</td>\n",
       "    </tr>\n",
       "    <tr>\n",
       "      <th>371614</th>\n",
       "      <td>NaN</td>\n",
       "      <td>东 南 西 北</td>\n",
       "      <td>精装</td>\n",
       "      <td>NaN</td>\n",
       "    </tr>\n",
       "    <tr>\n",
       "      <th>371670</th>\n",
       "      <td>NaN</td>\n",
       "      <td>东 南 西 北</td>\n",
       "      <td>精装</td>\n",
       "      <td>NaN</td>\n",
       "    </tr>\n",
       "    <tr>\n",
       "      <th>371926</th>\n",
       "      <td>NaN</td>\n",
       "      <td>东 南 西 北</td>\n",
       "      <td>简装</td>\n",
       "      <td>NaN</td>\n",
       "    </tr>\n",
       "    <tr>\n",
       "      <th>371928</th>\n",
       "      <td>NaN</td>\n",
       "      <td>东 南 西 北</td>\n",
       "      <td>其他</td>\n",
       "      <td>NaN</td>\n",
       "    </tr>\n",
       "    <tr>\n",
       "      <th>371951</th>\n",
       "      <td>NaN</td>\n",
       "      <td>东 南 西 北</td>\n",
       "      <td>精装</td>\n",
       "      <td>NaN</td>\n",
       "    </tr>\n",
       "    <tr>\n",
       "      <th>371971</th>\n",
       "      <td>NaN</td>\n",
       "      <td>东 南 西 北</td>\n",
       "      <td>精装</td>\n",
       "      <td>NaN</td>\n",
       "    </tr>\n",
       "    <tr>\n",
       "      <th>371972</th>\n",
       "      <td>NaN</td>\n",
       "      <td>东 南 西 北</td>\n",
       "      <td>精装</td>\n",
       "      <td>NaN</td>\n",
       "    </tr>\n",
       "    <tr>\n",
       "      <th>372001</th>\n",
       "      <td>NaN</td>\n",
       "      <td>东 南 西 北</td>\n",
       "      <td>精装</td>\n",
       "      <td>NaN</td>\n",
       "    </tr>\n",
       "    <tr>\n",
       "      <th>372042</th>\n",
       "      <td>NaN</td>\n",
       "      <td>东 南 西 北</td>\n",
       "      <td>毛坯</td>\n",
       "      <td>NaN</td>\n",
       "    </tr>\n",
       "    <tr>\n",
       "      <th>372058</th>\n",
       "      <td>NaN</td>\n",
       "      <td>东 南 西 北</td>\n",
       "      <td>精装</td>\n",
       "      <td>NaN</td>\n",
       "    </tr>\n",
       "    <tr>\n",
       "      <th>372074</th>\n",
       "      <td>NaN</td>\n",
       "      <td>东 南 西 北</td>\n",
       "      <td>毛坯</td>\n",
       "      <td>NaN</td>\n",
       "    </tr>\n",
       "    <tr>\n",
       "      <th>372087</th>\n",
       "      <td>NaN</td>\n",
       "      <td>东 南 西 北</td>\n",
       "      <td>精装</td>\n",
       "      <td>NaN</td>\n",
       "    </tr>\n",
       "    <tr>\n",
       "      <th>...</th>\n",
       "      <td>...</td>\n",
       "      <td>...</td>\n",
       "      <td>...</td>\n",
       "      <td>...</td>\n",
       "    </tr>\n",
       "    <tr>\n",
       "      <th>457320</th>\n",
       "      <td>NaN</td>\n",
       "      <td>东 南 西 北</td>\n",
       "      <td>精装</td>\n",
       "      <td>NaN</td>\n",
       "    </tr>\n",
       "    <tr>\n",
       "      <th>457803</th>\n",
       "      <td>NaN</td>\n",
       "      <td>东 南 西 北</td>\n",
       "      <td>简装</td>\n",
       "      <td>NaN</td>\n",
       "    </tr>\n",
       "    <tr>\n",
       "      <th>458709</th>\n",
       "      <td>NaN</td>\n",
       "      <td>东 南 西 北</td>\n",
       "      <td>简装</td>\n",
       "      <td>NaN</td>\n",
       "    </tr>\n",
       "    <tr>\n",
       "      <th>458729</th>\n",
       "      <td>NaN</td>\n",
       "      <td>东 南 西 北</td>\n",
       "      <td>简装</td>\n",
       "      <td>NaN</td>\n",
       "    </tr>\n",
       "    <tr>\n",
       "      <th>458986</th>\n",
       "      <td>NaN</td>\n",
       "      <td>东 南 西 北</td>\n",
       "      <td>精装</td>\n",
       "      <td>NaN</td>\n",
       "    </tr>\n",
       "    <tr>\n",
       "      <th>459079</th>\n",
       "      <td>NaN</td>\n",
       "      <td>东 南 西 北</td>\n",
       "      <td>精装</td>\n",
       "      <td>NaN</td>\n",
       "    </tr>\n",
       "    <tr>\n",
       "      <th>459329</th>\n",
       "      <td>NaN</td>\n",
       "      <td>东 南 西 北</td>\n",
       "      <td>有电梯</td>\n",
       "      <td>NaN</td>\n",
       "    </tr>\n",
       "    <tr>\n",
       "      <th>461873</th>\n",
       "      <td>NaN</td>\n",
       "      <td>东 南 西 北</td>\n",
       "      <td>精装</td>\n",
       "      <td>NaN</td>\n",
       "    </tr>\n",
       "    <tr>\n",
       "      <th>462182</th>\n",
       "      <td>NaN</td>\n",
       "      <td>东 南 西 北</td>\n",
       "      <td>简装</td>\n",
       "      <td>NaN</td>\n",
       "    </tr>\n",
       "    <tr>\n",
       "      <th>463843</th>\n",
       "      <td>NaN</td>\n",
       "      <td>东 南 西 北</td>\n",
       "      <td>其他</td>\n",
       "      <td>NaN</td>\n",
       "    </tr>\n",
       "    <tr>\n",
       "      <th>464149</th>\n",
       "      <td>NaN</td>\n",
       "      <td>东 南 西 北</td>\n",
       "      <td>精装</td>\n",
       "      <td>NaN</td>\n",
       "    </tr>\n",
       "    <tr>\n",
       "      <th>464420</th>\n",
       "      <td>NaN</td>\n",
       "      <td>东 南 西 北</td>\n",
       "      <td>毛坯</td>\n",
       "      <td>NaN</td>\n",
       "    </tr>\n",
       "    <tr>\n",
       "      <th>466154</th>\n",
       "      <td>NaN</td>\n",
       "      <td>东 南 西 北</td>\n",
       "      <td>简装</td>\n",
       "      <td>NaN</td>\n",
       "    </tr>\n",
       "    <tr>\n",
       "      <th>466251</th>\n",
       "      <td>NaN</td>\n",
       "      <td>东 南 西 北</td>\n",
       "      <td>精装</td>\n",
       "      <td>NaN</td>\n",
       "    </tr>\n",
       "    <tr>\n",
       "      <th>466384</th>\n",
       "      <td>NaN</td>\n",
       "      <td>东 南 西 北</td>\n",
       "      <td>精装</td>\n",
       "      <td>NaN</td>\n",
       "    </tr>\n",
       "    <tr>\n",
       "      <th>466511</th>\n",
       "      <td>NaN</td>\n",
       "      <td>东 南 西 北</td>\n",
       "      <td>精装</td>\n",
       "      <td>NaN</td>\n",
       "    </tr>\n",
       "    <tr>\n",
       "      <th>466682</th>\n",
       "      <td>NaN</td>\n",
       "      <td>东 南 西 北</td>\n",
       "      <td>精装</td>\n",
       "      <td>NaN</td>\n",
       "    </tr>\n",
       "    <tr>\n",
       "      <th>467575</th>\n",
       "      <td>NaN</td>\n",
       "      <td>东 南 西 北</td>\n",
       "      <td>简装</td>\n",
       "      <td>NaN</td>\n",
       "    </tr>\n",
       "    <tr>\n",
       "      <th>467610</th>\n",
       "      <td>NaN</td>\n",
       "      <td>东 南 西 北</td>\n",
       "      <td>精装</td>\n",
       "      <td>NaN</td>\n",
       "    </tr>\n",
       "    <tr>\n",
       "      <th>468418</th>\n",
       "      <td>NaN</td>\n",
       "      <td>东 南 西 北</td>\n",
       "      <td>简装</td>\n",
       "      <td>NaN</td>\n",
       "    </tr>\n",
       "    <tr>\n",
       "      <th>468430</th>\n",
       "      <td>NaN</td>\n",
       "      <td>东 南 西 北</td>\n",
       "      <td>简装</td>\n",
       "      <td>NaN</td>\n",
       "    </tr>\n",
       "    <tr>\n",
       "      <th>468437</th>\n",
       "      <td>NaN</td>\n",
       "      <td>东 南 西 北</td>\n",
       "      <td>精装</td>\n",
       "      <td>NaN</td>\n",
       "    </tr>\n",
       "    <tr>\n",
       "      <th>468438</th>\n",
       "      <td>NaN</td>\n",
       "      <td>东 南 西 北</td>\n",
       "      <td>精装</td>\n",
       "      <td>NaN</td>\n",
       "    </tr>\n",
       "    <tr>\n",
       "      <th>468472</th>\n",
       "      <td>NaN</td>\n",
       "      <td>东 南 西 北</td>\n",
       "      <td>其他</td>\n",
       "      <td>NaN</td>\n",
       "    </tr>\n",
       "    <tr>\n",
       "      <th>468798</th>\n",
       "      <td>NaN</td>\n",
       "      <td>东 南 西 北</td>\n",
       "      <td>精装</td>\n",
       "      <td>NaN</td>\n",
       "    </tr>\n",
       "    <tr>\n",
       "      <th>470970</th>\n",
       "      <td>NaN</td>\n",
       "      <td>东 南 西 北</td>\n",
       "      <td>简装</td>\n",
       "      <td>NaN</td>\n",
       "    </tr>\n",
       "    <tr>\n",
       "      <th>471830</th>\n",
       "      <td>NaN</td>\n",
       "      <td>东 南 西 北</td>\n",
       "      <td>简装</td>\n",
       "      <td>NaN</td>\n",
       "    </tr>\n",
       "    <tr>\n",
       "      <th>471920</th>\n",
       "      <td>NaN</td>\n",
       "      <td>东 南 西 北</td>\n",
       "      <td>精装</td>\n",
       "      <td>NaN</td>\n",
       "    </tr>\n",
       "    <tr>\n",
       "      <th>472977</th>\n",
       "      <td>NaN</td>\n",
       "      <td>东 南 西 北</td>\n",
       "      <td>精装</td>\n",
       "      <td>NaN</td>\n",
       "    </tr>\n",
       "    <tr>\n",
       "      <th>473544</th>\n",
       "      <td>NaN</td>\n",
       "      <td>东 南 西 北</td>\n",
       "      <td>精装</td>\n",
       "      <td>NaN</td>\n",
       "    </tr>\n",
       "  </tbody>\n",
       "</table>\n",
       "<p>130 rows × 4 columns</p>\n",
       "</div>"
      ],
      "text/plain": [
       "       info_cluster direction_house decoration_house info_flood\n",
       "337737          NaN         东 南 西 北               精装        NaN\n",
       "342204          NaN         东 南 西 北               其他        NaN\n",
       "342205          NaN         东 南 西 北               毛坯        NaN\n",
       "342234          NaN         东 南 西 北               精装        NaN\n",
       "353429          NaN         东 南 西 北              有电梯        NaN\n",
       "353431          NaN         东 南 西 北              有电梯        NaN\n",
       "353447          NaN         东 南 西 北              无电梯        NaN\n",
       "354963          NaN         东 南 西 北               精装        NaN\n",
       "354965          NaN         东 南 西 北               精装        NaN\n",
       "359978          NaN         东 南 西 北               精装        NaN\n",
       "360325          NaN         东 南 西 北               精装        NaN\n",
       "360482          NaN         东 南 西 北               精装        NaN\n",
       "365587          NaN         东 南 西 北               其他        NaN\n",
       "365752          NaN         东 南 西 北               简装        NaN\n",
       "366365          NaN         东 南 西 北               简装        NaN\n",
       "367228          NaN         东 南 西 北               其他        NaN\n",
       "371544          NaN         东 南 西 北               精装        NaN\n",
       "371572          NaN         东 南 西 北               毛坯        NaN\n",
       "371614          NaN         东 南 西 北               精装        NaN\n",
       "371670          NaN         东 南 西 北               精装        NaN\n",
       "371926          NaN         东 南 西 北               简装        NaN\n",
       "371928          NaN         东 南 西 北               其他        NaN\n",
       "371951          NaN         东 南 西 北               精装        NaN\n",
       "371971          NaN         东 南 西 北               精装        NaN\n",
       "371972          NaN         东 南 西 北               精装        NaN\n",
       "372001          NaN         东 南 西 北               精装        NaN\n",
       "372042          NaN         东 南 西 北               毛坯        NaN\n",
       "372058          NaN         东 南 西 北               精装        NaN\n",
       "372074          NaN         东 南 西 北               毛坯        NaN\n",
       "372087          NaN         东 南 西 北               精装        NaN\n",
       "...             ...             ...              ...        ...\n",
       "457320          NaN         东 南 西 北               精装        NaN\n",
       "457803          NaN         东 南 西 北               简装        NaN\n",
       "458709          NaN         东 南 西 北               简装        NaN\n",
       "458729          NaN         东 南 西 北               简装        NaN\n",
       "458986          NaN         东 南 西 北               精装        NaN\n",
       "459079          NaN         东 南 西 北               精装        NaN\n",
       "459329          NaN         东 南 西 北              有电梯        NaN\n",
       "461873          NaN         东 南 西 北               精装        NaN\n",
       "462182          NaN         东 南 西 北               简装        NaN\n",
       "463843          NaN         东 南 西 北               其他        NaN\n",
       "464149          NaN         东 南 西 北               精装        NaN\n",
       "464420          NaN         东 南 西 北               毛坯        NaN\n",
       "466154          NaN         东 南 西 北               简装        NaN\n",
       "466251          NaN         东 南 西 北               精装        NaN\n",
       "466384          NaN         东 南 西 北               精装        NaN\n",
       "466511          NaN         东 南 西 北               精装        NaN\n",
       "466682          NaN         东 南 西 北               精装        NaN\n",
       "467575          NaN         东 南 西 北               简装        NaN\n",
       "467610          NaN         东 南 西 北               精装        NaN\n",
       "468418          NaN         东 南 西 北               简装        NaN\n",
       "468430          NaN         东 南 西 北               简装        NaN\n",
       "468437          NaN         东 南 西 北               精装        NaN\n",
       "468438          NaN         东 南 西 北               精装        NaN\n",
       "468472          NaN         东 南 西 北               其他        NaN\n",
       "468798          NaN         东 南 西 北               精装        NaN\n",
       "470970          NaN         东 南 西 北               简装        NaN\n",
       "471830          NaN         东 南 西 北               简装        NaN\n",
       "471920          NaN         东 南 西 北               精装        NaN\n",
       "472977          NaN         东 南 西 北               精装        NaN\n",
       "473544          NaN         东 南 西 北               精装        NaN\n",
       "\n",
       "[130 rows x 4 columns]"
      ]
     },
     "execution_count": 14,
     "metadata": {},
     "output_type": "execute_result"
    }
   ],
   "source": [
    "dataset[dataset['direction_house']=='东 南 西 北'][['info_cluster','direction_house','decoration_house','info_flood']]"
   ]
  },
  {
   "cell_type": "code",
   "execution_count": 15,
   "metadata": {
    "collapsed": false
   },
   "outputs": [
    {
     "data": {
      "text/plain": [
       "array(['高楼层(共9层)2008年建板塔结合  -  ', '上叠(共4层)2008年建暂无数据  -  ',\n",
       "       '高楼层(共16层)2013年建板楼  -  ', ..., '低楼层(共4层)2009年建塔楼  -  ',\n",
       "       '中楼层(共38层)2015年建塔楼  -  ', '1层2005年建塔楼  -  '], dtype=object)"
      ]
     },
     "execution_count": 15,
     "metadata": {},
     "output_type": "execute_result"
    }
   ],
   "source": [
    "dataset['info_flood'].unique()"
   ]
  },
  {
   "cell_type": "code",
   "execution_count": 16,
   "metadata": {
    "collapsed": false
   },
   "outputs": [
    {
     "data": {
      "text/plain": [
       "array([nan, '2层', '顶层(共6层)', '底层(共2层)', '高楼层(共6层)', '中楼层(共17层)',\n",
       "       '顶层(共9层)', '低楼层(共16层)', '高楼层(共16层)', '高楼层(共7层)', '低楼层(共3层)', '3层',\n",
       "       '中楼层(共5层)', '底层(共9层)', '中楼层(共10层)', '中楼层(共4层)', '中楼层(共6层)',\n",
       "       '底层(共3层)', '5层', '底层(共1层)', '顶层(共3层)', '高楼层(共15层)', '中楼层(共9层)',\n",
       "       '低楼层(共11层)', '高楼层(共13层)', '底层(共6层)', '底层(共15层)', '底层(共11层)',\n",
       "       '低楼层(共17层)', '顶层(共2层)', '顶层(共5层)', '低楼层(共15层)', '顶层(共16层)',\n",
       "       '高楼层(共10层)', '低楼层(共9层)', '中楼层(共15层)', '顶层(共14层)', '中楼层(共13层)',\n",
       "       '中楼层(共20层)', '低楼层(共18层)', '高楼层(共9层)', '底层(共5层)', '中楼层(共14层)',\n",
       "       '底层(共16层)', '低楼层(共13层)', '顶层(共4层)', '低楼层(共10层)', '底层(共4层)',\n",
       "       '底层(共18层)', '低楼层(共6层)', '顶层(共8层)', '高楼层(共18层)', '中楼层(共18层)',\n",
       "       '顶层(共17层)', '中楼层(共11层)', '底层(共12层)', '高楼层(共12层)', '顶层(共11层)',\n",
       "       '高楼层(共17层)', '顶层(共12层)', '中楼层(共12层)', '中楼层(共7层)', '底层(共14层)',\n",
       "       '中楼层(共16层)', '高楼层(共14层)', '低楼层(共14层)', '低楼层(共7层)', '顶层(共7层)',\n",
       "       '地下室(共6层)', '顶层(共13层)', '低楼层(共12层)', '底层(共13层)', '高楼层(共20层)',\n",
       "       '低楼层(共24层)', '4层', '1层', '高楼层(共24层)', '中楼层(共21层)', '中楼层(共24层)',\n",
       "       '高楼层(共19层)', '顶层(共21层)', '底层(共19层)', '底层(共21层)', '高楼层(共8层)',\n",
       "       '2013年建板楼', '中楼层(共8层)', '中楼层(共25层)', '低楼层(共25层)', '底层(共25层)',\n",
       "       '低楼层(共26层)', '底层(共24层)', '顶层(共27层)', '高楼层(共22层)', '6层',\n",
       "       '低楼层(共22层)', '中楼层(共28层)', '中楼层(共27层)', '顶层(共23层)', '中楼层(共26层)',\n",
       "       '高楼层(共28层)', '低楼层(共27层)', '高楼层(共27层)', '低楼层(共23层)', '底层(共28层)',\n",
       "       '底层(共26层)', '顶层(共24层)', '低楼层(共28层)', '中楼层(共23层)', '顶层(共10层)',\n",
       "       '高楼层(共23层)', '2013年建暂无数据', '低楼层(共20层)', '底层(共10层)', '高楼层(共25层)',\n",
       "       '高楼层(共11层)', '高楼层(共26层)', '低楼层(共21层)', '底层(共20层)', '高楼层(共21层)',\n",
       "       '中楼层(共19层)', '2011年建板塔结合', '2015年建板楼', '2012年建板楼', '11层',\n",
       "       '2012年建暂无数据', '低楼层(共19层)', '顶层(共18层)', '2014年建板楼', '2012年建板塔结合',\n",
       "       '2013年建板塔结合', '中楼层(共29层)', '地下室(共3层)', '顶层(共15层)', '上叠(共5层)',\n",
       "       '顶层(共20层)', '9层', '下叠(共5层)', '低楼层(共8层)', '2011年建暂无数据', '顶层(共25层)',\n",
       "       '底层(共8层)', '底层(共7层)', '地下室(共15层)', '2013年建塔楼', '地下室(共7层)',\n",
       "       '地下室(共10层)', '15层', '下叠(共4层)', '地下室(共2层)', '上叠(共6层)', '地下室(共4层)',\n",
       "       '上叠(共4层)', '上叠(共3层)', '底层(共22层)', '底层(共17层)', '地下室(共5层)', '8层',\n",
       "       '中楼层(共22层)', '2009年建暂无数据', '低楼层(共36层)', '中楼层(共36层)', '顶层(共22层)',\n",
       "       '顶层(共19层)', '7层', '低楼层(共31层)', '中楼层(共31层)', '高楼层(共31层)', '12层',\n",
       "       '2012年建塔楼', '底层(共27层)', '2008年建板楼', '地下室(共18层)', '中楼层(共30层)',\n",
       "       '18层', '2014年建塔楼', '2014年建暂无数据', '低楼层(共29层)', '2016年建板塔结合',\n",
       "       '中楼层(共33层)', '2015年建暂无数据', '高楼层(共29层)', '低楼层(共33层)', '高楼层(共33层)',\n",
       "       '低楼层(共34层)', '高楼层(共34层)', '顶层(共34层)', '中楼层(共34层)', '底层(共29层)',\n",
       "       '顶层(共28层)', '低楼层(共30层)', '顶层(共26层)', '底层(共30层)', '高楼层(共30层)',\n",
       "       '顶层(共29层)', '顶层(共30层)', '地下室(共12层)', '中楼层(共32层)', '高楼层(共32层)',\n",
       "       '2007年建板塔结合', '低楼层(共32层)', '顶层(共32层)', '底层(共31层)', '2001年建板楼',\n",
       "       '暂无数据', '19层', '2012年建平房', '平房', '2014年建平房', '2016年建暂无数据', '14层',\n",
       "       '2008年建板塔结合', '地下室(共8层)', '底层(共32层)', '地下室(共11层)', '2010年建暂无数据',\n",
       "       '低楼层(共35层)', '低楼层(共40层)', '顶层(共35层)', '中楼层(共35层)', '高楼层(共40层)',\n",
       "       '高楼层(共35层)', '2011年建板楼', '2005年建板楼', '2007年建板楼', '2010年建板楼',\n",
       "       '2009年建板楼', '2006年建板楼', '底层(共23层)', '2009年建板塔结合', '2005年建暂无数据',\n",
       "       '2006年建暂无数据', '2002年建板塔结合', '2004年建暂无数据', '地下室(共9层)', '2006年建塔楼',\n",
       "       '2008年建暂无数据', '地下室(共14层)', '2014年建板塔结合', '2004年建板楼', '2005年建塔楼',\n",
       "       '地下室(共16层)', '16层', '低楼层(共63层)', '底层(共33层)', '板楼', '2006年建板塔结合',\n",
       "       '2007年建暂无数据', '中楼层(共57层)', '高楼层(共57层)', '中楼层(共42层)', '低楼层(共42层)',\n",
       "       '高楼层(共42层)', '中楼层(共63层)', '27层', '板塔结合', '地下室(共0层)', '2010年建塔楼',\n",
       "       '2011年建塔楼', '21层', '20层', '25层', '顶层(共33层)', '17层', '2004年建塔楼',\n",
       "       '底层(共35层)', '底层(共34层)', '顶层(共31层)', '2009年建塔楼', '2008年建塔楼',\n",
       "       '地下室(共21层)', '地下室(共28层)', '地下室(共1层)', '中楼层(共37层)', '28层',\n",
       "       '低楼层(共37层)'], dtype=object)"
      ]
     },
     "execution_count": 16,
     "metadata": {},
     "output_type": "execute_result"
    }
   ],
   "source": [
    "dataset['type_house'].unique()"
   ]
  },
  {
   "cell_type": "code",
   "execution_count": 17,
   "metadata": {
    "collapsed": false
   },
   "outputs": [
    {
     "data": {
      "text/html": [
       "<div>\n",
       "<style scoped>\n",
       "    .dataframe tbody tr th:only-of-type {\n",
       "        vertical-align: middle;\n",
       "    }\n",
       "\n",
       "    .dataframe tbody tr th {\n",
       "        vertical-align: top;\n",
       "    }\n",
       "\n",
       "    .dataframe thead th {\n",
       "        text-align: right;\n",
       "    }\n",
       "</style>\n",
       "<table border=\"1\" class=\"dataframe\">\n",
       "  <thead>\n",
       "    <tr style=\"text-align: right;\">\n",
       "      <th></th>\n",
       "      <th>type_house</th>\n",
       "      <th>years_house</th>\n",
       "    </tr>\n",
       "  </thead>\n",
       "  <tbody>\n",
       "    <tr>\n",
       "      <th>469271</th>\n",
       "      <td>地下室(共21层)</td>\n",
       "      <td>1991年建塔楼</td>\n",
       "    </tr>\n",
       "  </tbody>\n",
       "</table>\n",
       "</div>"
      ],
      "text/plain": [
       "       type_house years_house\n",
       "469271  地下室(共21层)    1991年建塔楼"
      ]
     },
     "execution_count": 17,
     "metadata": {},
     "output_type": "execute_result"
    }
   ],
   "source": [
    "dataset[dataset['type_house']=='地下室(共21层)'][['type_house','years_house']]"
   ]
  },
  {
   "cell_type": "code",
   "execution_count": 18,
   "metadata": {
    "collapsed": false
   },
   "outputs": [
    {
     "data": {
      "text/plain": [
       "array([nan, '2010年建暂无数据', '2012年建暂无数据', '2011年建暂无数据', '2015年建暂无数据',\n",
       "       '2009年建暂无数据', '2006年建暂无数据', '暂无数据', '2016年建暂无数据', '2004年建暂无数据',\n",
       "       '2017年建暂无数据', '2014年建暂无数据', '1998年建暂无数据', '2013年建板楼', '2013年建暂无数据',\n",
       "       '2011年建板楼', '2005年建板楼', '2011年建塔楼', '板楼', '2008年建暂无数据',\n",
       "       '2001年建暂无数据', '2008年建板楼', '1979年建板楼', '2015年建板楼', '2004年建板楼',\n",
       "       '1992年建板楼', '1985年建暂无数据', '1997年建板楼', '2002年建板楼', '1996年建暂无数据',\n",
       "       '2006年建板楼', '2015年建塔楼', '2012年建板楼', '2003年建暂无数据', '1986年建板楼',\n",
       "       '1995年建板楼', '1986年建暂无数据', '2010年建板楼', '1981年建暂无数据', '1993年建板楼',\n",
       "       '1989年建板楼', '1995年建板塔结合', '2003年建板楼', '1998年建板楼', '2007年建板楼',\n",
       "       '2007年建暂无数据', '1997年建暂无数据', '2014年建板楼', '2016年建板楼', '1999年建板楼',\n",
       "       '2001年建板楼', '2000年建板楼', '1996年建板楼', '2005年建板塔结合', '1987年建板楼',\n",
       "       '2006年建塔楼', '2006年建板塔结合', '1970年建板楼', '1990年建板楼', '1980年建板楼',\n",
       "       '1982年建板楼', '1994年建板楼', '1983年建板楼', '1985年建板楼', '1991年建板楼',\n",
       "       '1988年建板楼', '2003年建塔楼', '2009年建板楼', '1981年建板楼', '2017年建板楼',\n",
       "       '2016年建板塔结合', '2015年建板塔结合', '1958年建暂无数据', '1975年建板楼', '1984年建板楼',\n",
       "       '1966年建板楼', '2013年建板塔结合', '2013年建塔楼', '1988年建塔楼', '1980年建塔楼',\n",
       "       '2001年建塔楼', '2010年建板塔结合', '2016年建塔楼', '2012年建塔楼', '2005年建暂无数据',\n",
       "       '2017年建塔楼', '2012年建板塔结合', '2009年建板塔结合', '2014年建塔楼', '2014年建板塔结合',\n",
       "       '1999年建暂无数据', '2007年建板塔结合', '2008年建板塔结合', '2010年建塔楼', '2011年建板塔结合',\n",
       "       '板塔结合', '2007年建塔楼', '2009年建塔楼', '2004年建板塔结合', '2000年建暂无数据',\n",
       "       '2008年建塔楼', '1995年建暂无数据', '2003年建板塔结合', '1988年建暂无数据', '2002年建暂无数据',\n",
       "       '1992年建暂无数据', '1989年建暂无数据', '2000年建板塔结合', '1994年建塔楼', '1979年建暂无数据',\n",
       "       '1980年建暂无数据', '1984年建暂无数据', '2001年建板塔结合', '1994年建暂无数据',\n",
       "       '2002年建板塔结合', '1977年建板楼', '1975年建暂无数据', '1976年建板楼', '2004年建塔楼',\n",
       "       '1978年建暂无数据', '1976年建暂无数据', '1993年建暂无数据', '2002年建塔楼', '1996年建塔楼',\n",
       "       '1986年建塔楼', '1994年建板塔结合', '1991年建板塔结合', '2000年建塔楼', '1999年建塔楼',\n",
       "       '1999年建板塔结合', '塔楼', '1997年建塔楼', '1978年建板楼', '2005年建塔楼', '1960年建板楼',\n",
       "       '1998年建塔楼', '1995年建塔楼', '1998年建板塔结合', '1962年建板楼', '1996年建板塔结合',\n",
       "       '1990年建暂无数据', '1960年建暂无数据', '1982年建暂无数据', '1990年建板塔结合',\n",
       "       '1997年建板塔结合', '1992年建塔楼', '1964年建板楼', '1958年建板楼', '1973年建板楼',\n",
       "       '1983年建塔楼', '1985年建塔楼', '1987年建塔楼', '1974年建板楼', '1984年建塔楼',\n",
       "       '1989年建板塔结合', '1990年建塔楼', '1991年建塔楼', '1987年建暂无数据', '1950年建板楼',\n",
       "       '1989年建塔楼', '1993年建塔楼', '1963年建板楼', '1992年建板塔结合', '1988年建板塔结合',\n",
       "       '1984年建板塔结合', '1985年建板塔结合', '1993年建板塔结合', '1983年建板塔结合',\n",
       "       '1987年建板塔结合', '1986年建板塔结合', '1956年建板楼', '1954年建板楼', '1957年建板楼',\n",
       "       '1955年建板楼', '1968年建板楼', '1978年建板塔结合', '1959年建板楼', '1965年建板楼',\n",
       "       '1995年建平房', '1980年建板塔结合', '1982年建板塔结合', '1967年建板楼', '1982年建塔楼',\n",
       "       '1963年建板塔结合', '1970年建板塔结合', '1981年建塔楼', '1980年建平房', '1961年建板楼',\n",
       "       '1950年建暂无数据', '1979年建塔楼', '1972年建板楼', '1981年建板塔结合', '1991年建暂无数据',\n",
       "       '1979年建板塔结合', '1971年建板楼', '1952年建板楼', '1953年建板楼', '1969年建板楼',\n",
       "       '1977年建板塔结合', '1970年建暂无数据'], dtype=object)"
      ]
     },
     "execution_count": 18,
     "metadata": {},
     "output_type": "execute_result"
    }
   ],
   "source": [
    "dataset['years_house'].unique()"
   ]
  },
  {
   "cell_type": "code",
   "execution_count": 19,
   "metadata": {
    "collapsed": false
   },
   "outputs": [
    {
     "name": "stdout",
     "output_type": "stream",
     "text": [
      "<class 'pandas.core.frame.DataFrame'>\n",
      "RangeIndex: 474301 entries, 0 to 474300\n",
      "Data columns (total 39 columns):\n",
      "introduction_house               474301 non-null object\n",
      "community_house                  474301 non-null object\n",
      "href_house                       474301 non-null object\n",
      "unit_house                       38137 non-null object\n",
      "size_house                       38137 non-null object\n",
      "direction_house                  38137 non-null object\n",
      "decoration_house                 38109 non-null object\n",
      "elevator_house                   37093 non-null object\n",
      "type_house                       38137 non-null object\n",
      "years_house                      38100 non-null object\n",
      "area_house                       474301 non-null object\n",
      "interests_house                  38137 non-null object\n",
      "watch_times                      38137 non-null object\n",
      "submit_period                    38137 non-null object\n",
      "years_period                     30543 non-null object\n",
      "tax_free                         35260 non-null object\n",
      "total_price                      474301 non-null float64\n",
      "smeter_price                     474301 non-null object\n",
      "region                           474301 non-null object\n",
      "info_cluster                     436164 non-null object\n",
      "info_flood                       436164 non-null object\n",
      "info_follow                      436164 non-null object\n",
      "years_house_year_edit1           37850 non-null float64\n",
      "size_house_edit1                 474301 non-null float64\n",
      "size_house_edit1_addcata         474301 non-null object\n",
      "watch_time_edit1                 474301 non-null int64\n",
      "watch_time_edit1_addcata         474301 non-null object\n",
      "interests_house_edit1            474301 non-null int64\n",
      "interests_house_edit1_addcata    474301 non-null object\n",
      "submit_period_edit1              474301 non-null int64\n",
      "submit_period_edit1_addcata      474301 non-null object\n",
      "years_period_edit1               474301 non-null object\n",
      "tax_free_edit1                   474301 non-null object\n",
      "smeter_price_edit1               474301 non-null int64\n",
      "direction_edit1                  474301 non-null object\n",
      "decoration_edit1                 474301 non-null object\n",
      "elevator_edit1                   474301 non-null object\n",
      "type_house_edit1                 474301 non-null object\n",
      "years_house_type_edit1           474301 non-null object\n",
      "dtypes: float64(3), int64(4), object(32)\n",
      "memory usage: 141.1+ MB\n"
     ]
    }
   ],
   "source": [
    "dataset.info()"
   ]
  },
  {
   "cell_type": "code",
   "execution_count": 20,
   "metadata": {
    "collapsed": false
   },
   "outputs": [
    {
     "data": {
      "text/plain": [
       "Index(['introduction_house', 'community_house', 'href_house', 'unit_house',\n",
       "       'size_house', 'direction_house', 'decoration_house', 'elevator_house',\n",
       "       'type_house', 'years_house', 'area_house', 'interests_house',\n",
       "       'watch_times', 'submit_period', 'years_period', 'tax_free',\n",
       "       'total_price', 'smeter_price', 'region', 'info_cluster', 'info_flood',\n",
       "       'info_follow', 'years_house_year_edit1', 'size_house_edit1',\n",
       "       'size_house_edit1_addcata', 'watch_time_edit1',\n",
       "       'watch_time_edit1_addcata', 'interests_house_edit1',\n",
       "       'interests_house_edit1_addcata', 'submit_period_edit1',\n",
       "       'submit_period_edit1_addcata', 'years_period_edit1', 'tax_free_edit1',\n",
       "       'smeter_price_edit1', 'direction_edit1', 'decoration_edit1',\n",
       "       'elevator_edit1', 'type_house_edit1', 'years_house_type_edit1'],\n",
       "      dtype='object')"
      ]
     },
     "execution_count": 20,
     "metadata": {},
     "output_type": "execute_result"
    }
   ],
   "source": [
    "dataset.columns"
   ]
  },
  {
   "cell_type": "code",
   "execution_count": 21,
   "metadata": {
    "collapsed": true
   },
   "outputs": [],
   "source": [
    "feature1 = ['community_house','unit_house','size_house_edit1','size_house_edit1_addcata','watch_time_edit1','watch_time_edit1_addcata','interests_house_edit1','interests_house_edit1_addcata','submit_period_edit1','submit_period_edit1_addcata','years_period_edit1','tax_free_edit1','total_price','smeter_price_edit1',\n",
    "            'direction_edit1','decoration_edit1','elevator_edit1','type_house_edit1','years_house_type_edit1','years_house_year_edit1','region']"
   ]
  },
  {
   "cell_type": "code",
   "execution_count": 22,
   "metadata": {
    "collapsed": true
   },
   "outputs": [],
   "source": [
    "dataset_used1 = dataset[feature1]"
   ]
  },
  {
   "cell_type": "code",
   "execution_count": 23,
   "metadata": {
    "collapsed": false
   },
   "outputs": [
    {
     "data": {
      "text/plain": [
       "array(['cd', 'xm', 'sh', 'sz', 'zz', 'qd', 'su', 'cq', 'dl', 'hf', 'sjz',\n",
       "       'cs', 'wh', 'nj', 'hz', 'tj', 'gz', 'bj', 'lf', 'jn', 'fs', 'zh',\n",
       "       'zs'], dtype=object)"
      ]
     },
     "execution_count": 23,
     "metadata": {},
     "output_type": "execute_result"
    }
   ],
   "source": [
    "dataset['region'].unique()"
   ]
  },
  {
   "cell_type": "code",
   "execution_count": 24,
   "metadata": {
    "collapsed": false
   },
   "outputs": [
    {
     "data": {
      "text/html": [
       "<div>\n",
       "<style scoped>\n",
       "    .dataframe tbody tr th:only-of-type {\n",
       "        vertical-align: middle;\n",
       "    }\n",
       "\n",
       "    .dataframe tbody tr th {\n",
       "        vertical-align: top;\n",
       "    }\n",
       "\n",
       "    .dataframe thead th {\n",
       "        text-align: right;\n",
       "    }\n",
       "</style>\n",
       "<table border=\"1\" class=\"dataframe\">\n",
       "  <thead>\n",
       "    <tr style=\"text-align: right;\">\n",
       "      <th></th>\n",
       "      <th>community_house</th>\n",
       "      <th>unit_house</th>\n",
       "      <th>size_house_edit1</th>\n",
       "      <th>size_house_edit1_addcata</th>\n",
       "      <th>watch_time_edit1</th>\n",
       "      <th>watch_time_edit1_addcata</th>\n",
       "      <th>interests_house_edit1</th>\n",
       "      <th>interests_house_edit1_addcata</th>\n",
       "      <th>submit_period_edit1</th>\n",
       "      <th>submit_period_edit1_addcata</th>\n",
       "      <th>years_period_edit1</th>\n",
       "      <th>tax_free_edit1</th>\n",
       "      <th>total_price</th>\n",
       "      <th>smeter_price_edit1</th>\n",
       "      <th>direction_edit1</th>\n",
       "      <th>decoration_edit1</th>\n",
       "      <th>elevator_edit1</th>\n",
       "      <th>type_house_edit1</th>\n",
       "      <th>years_house_type_edit1</th>\n",
       "      <th>years_house_year_edit1</th>\n",
       "      <th>region</th>\n",
       "    </tr>\n",
       "  </thead>\n",
       "  <tbody>\n",
       "    <tr>\n",
       "      <th>0</th>\n",
       "      <td>麓山国际帕萨迪纳3组</td>\n",
       "      <td>NaN</td>\n",
       "      <td>98.070</td>\n",
       "      <td>0</td>\n",
       "      <td>-1</td>\n",
       "      <td>1</td>\n",
       "      <td>-1</td>\n",
       "      <td>1</td>\n",
       "      <td>-1</td>\n",
       "      <td>2</td>\n",
       "      <td>0</td>\n",
       "      <td>0</td>\n",
       "      <td>250.000</td>\n",
       "      <td>25492</td>\n",
       "      <td>nodata</td>\n",
       "      <td>nodata</td>\n",
       "      <td>有电梯</td>\n",
       "      <td>nodata</td>\n",
       "      <td>nodata</td>\n",
       "      <td>nan</td>\n",
       "      <td>cd</td>\n",
       "    </tr>\n",
       "    <tr>\n",
       "      <th>1</th>\n",
       "      <td>麓山国际塞尔维蒙</td>\n",
       "      <td>NaN</td>\n",
       "      <td>206.000</td>\n",
       "      <td>0</td>\n",
       "      <td>-1</td>\n",
       "      <td>1</td>\n",
       "      <td>-1</td>\n",
       "      <td>1</td>\n",
       "      <td>-1</td>\n",
       "      <td>2</td>\n",
       "      <td>0</td>\n",
       "      <td>0</td>\n",
       "      <td>420.000</td>\n",
       "      <td>20389</td>\n",
       "      <td>nodata</td>\n",
       "      <td>nodata</td>\n",
       "      <td>无电梯</td>\n",
       "      <td>nodata</td>\n",
       "      <td>nodata</td>\n",
       "      <td>nan</td>\n",
       "      <td>cd</td>\n",
       "    </tr>\n",
       "    <tr>\n",
       "      <th>2</th>\n",
       "      <td>麓山国际半月湾</td>\n",
       "      <td>NaN</td>\n",
       "      <td>112.190</td>\n",
       "      <td>0</td>\n",
       "      <td>-1</td>\n",
       "      <td>1</td>\n",
       "      <td>-1</td>\n",
       "      <td>1</td>\n",
       "      <td>-1</td>\n",
       "      <td>2</td>\n",
       "      <td>0</td>\n",
       "      <td>0</td>\n",
       "      <td>275.000</td>\n",
       "      <td>24512</td>\n",
       "      <td>nodata</td>\n",
       "      <td>其他</td>\n",
       "      <td>nodata</td>\n",
       "      <td>nodata</td>\n",
       "      <td>nodata</td>\n",
       "      <td>nan</td>\n",
       "      <td>cd</td>\n",
       "    </tr>\n",
       "    <tr>\n",
       "      <th>3</th>\n",
       "      <td>心怡中丝园</td>\n",
       "      <td>NaN</td>\n",
       "      <td>87.560</td>\n",
       "      <td>0</td>\n",
       "      <td>-1</td>\n",
       "      <td>1</td>\n",
       "      <td>-1</td>\n",
       "      <td>1</td>\n",
       "      <td>-1</td>\n",
       "      <td>2</td>\n",
       "      <td>0</td>\n",
       "      <td>0</td>\n",
       "      <td>193.000</td>\n",
       "      <td>22043</td>\n",
       "      <td>nodata</td>\n",
       "      <td>nodata</td>\n",
       "      <td>有电梯</td>\n",
       "      <td>nodata</td>\n",
       "      <td>nodata</td>\n",
       "      <td>nan</td>\n",
       "      <td>cd</td>\n",
       "    </tr>\n",
       "    <tr>\n",
       "      <th>4</th>\n",
       "      <td>麓山国际茵特拉肯A</td>\n",
       "      <td>NaN</td>\n",
       "      <td>128.740</td>\n",
       "      <td>0</td>\n",
       "      <td>-1</td>\n",
       "      <td>1</td>\n",
       "      <td>-1</td>\n",
       "      <td>1</td>\n",
       "      <td>-1</td>\n",
       "      <td>2</td>\n",
       "      <td>0</td>\n",
       "      <td>0</td>\n",
       "      <td>300.000</td>\n",
       "      <td>23303</td>\n",
       "      <td>nodata</td>\n",
       "      <td>其他</td>\n",
       "      <td>nodata</td>\n",
       "      <td>nodata</td>\n",
       "      <td>nodata</td>\n",
       "      <td>nan</td>\n",
       "      <td>cd</td>\n",
       "    </tr>\n",
       "  </tbody>\n",
       "</table>\n",
       "</div>"
      ],
      "text/plain": [
       "  community_house unit_house  size_house_edit1 size_house_edit1_addcata  \\\n",
       "0     麓山国际帕萨迪纳3组         NaN            98.070                        0   \n",
       "1       麓山国际塞尔维蒙         NaN           206.000                        0   \n",
       "2        麓山国际半月湾         NaN           112.190                        0   \n",
       "3          心怡中丝园         NaN            87.560                        0   \n",
       "4      麓山国际茵特拉肯A         NaN           128.740                        0   \n",
       "\n",
       "   watch_time_edit1 watch_time_edit1_addcata  interests_house_edit1  \\\n",
       "0                -1                        1                     -1   \n",
       "1                -1                        1                     -1   \n",
       "2                -1                        1                     -1   \n",
       "3                -1                        1                     -1   \n",
       "4                -1                        1                     -1   \n",
       "\n",
       "  interests_house_edit1_addcata  submit_period_edit1  \\\n",
       "0                             1                   -1   \n",
       "1                             1                   -1   \n",
       "2                             1                   -1   \n",
       "3                             1                   -1   \n",
       "4                             1                   -1   \n",
       "\n",
       "  submit_period_edit1_addcata years_period_edit1 tax_free_edit1  total_price  \\\n",
       "0                           2                  0              0      250.000   \n",
       "1                           2                  0              0      420.000   \n",
       "2                           2                  0              0      275.000   \n",
       "3                           2                  0              0      193.000   \n",
       "4                           2                  0              0      300.000   \n",
       "\n",
       "   smeter_price_edit1 direction_edit1 decoration_edit1 elevator_edit1  \\\n",
       "0               25492          nodata           nodata            有电梯   \n",
       "1               20389          nodata           nodata            无电梯   \n",
       "2               24512          nodata               其他         nodata   \n",
       "3               22043          nodata           nodata            有电梯   \n",
       "4               23303          nodata               其他         nodata   \n",
       "\n",
       "  type_house_edit1 years_house_type_edit1  years_house_year_edit1 region  \n",
       "0           nodata                 nodata                     nan     cd  \n",
       "1           nodata                 nodata                     nan     cd  \n",
       "2           nodata                 nodata                     nan     cd  \n",
       "3           nodata                 nodata                     nan     cd  \n",
       "4           nodata                 nodata                     nan     cd  "
      ]
     },
     "execution_count": 24,
     "metadata": {},
     "output_type": "execute_result"
    }
   ],
   "source": [
    "dataset_used1.head()"
   ]
  },
  {
   "cell_type": "code",
   "execution_count": 25,
   "metadata": {
    "collapsed": false,
    "scrolled": false
   },
   "outputs": [
    {
     "name": "stdout",
     "output_type": "stream",
     "text": [
      "<class 'pandas.core.frame.DataFrame'>\n",
      "RangeIndex: 474301 entries, 0 to 474300\n",
      "Data columns (total 21 columns):\n",
      "community_house                  474301 non-null object\n",
      "unit_house                       38137 non-null object\n",
      "size_house_edit1                 474301 non-null float64\n",
      "size_house_edit1_addcata         474301 non-null object\n",
      "watch_time_edit1                 474301 non-null int64\n",
      "watch_time_edit1_addcata         474301 non-null object\n",
      "interests_house_edit1            474301 non-null int64\n",
      "interests_house_edit1_addcata    474301 non-null object\n",
      "submit_period_edit1              474301 non-null int64\n",
      "submit_period_edit1_addcata      474301 non-null object\n",
      "years_period_edit1               474301 non-null object\n",
      "tax_free_edit1                   474301 non-null object\n",
      "total_price                      474301 non-null float64\n",
      "smeter_price_edit1               474301 non-null int64\n",
      "direction_edit1                  474301 non-null object\n",
      "decoration_edit1                 474301 non-null object\n",
      "elevator_edit1                   474301 non-null object\n",
      "type_house_edit1                 474301 non-null object\n",
      "years_house_type_edit1           474301 non-null object\n",
      "years_house_year_edit1           37850 non-null float64\n",
      "region                           474301 non-null object\n",
      "dtypes: float64(3), int64(4), object(14)\n",
      "memory usage: 76.0+ MB\n"
     ]
    }
   ],
   "source": [
    "dataset_used1.info()"
   ]
  },
  {
   "cell_type": "markdown",
   "metadata": {},
   "source": [
    "### 绘图分析"
   ]
  },
  {
   "cell_type": "code",
   "execution_count": 26,
   "metadata": {
    "collapsed": true
   },
   "outputs": [],
   "source": [
    "# # 绘图\n",
    "# fig, ax = plt.subplots()\n",
    "# ax.scatter(x = dataset['GrLivArea'], y = dataset['total_price'])\n",
    "# plt.ylabel('total_price', fontsize=13)\n",
    "# plt.xlabel('GrLivArea', fontsize=13)\n",
    "# plt.show()"
   ]
  },
  {
   "cell_type": "markdown",
   "metadata": {},
   "source": [
    "#### 单变量观察"
   ]
  },
  {
   "cell_type": "code",
   "execution_count": 27,
   "metadata": {
    "collapsed": true
   },
   "outputs": [],
   "source": [
    "yjiu = ['community_house','unit_house','size_house_edit1','size_house_edit1_addcata','watch_time_edit1','watch_time_edit1_addcata','interests_house_edit1','interests_house_edit1_addcata','submit_period_edit1','submit_period_edit1_addcata','years_period_edit1','tax_free_edit1','total_price','smeter_price_edit1','direction_edit1','decoration_edit1','elevator_edit1','type_house_edit1','years_house_type_edit1','years_house_year_edit1']"
   ]
  },
  {
   "cell_type": "code",
   "execution_count": 28,
   "metadata": {
    "collapsed": false
   },
   "outputs": [
    {
     "name": "stdout",
     "output_type": "stream",
     "text": [
      "['community_house', 'unit_house', 'size_house_edit1', 'size_house_edit1_addcata', 'watch_time_edit1', 'watch_time_edit1_addcata', 'interests_house_edit1', 'interests_house_edit1_addcata', 'submit_period_edit1', 'submit_period_edit1_addcata', 'years_period_edit1', 'tax_free_edit1', 'total_price', 'smeter_price_edit1', 'direction_edit1', 'decoration_edit1', 'elevator_edit1', 'type_house_edit1', 'years_house_type_edit1', 'years_house_year_edit1']\n"
     ]
    }
   ],
   "source": [
    "print(yjiu)"
   ]
  },
  {
   "cell_type": "markdown",
   "metadata": {},
   "source": [
    "##### 面积、查看次数、收藏次数、发布时间\n",
    "房屋面积：size_house_edit1_addcata\n",
    "查看次数：watch_time_edit1_addcata\n",
    "感兴趣人数：interests_house_edit1_addcata\n",
    "多久前发布：submit_period_edit1_addcata"
   ]
  },
  {
   "cell_type": "code",
   "execution_count": 29,
   "metadata": {
    "collapsed": false
   },
   "outputs": [
    {
     "data": {
      "text/plain": [
       "Text(0.5,1,'submit_period_edit1')"
      ]
     },
     "execution_count": 29,
     "metadata": {},
     "output_type": "execute_result"
    },
    {
     "data": {
      "image/png": "[encoded data removed]",
      "text/plain": [
       "<Figure size 720x720 with 4 Axes>"
      ]
     },
     "metadata": {},
     "output_type": "display_data"
    }
   ],
   "source": [
    "fig1 = plt.figure(figsize=(10,10))\n",
    "fig1.add_subplot(221)\n",
    "fg1 = sns.distplot(dataset_used1[dataset_used1['size_house_edit1_addcata']=='0']['size_house_edit1'],bins=1000,kde=False,color='b')\n",
    "fg1.set(xlim=(0,500))\n",
    "plt.title('size')\n",
    "\n",
    "fig1.add_subplot(222)\n",
    "fg2 = sns.distplot(dataset_used1[dataset_used1['watch_time_edit1_addcata']=='0']['watch_time_edit1'],bins=500,kde=False,color='b')\n",
    "fg2.set(xlim=(0,50))\n",
    "plt.title('watch_time')\n",
    "\n",
    "fig1.add_subplot(223)\n",
    "fg3 = sns.distplot(dataset_used1[dataset_used1['interests_house_edit1_addcata']=='0']['interests_house_edit1'],bins=1000,kde=False,color='b')\n",
    "fg3.set(xlim=(0,500))\n",
    "plt.title('interests_house')\n",
    "\n",
    "fig1.add_subplot(224)\n",
    "fg4 = sns.distplot(dataset_used1[dataset_used1['submit_period_edit1_addcata']=='0']['submit_period_edit1'],bins=200,kde=False,color='b')\n",
    "fg4.set(xlim=(0,100))\n",
    "plt.title('submit_period_edit1')"
   ]
  },
  {
   "cell_type": "markdown",
   "metadata": {},
   "source": [
    "从上面的结果观察，size的分布呈现偏右整体分布；watch_times和interest_house呈现由小到大下降的分布；submit_period呈现非均匀分布状态，发现＞30天以上的数量明显要多很多。"
   ]
  },
  {
   "cell_type": "markdown",
   "metadata": {},
   "source": [
    "##### 2年产权、5年产权、房屋户型\n",
    "产权是满足5年：tax_free_edit1  \n",
    "产权是否满2年：years_period_edit1  \n",
    "房屋户型：unit_house"
   ]
  },
  {
   "cell_type": "code",
   "execution_count": 30,
   "metadata": {
    "collapsed": false
   },
   "outputs": [
    {
     "data": {
      "text/plain": [
       "Text(0.5,1,'unit_house')"
      ]
     },
     "execution_count": 30,
     "metadata": {},
     "output_type": "execute_result"
    },
    {
     "data": {
      "image/png": "[encoded data removed]",
      "text/plain": [
       "<Figure size 720x432 with 3 Axes>"
      ]
     },
     "metadata": {},
     "output_type": "display_data"
    }
   ],
   "source": [
    "fig2_1 = plt.figure(figsize=(10,6))\n",
    "ax3 = fig2_1.add_subplot(221)\n",
    "\n",
    "dataset_used1['tax_free_edit1'].value_counts().plot(kind='bar')\n",
    "plt.title('tax_free')\n",
    "\n",
    "ax2 = fig2_1.add_subplot(222)\n",
    "dataset_used1['years_period_edit1'].value_counts().plot(kind='bar')\n",
    "plt.title('years_period')\n",
    "\n",
    "ax1 = fig2_1.add_subplot(212)\n",
    "ax1.margins(0.05)           # Default margin is 0.05, value 0 means fit\n",
    "\n",
    "dataset_used1['unit_house'].value_counts().plot(kind='bar')\n",
    "plt.title('unit_house')\n",
    "\n"
   ]
  },
  {
   "cell_type": "markdown",
   "metadata": {},
   "source": [
    "观察到2年产权大多数不满足，5年产权的情况类似；房屋类型主要以2室1厅、3室1厅、1室1厅，3室2厅、2室2厅、4室2厅为主。"
   ]
  },
  {
   "cell_type": "code",
   "execution_count": 31,
   "metadata": {
    "collapsed": false
   },
   "outputs": [
    {
     "data": {
      "text/plain": [
       "2室1厅     13889\n",
       "3室1厅      6080\n",
       "1室1厅      4770\n",
       "3室2厅      4339\n",
       "2室2厅      2524\n",
       "4室2厅      1670\n",
       "1室0厅      1105\n",
       "4室1厅       492\n",
       "2房间1卫      443\n",
       "1房间1卫      438\n",
       "Name: unit_house, dtype: int64"
      ]
     },
     "execution_count": 31,
     "metadata": {},
     "output_type": "execute_result"
    }
   ],
   "source": [
    "dataset_used1['unit_house'].value_counts().head(10)"
   ]
  },
  {
   "cell_type": "markdown",
   "metadata": {
    "collapsed": true
   },
   "source": [
    "从上面结果观察到，2年、5年产权中，没有产权的占比最大，户型类别当中，集中在前十种类型，其中2室1厅占主要"
   ]
  },
  {
   "cell_type": "code",
   "execution_count": 32,
   "metadata": {
    "collapsed": false
   },
   "outputs": [
    {
     "data": {
      "text/plain": [
       "Text(0.5,1,'total_price')"
      ]
     },
     "execution_count": 32,
     "metadata": {},
     "output_type": "execute_result"
    },
    {
     "data": {
      "image/png": "[encoded data removed]",
      "text/plain": [
       "<Figure size 432x432 with 1 Axes>"
      ]
     },
     "metadata": {},
     "output_type": "display_data"
    }
   ],
   "source": [
    "fig2 = plt.figure(figsize=(6,6))\n",
    "fig2.add_subplot(111)\n",
    "fg1 = sns.distplot(dataset_used1['total_price'],bins=1500,kde=False,color='b')\n",
    "fg1.set(xlim=(0,2000))\n",
    "plt.title('total_price')\n"
   ]
  },
  {
   "cell_type": "markdown",
   "metadata": {
    "collapsed": true
   },
   "source": [
    "从总价钱的分布当中观察，total_price呈现偏右正态分布。"
   ]
  },
  {
   "cell_type": "markdown",
   "metadata": {},
   "source": [
    "##### 朝向、装修程度、电梯配备、楼层位置、楼型、建成时间\n"
   ]
  },
  {
   "cell_type": "code",
   "execution_count": 33,
   "metadata": {
    "collapsed": false
   },
   "outputs": [
    {
     "data": {
      "text/plain": [
       "('direction_edit1',\n",
       " 'decoration_edit1',\n",
       " 'elevator_edit1',\n",
       " 'type_house_edit1',\n",
       " 'years_house_type_edit1',\n",
       " 'years_house_year_edit1')"
      ]
     },
     "execution_count": 33,
     "metadata": {},
     "output_type": "execute_result"
    }
   ],
   "source": [
    "'direction_edit1', 'decoration_edit1', 'elevator_edit1', 'type_house_edit1', 'years_house_type_edit1', 'years_house_year_edit1'"
   ]
  },
  {
   "cell_type": "code",
   "execution_count": 34,
   "metadata": {
    "code_folding": [
     0
    ],
    "collapsed": false
   },
   "outputs": [
    {
     "data": {
      "text/plain": [
       "array(['nodata', ' 东 南 西 北', ' 南', ' 南 北', ' 北', ' 西南', ' 东南', ' 东 南',\n",
       "       ' 东', ' 西北', ' 西', ' 南 西', ' 东北', ' 东南 西北', ' 东 东南', '南 北', '东南',\n",
       "       '东 南 西 北', '东 东南 南 西南 西', '东 南 北', '南', '东 西', '东南 西北', '东 南', '西',\n",
       "       '东 西 北', '东北', '东南 南 北', '南 西 北', '西北', '东 南 西', '东 北', '北', '西南',\n",
       "       '东南 北', '东', '南 西', '西 北', '东南 西南', '西南 北', '南 西北', '东南 西', '东 西北',\n",
       "       '南 西南', '南 西南 北', '南 西北 北', '东 北 东北', '东 西 东北', '南 北 东北',\n",
       "       '东 东南 南 北', '东南 西 北', '西南 东北', '东南 东北', '东 东南', '南 北 西', '东南 南',\n",
       "       '东南 南 西南', '西 东北', '南 东', '北 东北', '南 北 东', '西北 北', '南 东北', '西南 西',\n",
       "       '南 东 北', '东南 西南 西北', '东 西南', '西 西北', '西 西北 北', ' 东 西', '南 西 东北',\n",
       "       '东 西北 北', '南 西南 东北', '西 东', '北 西南', '西南 西北', '东 东南 西北 北',\n",
       "       '东南 南 东北', '东南 南 西北', '南 西 西北', '东 西 北 东北', '南 西南 西 西北 东北',\n",
       "       '西南 西北 东北', '西北 北 东北', '东南 西南 北', '东 南 西北', '西 西南', '东 东北',\n",
       "       '东南 西北 北', '西北 东北', '北 西', '东 西 西北', '北 东', '东 东南 南', '北 南',\n",
       "       '东南 西南 东北', '西南 西 北', '东 西南 东北', '东南 西北 东北', '东 西南 西', '南 西南 西',\n",
       "       '东 西南 北'], dtype=object)"
      ]
     },
     "execution_count": 34,
     "metadata": {},
     "output_type": "execute_result"
    }
   ],
   "source": [
    "# 朝向类别——过多不好绘图\n",
    "dataset_used1['direction_edit1'].unique()"
   ]
  },
  {
   "cell_type": "code",
   "execution_count": 35,
   "metadata": {
    "code_folding": [],
    "collapsed": false
   },
   "outputs": [
    {
     "data": {
      "text/plain": [
       "array(['nodata', '其他', '毛坯', '精装', '简装'], dtype=object)"
      ]
     },
     "execution_count": 35,
     "metadata": {},
     "output_type": "execute_result"
    }
   ],
   "source": [
    "# 装饰\n",
    "dataset_used1['decoration_edit1'].unique()"
   ]
  },
  {
   "cell_type": "code",
   "execution_count": 36,
   "metadata": {
    "collapsed": false
   },
   "outputs": [
    {
     "data": {
      "text/plain": [
       "array(['有电梯', '无电梯', 'nodata'], dtype=object)"
      ]
     },
     "execution_count": 36,
     "metadata": {},
     "output_type": "execute_result"
    }
   ],
   "source": [
    "dataset_used1['elevator_edit1'].unique()"
   ]
  },
  {
   "cell_type": "code",
   "execution_count": 37,
   "metadata": {
    "collapsed": false
   },
   "outputs": [
    {
     "data": {
      "text/plain": [
       "array(['nodata', '低楼层', '顶层', '底层', '高楼层', '中楼层', '地下室', '上叠', '下叠'],\n",
       "      dtype=object)"
      ]
     },
     "execution_count": 37,
     "metadata": {},
     "output_type": "execute_result"
    }
   ],
   "source": [
    "dataset_used1['type_house_edit1'].unique()"
   ]
  },
  {
   "cell_type": "code",
   "execution_count": 38,
   "metadata": {
    "collapsed": false
   },
   "outputs": [
    {
     "data": {
      "text/plain": [
       "array(['nodata', '板', '塔', '板塔', '别墅', '平房'], dtype=object)"
      ]
     },
     "execution_count": 38,
     "metadata": {},
     "output_type": "execute_result"
    }
   ],
   "source": [
    "dataset_used1['years_house_type_edit1'].unique()"
   ]
  },
  {
   "cell_type": "code",
   "execution_count": 39,
   "metadata": {
    "collapsed": false
   },
   "outputs": [
    {
     "data": {
      "image/png": "[encoded data removed]",
      "text/plain": [
       "<Figure size 720x720 with 4 Axes>"
      ]
     },
     "metadata": {},
     "output_type": "display_data"
    }
   ],
   "source": [
    "fig3 = plt.figure(figsize=(10,10))\n",
    "fig3.add_subplot(221)\n",
    "dataset_used1['decoration_edit1'].value_counts().plot(kind='bar')\n",
    "plt.title('decoration_edit1')\n",
    "\n",
    "fig3.add_subplot(222)\n",
    "dataset_used1['elevator_edit1'].value_counts().plot(kind='bar')\n",
    "plt.title('elevator_edit1')\n",
    "\n",
    "fig3.add_subplot(223)\n",
    "dataset_used1['type_house_edit1'].value_counts().plot(kind='bar')\n",
    "plt.title('type_house_edit1')\n",
    "\n",
    "fig3.add_subplot(224)\n",
    "dataset_used1['years_house_type_edit1'].value_counts().plot(kind='bar')\n",
    "plt.title('years_house_type_edit1')\n",
    "plt.rcParams['font.sans-serif'] = ['SimHei']\n"
   ]
  },
  {
   "cell_type": "markdown",
   "metadata": {},
   "source": [
    "对有数据的情况观察：  \n",
    "装修以精装>简装>毛坯；  \n",
    "电梯：有>无\n",
    "楼层前3：中楼层>低楼层>高楼层\n",
    "楼类型前3：板>塔>板塔"
   ]
  },
  {
   "cell_type": "code",
   "execution_count": 40,
   "metadata": {
    "collapsed": false
   },
   "outputs": [
    {
     "data": {
      "text/plain": [
       "Text(0.5,1,'years_house_year_edit1')"
      ]
     },
     "execution_count": 40,
     "metadata": {},
     "output_type": "execute_result"
    },
    {
     "data": {
      "image/png": "[encoded data removed]",
      "text/plain": [
       "<Figure size 720x432 with 1 Axes>"
      ]
     },
     "metadata": {},
     "output_type": "display_data"
    }
   ],
   "source": [
    "fig31 = plt.figure(figsize=(10,6))\n",
    "fig31.add_subplot(111)\n",
    "dataset_used1['years_house_year_edit1'].value_counts().plot(kind='bar')\n",
    "plt.title('years_house_year_edit1')\n"
   ]
  },
  {
   "cell_type": "markdown",
   "metadata": {},
   "source": [
    "从房屋建造年代看，以2010年建造的为主，其中2003-2005三年最多。"
   ]
  },
  {
   "cell_type": "markdown",
   "metadata": {},
   "source": [
    "#### 多维度分析\n"
   ]
  },
  {
   "cell_type": "markdown",
   "metadata": {},
   "source": [
    "##### 产权和查看次数、收藏次数"
   ]
  },
  {
   "cell_type": "markdown",
   "metadata": {
    "collapsed": true
   },
   "source": [
    "2年产权的查看次数、收藏次数\n",
    "5年产权的产看次数、收藏次数\n",
    "2室1厅户型的具有2年产权查看次数\n",
    "2室1厅户型的具有5年产权查看次数\n",
    "\n",
    "产权是满足5年：tax_free_edit1\n",
    "产权是否满2年：years_period_edit1\n",
    "房屋户型：unit_house\n",
    "收藏次数watch_time_edit1 感兴趣人数：interests_house_edit1"
   ]
  },
  {
   "cell_type": "code",
   "execution_count": 41,
   "metadata": {
    "collapsed": false
   },
   "outputs": [
    {
     "data": {
      "text/plain": [
       "Text(0.5,1,'产权是满5年的感兴趣人数')"
      ]
     },
     "execution_count": 41,
     "metadata": {},
     "output_type": "execute_result"
    },
    {
     "data": {
      "image/png": "[encoded data removed]",
      "text/plain": [
       "<Figure size 864x864 with 4 Axes>"
      ]
     },
     "metadata": {},
     "output_type": "display_data"
    }
   ],
   "source": [
    "cond_dataset1 = dataset_used1[dataset_used1['years_period_edit1']=='0']['watch_time_edit1'].value_counts()\n",
    "fig42 = plt.figure(figsize=(12,12))\n",
    "fig42.add_subplot(221)\n",
    "fg1 = sns.distplot(cond_dataset1[1:],bins=200,kde=False,color='b')\n",
    "fg1.set(xlim=(0,400))\n",
    "plt.title('产权是满2年的收藏次数')\n",
    "\n",
    "cond_dataset2 = dataset_used1[dataset_used1['years_period_edit1']=='0']['interests_house_edit1'].value_counts()\n",
    "fig42.add_subplot(222)\n",
    "fg1 = sns.distplot(cond_dataset2[1:],bins=200,kde=False,color='b')\n",
    "fg1.set(xlim=(0,200))\n",
    "plt.title('产权是满2年的感兴趣人数')\n",
    "\n",
    "cond_dataset3 = dataset_used1[dataset_used1['tax_free_edit1']=='0']['watch_time_edit1'].value_counts()\n",
    "fig42.add_subplot(223)\n",
    "fg1 = sns.distplot(cond_dataset1[1:],bins=200,kde=False,color='b')\n",
    "fg1.set(xlim=(0,400))\n",
    "plt.title('产权是满5年的收藏次数')\n",
    "\n",
    "cond_dataset4 = dataset_used1[dataset_used1['tax_free_edit1']=='0']['interests_house_edit1'].value_counts()\n",
    "fig42.add_subplot(224)\n",
    "fg1 = sns.distplot(cond_dataset2[1:],bins=200,kde=False,color='b')\n",
    "fg1.set(xlim=(0,200))\n",
    "plt.title('产权是满5年的感兴趣人数')"
   ]
  },
  {
   "cell_type": "markdown",
   "metadata": {},
   "source": [
    "从上面结果来看，对于产权在2年和5年，收藏次数和关注人数分布以10次以下群体为主。呈现明显偏右分布。\n"
   ]
  },
  {
   "cell_type": "markdown",
   "metadata": {},
   "source": [
    "##### 户型+产权和查看次数、收藏次数¶"
   ]
  },
  {
   "cell_type": "code",
   "execution_count": 42,
   "metadata": {
    "collapsed": false
   },
   "outputs": [
    {
     "data": {
      "text/plain": [
       "Text(0.5,1,'产权是满2年的感兴趣人数')"
      ]
     },
     "execution_count": 42,
     "metadata": {},
     "output_type": "execute_result"
    },
    {
     "data": {
      "image/png": "[encoded data removed]",
      "text/plain": [
       "<Figure size 1152x576 with 2 Axes>"
      ]
     },
     "metadata": {},
     "output_type": "display_data"
    }
   ],
   "source": [
    "cond_dataset1 = dataset_used1[(dataset_used1['unit_house']=='2室1厅')&(dataset_used1['years_period_edit1']=='0')]['watch_time_edit1'].value_counts()\n",
    "fig42 = plt.figure(figsize=(16,8))\n",
    "fig42.add_subplot(121)\n",
    "fg1 = sns.barplot(x=cond_dataset1[1:].index, y=cond_dataset1[1:].values)\n",
    "# fg1.set(xlim=(0,400))\n",
    "plt.title('产权是满2年的收藏次数')\n",
    "\n",
    "cond_dataset2 = dataset_used1[(dataset_used1['unit_house']=='2室1厅')&(dataset_used1['years_period_edit1']=='0')]['interests_house_edit1'].value_counts()\n",
    "fig42.add_subplot(122)\n",
    "fg1 = sns.barplot(x=cond_dataset2[1:].index, y=cond_dataset2[1:].values)\n",
    "# fg1.set(xlim=(0,200))\n",
    "plt.title('产权是满2年的感兴趣人数')"
   ]
  },
  {
   "cell_type": "markdown",
   "metadata": {
    "collapsed": true
   },
   "source": [
    "从多条件看，在2室一厅的房型中，2年产权的收藏次数和关注人数均呈现逐渐偏右分布。"
   ]
  },
  {
   "cell_type": "code",
   "execution_count": 43,
   "metadata": {
    "collapsed": false
   },
   "outputs": [
    {
     "data": {
      "text/plain": [
       "array([nan, '4室2厅', '3室2厅', '5室3厅', '2室1厅', '6室2厅', '9室9厅', '2室2厅',\n",
       "       '4室1厅', '3室1厅', '5室2厅', '1室1厅', '3室3厅', '7室4厅', '4室3厅', '6室4厅',\n",
       "       '7室3厅', '7室2厅', '5室4厅', '5室1厅', '1室0厅', '2室0厅', '1室2厅', '车位',\n",
       "       '3房间1卫', '6房间2卫', '联排别墅', '2房间1卫', '1房间1卫', '5房间2卫', '2房间2卫',\n",
       "       '2房间0卫', '1房间0卫', '6室3厅', '3房间0卫', '3房间2卫', '叠拼别墅', '4房间1卫',\n",
       "       '4室4厅', '4房间2卫', '3室0厅', '4室0厅', '独栋别墅', '8室3厅', '双拼别墅', '8室2厅',\n",
       "       '2室3厅', '9室2厅', '4室5厅', '5房间3卫', '4房间3卫', '11房间3卫', '6房间4卫',\n",
       "       '6房间3卫', '9室1厅', '5房间1卫', '6室1厅', '8室4厅', '9房间3卫', '9室3厅', '5房间0卫',\n",
       "       '6室0厅', '7房间2卫', '5室0厅', '8室5厅', '9室4厅', '7室5厅', '3房间3卫', '1房间2卫',\n",
       "       '8房间4卫', '8房间3卫', '7室0厅', '5室5厅', '7室1厅', '6室5厅', '6室6厅', '6房间5卫'],\n",
       "      dtype=object)"
      ]
     },
     "execution_count": 43,
     "metadata": {},
     "output_type": "execute_result"
    }
   ],
   "source": [
    "dataset_used1['unit_house'].unique()"
   ]
  },
  {
   "cell_type": "code",
   "execution_count": 44,
   "metadata": {
    "collapsed": false
   },
   "outputs": [
    {
     "data": {
      "text/html": [
       "<div>\n",
       "<style scoped>\n",
       "    .dataframe tbody tr th:only-of-type {\n",
       "        vertical-align: middle;\n",
       "    }\n",
       "\n",
       "    .dataframe tbody tr th {\n",
       "        vertical-align: top;\n",
       "    }\n",
       "\n",
       "    .dataframe thead th {\n",
       "        text-align: right;\n",
       "    }\n",
       "</style>\n",
       "<table border=\"1\" class=\"dataframe\">\n",
       "  <thead>\n",
       "    <tr style=\"text-align: right;\">\n",
       "      <th></th>\n",
       "      <th>interests_house_edit1</th>\n",
       "      <th>watch_time_edit1</th>\n",
       "    </tr>\n",
       "  </thead>\n",
       "  <tbody>\n",
       "    <tr>\n",
       "      <th>337734</th>\n",
       "      <td>32</td>\n",
       "      <td>0</td>\n",
       "    </tr>\n",
       "    <tr>\n",
       "      <th>342189</th>\n",
       "      <td>103</td>\n",
       "      <td>8</td>\n",
       "    </tr>\n",
       "    <tr>\n",
       "      <th>342194</th>\n",
       "      <td>55</td>\n",
       "      <td>2</td>\n",
       "    </tr>\n",
       "    <tr>\n",
       "      <th>342207</th>\n",
       "      <td>38</td>\n",
       "      <td>4</td>\n",
       "    </tr>\n",
       "    <tr>\n",
       "      <th>342210</th>\n",
       "      <td>1</td>\n",
       "      <td>0</td>\n",
       "    </tr>\n",
       "  </tbody>\n",
       "</table>\n",
       "</div>"
      ],
      "text/plain": [
       "        interests_house_edit1  watch_time_edit1\n",
       "337734                     32                 0\n",
       "342189                    103                 8\n",
       "342194                     55                 2\n",
       "342207                     38                 4\n",
       "342210                      1                 0"
      ]
     },
     "execution_count": 44,
     "metadata": {},
     "output_type": "execute_result"
    }
   ],
   "source": [
    "cond = (dataset_used1['years_period_edit1']=='1')&(dataset_used1['unit_house']=='2室1厅')\n",
    "\n",
    "dataset_used1[cond][['interests_house_edit1','watch_time_edit1']].head()"
   ]
  },
  {
   "cell_type": "code",
   "execution_count": 45,
   "metadata": {
    "collapsed": false
   },
   "outputs": [
    {
     "data": {
      "text/plain": [
       "array(['nodata', '板', '塔', '板塔', '别墅', '平房'], dtype=object)"
      ]
     },
     "execution_count": 45,
     "metadata": {},
     "output_type": "execute_result"
    }
   ],
   "source": [
    "dataset_used1['years_house_type_edit1'].unique()"
   ]
  },
  {
   "cell_type": "code",
   "execution_count": 46,
   "metadata": {
    "collapsed": false
   },
   "outputs": [
    {
     "data": {
      "text/plain": [
       "community_house                  龙湖长城源著 \n",
       "unit_house                          2室1厅\n",
       "size_house_edit1                   0.000\n",
       "size_house_edit1_addcata               1\n",
       "watch_time_edit1                       0\n",
       "watch_time_edit1_addcata               0\n",
       "interests_house_edit1                 32\n",
       "interests_house_edit1_addcata          0\n",
       "submit_period_edit1                   29\n",
       "submit_period_edit1_addcata            0\n",
       "years_period_edit1                     1\n",
       "tax_free_edit1                         1\n",
       "total_price                      235.000\n",
       "smeter_price_edit1                 28266\n",
       "direction_edit1                       东南\n",
       "decoration_edit1                      其他\n",
       "elevator_edit1                    nodata\n",
       "type_house_edit1                     低楼层\n",
       "years_house_type_edit1            nodata\n",
       "years_house_year_edit1          2015.000\n",
       "region                                bj\n",
       "Name: 337734, dtype: object"
      ]
     },
     "execution_count": 46,
     "metadata": {},
     "output_type": "execute_result"
    }
   ],
   "source": [
    "dataset_used1.ix[337734,:]"
   ]
  },
  {
   "cell_type": "code",
   "execution_count": 47,
   "metadata": {
    "collapsed": false
   },
   "outputs": [
    {
     "data": {
      "text/plain": [
       "array(['cd', 'xm', 'sh', 'sz', 'zz', 'qd', 'su', 'cq', 'dl', 'hf', 'sjz',\n",
       "       'cs', 'wh', 'nj', 'hz', 'tj', 'gz', 'bj', 'lf', 'jn', 'fs', 'zh',\n",
       "       'zs'], dtype=object)"
      ]
     },
     "execution_count": 47,
     "metadata": {},
     "output_type": "execute_result"
    }
   ],
   "source": [
    "dataset_used1['region'].unique()"
   ]
  },
  {
   "cell_type": "markdown",
   "metadata": {
    "collapsed": true
   },
   "source": [
    "#### 关联分析"
   ]
  },
  {
   "cell_type": "markdown",
   "metadata": {
    "collapsed": true
   },
   "source": [
    "目标变量，房子单价，smeter_price_edit1。  \n",
    "不同的面积-单价，size_house_edit1  \n",
    "不同地区-单价，region  \n",
    "2年产权-单价，years_period_edit1  \n",
    "5年产权-单价，tax_free_edit1  \n",
    "不同户型-单价，unit_house  \n",
    "**  不同查看次数-单价，watch_time_edit1**  \n",
    "** 不同收藏次数-单价，interests_house_edit1**  \n",
    "不同装修程度-单价，decoration_edit1  \n",
    "** 不同朝向-单价，direction_edit1**  \n",
    "不同电梯配置-单价，elevator_edit1  \n",
    "不同楼层位置-单价，type_house_edit1  \n",
    "不同楼型-单价,years_house_type_edit1  \n",
    "不同建成时间-单价,years_house_year_edit1  \n",
    "** 不同小区-单价**  \n"
   ]
  },
  {
   "cell_type": "code",
   "execution_count": 48,
   "metadata": {
    "collapsed": false
   },
   "outputs": [
    {
     "data": {
      "text/plain": [
       "years_period_edit1\n",
       "0   31620.411\n",
       "1   64924.182\n",
       "Name: smeter_price_edit1, dtype: float64"
      ]
     },
     "execution_count": 48,
     "metadata": {},
     "output_type": "execute_result"
    }
   ],
   "source": [
    "dataset_used1.groupby('years_period_edit1')['smeter_price_edit1'].mean()"
   ]
  },
  {
   "cell_type": "markdown",
   "metadata": {},
   "source": [
    "##### 2年产权、5年产权vs装修程度、户型"
   ]
  },
  {
   "cell_type": "code",
   "execution_count": 49,
   "metadata": {
    "collapsed": false
   },
   "outputs": [
    {
     "data": {
      "text/plain": [
       "Text(0.5,1,'不同户型')"
      ]
     },
     "execution_count": 49,
     "metadata": {},
     "output_type": "execute_result"
    },
    {
     "data": {
      "image/png": "[encoded data removed]",
      "text/plain": [
       "<Figure size 720x432 with 4 Axes>"
      ]
     },
     "metadata": {},
     "output_type": "display_data"
    }
   ],
   "source": [
    "fig5 = plt.figure(figsize=(10,6))\n",
    "fig5.suptitle('2年产权、5年产权、装修程度、户型')\n",
    "fig5.add_subplot(231)\n",
    "dataset_used1.groupby('years_period_edit1')['smeter_price_edit1'].mean().plot(kind='bar')\n",
    "plt.title('2年产权')\n",
    "\n",
    "fig5.add_subplot(232)\n",
    "dataset_used1.groupby('tax_free_edit1')['smeter_price_edit1'].mean().plot(kind='bar')\n",
    "plt.title('5年产权')\n",
    "\n",
    "fig5.add_subplot(233)\n",
    "dataset_used1.groupby('decoration_edit1')['smeter_price_edit1'].mean().plot(kind='bar')\n",
    "plt.title('装修程度')\n",
    "\n",
    "fig5.add_subplot(212)\n",
    "dataset_used1.groupby('unit_house')['smeter_price_edit1'].mean().plot(kind='bar')\n",
    "plt.title('不同户型')"
   ]
  },
  {
   "cell_type": "markdown",
   "metadata": {},
   "source": [
    "##### 电梯、楼层、楼型、建成时间单变量统计"
   ]
  },
  {
   "cell_type": "code",
   "execution_count": 50,
   "metadata": {
    "collapsed": false
   },
   "outputs": [
    {
     "data": {
      "text/plain": [
       "Text(0.5,1,'建成时间')"
      ]
     },
     "execution_count": 50,
     "metadata": {},
     "output_type": "execute_result"
    },
    {
     "data": {
      "image/png": "[encoded data removed]",
      "text/plain": [
       "<Figure size 720x432 with 4 Axes>"
      ]
     },
     "metadata": {},
     "output_type": "display_data"
    }
   ],
   "source": [
    "fig5 = plt.figure(figsize=(10,6))\n",
    "# plt.tight_layout(pad=1)\n",
    "fig5.suptitle('电梯、楼层、楼型、建成时间')\n",
    "\n",
    "plt.subplots_adjust(wspace=0.5,hspace=0.5)\n",
    "fig5.add_subplot(231)\n",
    "dataset_used1.groupby('elevator_edit1')['smeter_price_edit1'].mean().plot(kind='bar')\n",
    "plt.title('电梯')\n",
    "\n",
    "fig5.add_subplot(232)\n",
    "dataset_used1.groupby('type_house_edit1')['smeter_price_edit1'].mean().plot(kind='bar')\n",
    "plt.title('楼层')\n",
    "\n",
    "fig5.add_subplot(233)\n",
    "dataset_used1.groupby('years_house_type_edit1')['smeter_price_edit1'].mean().plot(kind='bar')\n",
    "plt.title('楼型')\n",
    "\n",
    "fig5.add_subplot(212)\n",
    "dataset_used1.groupby('years_house_year_edit1')['smeter_price_edit1'].mean().plot(kind='bar')\n",
    "plt.title('建成时间')"
   ]
  },
  {
   "cell_type": "markdown",
   "metadata": {},
   "source": [
    "##### 连续变量的相关性"
   ]
  },
  {
   "cell_type": "code",
   "execution_count": 51,
   "metadata": {
    "collapsed": false
   },
   "outputs": [
    {
     "data": {
      "text/html": [
       "<div>\n",
       "<style scoped>\n",
       "    .dataframe tbody tr th:only-of-type {\n",
       "        vertical-align: middle;\n",
       "    }\n",
       "\n",
       "    .dataframe tbody tr th {\n",
       "        vertical-align: top;\n",
       "    }\n",
       "\n",
       "    .dataframe thead th {\n",
       "        text-align: right;\n",
       "    }\n",
       "</style>\n",
       "<table border=\"1\" class=\"dataframe\">\n",
       "  <thead>\n",
       "    <tr style=\"text-align: right;\">\n",
       "      <th></th>\n",
       "      <th>size_house_edit1</th>\n",
       "      <th>watch_time_edit1</th>\n",
       "      <th>interests_house_edit1</th>\n",
       "      <th>submit_period_edit1</th>\n",
       "      <th>total_price</th>\n",
       "      <th>smeter_price_edit1</th>\n",
       "      <th>years_house_year_edit1</th>\n",
       "    </tr>\n",
       "  </thead>\n",
       "  <tbody>\n",
       "    <tr>\n",
       "      <th>size_house_edit1</th>\n",
       "      <td>1.000</td>\n",
       "      <td>-0.193</td>\n",
       "      <td>-0.225</td>\n",
       "      <td>-0.269</td>\n",
       "      <td>0.373</td>\n",
       "      <td>-0.087</td>\n",
       "      <td>nan</td>\n",
       "    </tr>\n",
       "    <tr>\n",
       "      <th>watch_time_edit1</th>\n",
       "      <td>-0.193</td>\n",
       "      <td>1.000</td>\n",
       "      <td>0.617</td>\n",
       "      <td>0.544</td>\n",
       "      <td>0.147</td>\n",
       "      <td>0.225</td>\n",
       "      <td>-0.017</td>\n",
       "    </tr>\n",
       "    <tr>\n",
       "      <th>interests_house_edit1</th>\n",
       "      <td>-0.225</td>\n",
       "      <td>0.617</td>\n",
       "      <td>1.000</td>\n",
       "      <td>0.651</td>\n",
       "      <td>0.138</td>\n",
       "      <td>0.235</td>\n",
       "      <td>-0.118</td>\n",
       "    </tr>\n",
       "    <tr>\n",
       "      <th>submit_period_edit1</th>\n",
       "      <td>-0.269</td>\n",
       "      <td>0.544</td>\n",
       "      <td>0.651</td>\n",
       "      <td>1.000</td>\n",
       "      <td>0.217</td>\n",
       "      <td>0.287</td>\n",
       "      <td>0.026</td>\n",
       "    </tr>\n",
       "    <tr>\n",
       "      <th>total_price</th>\n",
       "      <td>0.373</td>\n",
       "      <td>0.147</td>\n",
       "      <td>0.138</td>\n",
       "      <td>0.217</td>\n",
       "      <td>1.000</td>\n",
       "      <td>0.635</td>\n",
       "      <td>0.134</td>\n",
       "    </tr>\n",
       "    <tr>\n",
       "      <th>smeter_price_edit1</th>\n",
       "      <td>-0.087</td>\n",
       "      <td>0.225</td>\n",
       "      <td>0.235</td>\n",
       "      <td>0.287</td>\n",
       "      <td>0.635</td>\n",
       "      <td>1.000</td>\n",
       "      <td>-0.250</td>\n",
       "    </tr>\n",
       "    <tr>\n",
       "      <th>years_house_year_edit1</th>\n",
       "      <td>nan</td>\n",
       "      <td>-0.017</td>\n",
       "      <td>-0.118</td>\n",
       "      <td>0.026</td>\n",
       "      <td>0.134</td>\n",
       "      <td>-0.250</td>\n",
       "      <td>1.000</td>\n",
       "    </tr>\n",
       "  </tbody>\n",
       "</table>\n",
       "</div>"
      ],
      "text/plain": [
       "                        size_house_edit1  watch_time_edit1  \\\n",
       "size_house_edit1                   1.000            -0.193   \n",
       "watch_time_edit1                  -0.193             1.000   \n",
       "interests_house_edit1             -0.225             0.617   \n",
       "submit_period_edit1               -0.269             0.544   \n",
       "total_price                        0.373             0.147   \n",
       "smeter_price_edit1                -0.087             0.225   \n",
       "years_house_year_edit1               nan            -0.017   \n",
       "\n",
       "                        interests_house_edit1  submit_period_edit1  \\\n",
       "size_house_edit1                       -0.225               -0.269   \n",
       "watch_time_edit1                        0.617                0.544   \n",
       "interests_house_edit1                   1.000                0.651   \n",
       "submit_period_edit1                     0.651                1.000   \n",
       "total_price                             0.138                0.217   \n",
       "smeter_price_edit1                      0.235                0.287   \n",
       "years_house_year_edit1                 -0.118                0.026   \n",
       "\n",
       "                        total_price  smeter_price_edit1  \\\n",
       "size_house_edit1              0.373              -0.087   \n",
       "watch_time_edit1              0.147               0.225   \n",
       "interests_house_edit1         0.138               0.235   \n",
       "submit_period_edit1           0.217               0.287   \n",
       "total_price                   1.000               0.635   \n",
       "smeter_price_edit1            0.635               1.000   \n",
       "years_house_year_edit1        0.134              -0.250   \n",
       "\n",
       "                        years_house_year_edit1  \n",
       "size_house_edit1                           nan  \n",
       "watch_time_edit1                        -0.017  \n",
       "interests_house_edit1                   -0.118  \n",
       "submit_period_edit1                      0.026  \n",
       "total_price                              0.134  \n",
       "smeter_price_edit1                      -0.250  \n",
       "years_house_year_edit1                   1.000  "
      ]
     },
     "execution_count": 51,
     "metadata": {},
     "output_type": "execute_result"
    }
   ],
   "source": [
    "dataset_used1.corr()"
   ]
  },
  {
   "cell_type": "code",
   "execution_count": 52,
   "metadata": {
    "collapsed": false,
    "scrolled": false
   },
   "outputs": [
    {
     "data": {
      "text/plain": [
       "<matplotlib.axes._subplots.AxesSubplot at 0x41616358>"
      ]
     },
     "execution_count": 52,
     "metadata": {},
     "output_type": "execute_result"
    },
    {
     "data": {
      "image/png": "[encoded data removed]",
      "text/plain": [
       "<Figure size 576x576 with 2 Axes>"
      ]
     },
     "metadata": {},
     "output_type": "display_data"
    }
   ],
   "source": [
    "plt.subplots(figsize=(8,8))\n",
    "sns.heatmap(dataset_used1.corr(), vmax=1.0, square=True)"
   ]
  },
  {
   "cell_type": "markdown",
   "metadata": {},
   "source": [
    "#####  异常值检查（size_house_edit1与smeter_price_edit1关系为例）\n",
    "###### 检查\n"
   ]
  },
  {
   "cell_type": "code",
   "execution_count": 53,
   "metadata": {
    "collapsed": false
   },
   "outputs": [
    {
     "data": {
      "image/png": "[encoded data removed]",
      "text/plain": [
       "<Figure size 432x288 with 1 Axes>"
      ]
     },
     "metadata": {},
     "output_type": "display_data"
    }
   ],
   "source": [
    "\n",
    "fig, ax = plt.subplots()\n",
    "ax.scatter(x = dataset_used1.ix[:, 'size_house_edit1'], y = dataset_used1.ix[:, 'smeter_price_edit1'])\n",
    "plt.ylabel('SalePrice', fontsize=13)\n",
    "plt.xlabel('GrLivArea', fontsize=13)\n",
    "plt.show()"
   ]
  },
  {
   "cell_type": "markdown",
   "metadata": {},
   "source": [
    "- 从上面的散点图可看出：右下方的几个数据，living area特别大，但是价格又低的离谱，应该是远离市区的无人地带。对最后的分类结果没有影响的离群点（Oultliers），我们可以放心将其删除。"
   ]
  },
  {
   "cell_type": "markdown",
   "metadata": {},
   "source": [
    "###### 剔除异常点"
   ]
  },
  {
   "cell_type": "code",
   "execution_count": 54,
   "metadata": {
    "collapsed": false
   },
   "outputs": [
    {
     "data": {
      "image/png": "[encoded data removed]",
      "text/plain": [
       "<Figure size 432x288 with 1 Axes>"
      ]
     },
     "metadata": {},
     "output_type": "display_data"
    }
   ],
   "source": [
    "# 删除离群点\n",
    "dataset_used1 = dataset_used1.drop(dataset_used1[(dataset_used1['size_house_edit1']>1900) & (dataset_used1['smeter_price_edit1']<1250000)].index)\n",
    "\n",
    "fig, ax = plt.subplots()\n",
    "ax.scatter(x = dataset_used1.ix[:, 'size_house_edit1'], y = dataset_used1.ix[:, 'smeter_price_edit1'])\n",
    "plt.ylabel('SalePrice', fontsize=13)\n",
    "plt.xlabel('GrLivArea', fontsize=13)\n",
    "plt.show()"
   ]
  },
  {
   "cell_type": "markdown",
   "metadata": {},
   "source": [
    "#### 目标变量处理——满足整体分布\n",
    "- 目标值处理：\n",
    "  - 线性的模型需要正态分布的目标值才能发挥最大的作用。我们需要检测房价什么时候偏离正态分布。使用probplot函数，即正态概率图："
   ]
  },
  {
   "cell_type": "markdown",
   "metadata": {},
   "source": [
    "##### 绘制正态分布图"
   ]
  },
  {
   "cell_type": "code",
   "execution_count": 55,
   "metadata": {
    "collapsed": false
   },
   "outputs": [
    {
     "name": "stderr",
     "output_type": "stream",
     "text": [
      "C:\\ProgramData\\Miniconda3\\lib\\site-packages\\scipy\\stats\\stats.py:1713: FutureWarning: Using a non-tuple sequence for multidimensional indexing is deprecated; use `arr[tuple(seq)]` instead of `arr[seq]`. In the future this will be interpreted as an array index, `arr[np.array(seq)]`, which will result either in an error or a different result.\n",
      "  return np.add.reduce(sorted[indexer] * weights, axis=axis) / sumval\n"
     ]
    },
    {
     "name": "stdout",
     "output_type": "stream",
     "text": [
      "\n",
      " mu = 33765.16 and sigma = 22811.23\n",
      "\n"
     ]
    },
    {
     "data": {
      "image/png": "[encoded data removed]",
      "text/plain": [
       "<Figure size 432x432 with 1 Axes>"
      ]
     },
     "metadata": {},
     "output_type": "display_data"
    }
   ],
   "source": [
    "fig5 = plt.figure(figsize=(6,6))\n",
    "\n",
    "sns.distplot(dataset_used1['smeter_price_edit1'] , fit=norm)\n",
    "# 正态分布拟合\n",
    "(mu, sigma) = norm.fit(dataset_used1['smeter_price_edit1'])\n",
    "print( '\\n mu = {:.2f} and sigma = {:.2f}\\n'.format(mu, sigma))\n"
   ]
  },
  {
   "cell_type": "markdown",
   "metadata": {},
   "source": [
    "##### 绘制QQ图  \n",
    "看是否与理论的一致"
   ]
  },
  {
   "cell_type": "code",
   "execution_count": 56,
   "metadata": {
    "collapsed": false
   },
   "outputs": [
    {
     "data": {
      "image/png": "[encoded data removed]",
      "text/plain": [
       "<Figure size 432x432 with 1 Axes>"
      ]
     },
     "metadata": {},
     "output_type": "display_data"
    }
   ],
   "source": [
    "fig5 = plt.figure(figsize=(6,6))\n",
    "\n",
    "# 绘图\n",
    "plt.legend(['Normal dist. ($\\mu=$ {:.2f} and $\\sigma=$ {:.2f} )'.format(mu, sigma)],\n",
    "            loc='best')\n",
    "plt.ylabel('Frequency')\n",
    "plt.title('SalePrice distribution')\n",
    "\n",
    "# 原始数据分布绘图\n",
    "res = stats.probplot(dataset_used1['smeter_price_edit1'], plot=plt)\n",
    "plt.show()"
   ]
  },
  {
   "cell_type": "markdown",
   "metadata": {},
   "source": [
    "从上图结果观察到，与理论分布偏离较大，需要对其进行转换处理，常见的方法可考虑log变换"
   ]
  },
  {
   "cell_type": "markdown",
   "metadata": {},
   "source": [
    "##### 变换处理与查看"
   ]
  },
  {
   "cell_type": "code",
   "execution_count": 57,
   "metadata": {
    "collapsed": false
   },
   "outputs": [
    {
     "name": "stderr",
     "output_type": "stream",
     "text": [
      "C:\\ProgramData\\Miniconda3\\lib\\site-packages\\ipykernel_launcher.py:2: RuntimeWarning: divide by zero encountered in log1p\n",
      "  \n"
     ]
    }
   ],
   "source": [
    "# 使用log1p函数完成log(1+x)变换\n",
    "dataset_used1['smeter_price_edit1'] = np.log1p(dataset_used1['smeter_price_edit1'])"
   ]
  },
  {
   "cell_type": "code",
   "execution_count": 58,
   "metadata": {
    "collapsed": true
   },
   "outputs": [],
   "source": [
    "# sns.distplot(dataset_used1['smeter_price_edit1'] , fit=norm)\n",
    "# 正态分布拟合\n",
    "(mu, sigma) = norm.fit(dataset_used1['smeter_price_edit1'])"
   ]
  },
  {
   "cell_type": "code",
   "execution_count": 59,
   "metadata": {
    "collapsed": false
   },
   "outputs": [
    {
     "name": "stderr",
     "output_type": "stream",
     "text": [
      "C:\\ProgramData\\Miniconda3\\lib\\site-packages\\numpy\\lib\\function_base.py:2320: RuntimeWarning: invalid value encountered in subtract\n",
      "  X -= avg[:, None]\n",
      "C:\\ProgramData\\Miniconda3\\lib\\site-packages\\scipy\\stats\\_distn_infrastructure.py:879: RuntimeWarning: invalid value encountered in greater\n",
      "  return (self.a < x) & (x < self.b)\n",
      "C:\\ProgramData\\Miniconda3\\lib\\site-packages\\scipy\\stats\\_distn_infrastructure.py:879: RuntimeWarning: invalid value encountered in less\n",
      "  return (self.a < x) & (x < self.b)\n",
      "C:\\ProgramData\\Miniconda3\\lib\\site-packages\\scipy\\stats\\_distn_infrastructure.py:1821: RuntimeWarning: invalid value encountered in less_equal\n",
      "  cond2 = cond0 & (x <= self.a)\n"
     ]
    },
    {
     "data": {
      "image/png": "[encoded data removed]",
      "text/plain": [
       "<Figure size 432x432 with 1 Axes>"
      ]
     },
     "metadata": {},
     "output_type": "display_data"
    }
   ],
   "source": [
    "fig6 = plt.figure(figsize=(6,6))\n",
    "\n",
    "# 绘图\n",
    "plt.legend(['Normal dist. ($\\mu=$ {:.2f} and $\\sigma=$ {:.2f} )'.format(mu, sigma)],\n",
    "            loc='best')\n",
    "plt.ylabel('Frequency')\n",
    "plt.title('SalePrice distribution')\n",
    "\n",
    "# log变换之后的数据分布绘图\n",
    "res = stats.probplot(dataset_used1['smeter_price_edit1'], plot=plt)\n",
    "plt.show()"
   ]
  },
  {
   "cell_type": "markdown",
   "metadata": {},
   "source": [
    "#### 缺失值处理"
   ]
  },
  {
   "cell_type": "code",
   "execution_count": 60,
   "metadata": {
    "collapsed": false
   },
   "outputs": [
    {
     "name": "stdout",
     "output_type": "stream",
     "text": [
      "<class 'pandas.core.frame.DataFrame'>\n",
      "Int64Index: 474294 entries, 0 to 474300\n",
      "Data columns (total 21 columns):\n",
      "community_house                  474294 non-null object\n",
      "unit_house                       38137 non-null object\n",
      "size_house_edit1                 474294 non-null float64\n",
      "size_house_edit1_addcata         474294 non-null object\n",
      "watch_time_edit1                 474294 non-null int64\n",
      "watch_time_edit1_addcata         474294 non-null object\n",
      "interests_house_edit1            474294 non-null int64\n",
      "interests_house_edit1_addcata    474294 non-null object\n",
      "submit_period_edit1              474294 non-null int64\n",
      "submit_period_edit1_addcata      474294 non-null object\n",
      "years_period_edit1               474294 non-null object\n",
      "tax_free_edit1                   474294 non-null object\n",
      "total_price                      474294 non-null float64\n",
      "smeter_price_edit1               474294 non-null float64\n",
      "direction_edit1                  474294 non-null object\n",
      "decoration_edit1                 474294 non-null object\n",
      "elevator_edit1                   474294 non-null object\n",
      "type_house_edit1                 474294 non-null object\n",
      "years_house_type_edit1           474294 non-null object\n",
      "years_house_year_edit1           37850 non-null float64\n",
      "region                           474294 non-null object\n",
      "dtypes: float64(4), int64(3), object(14)\n",
      "memory usage: 79.6+ MB\n"
     ]
    }
   ],
   "source": [
    "dataset_used1.info()"
   ]
  },
  {
   "cell_type": "code",
   "execution_count": 61,
   "metadata": {
    "collapsed": true
   },
   "outputs": [],
   "source": [
    "# temp1_1 =dataset_used1.dtypes\n",
    "# temp2_1 = temp1[temp1=='object'].index\n",
    "# temp3_1 = dataset_used1[temp2_1]==-1'\n",
    "\n",
    "all_data_na3 = (dataset_used1[dataset_used1==-1].sum() / len(dataset_used1)) * 100\n",
    "\n",
    "\n",
    "all_data_na3 = all_data_na3.drop(all_data_na3[all_data_na3 == 0].index).sort_values(ascending=False)[:30]\n",
    "missing_data3 = pd.DataFrame({'Missing Ratio' :all_data_na3})"
   ]
  },
  {
   "cell_type": "code",
   "execution_count": 62,
   "metadata": {
    "collapsed": false
   },
   "outputs": [
    {
     "data": {
      "text/plain": [
       "Text(0.5,1,'Percent missing data by feature')"
      ]
     },
     "execution_count": 62,
     "metadata": {},
     "output_type": "execute_result"
    },
    {
     "data": {
      "image/png": "[encoded data removed]",
      "text/plain": [
       "<Figure size 576x576 with 1 Axes>"
      ]
     },
     "metadata": {},
     "output_type": "display_data"
    }
   ],
   "source": [
    "\n",
    "f, ax = plt.subplots(figsize=(8, 8))\n",
    "plt.xticks(rotation='90')\n",
    "sns.barplot(x=all_data_na3.index, y=all_data_na3)\n",
    "plt.xlabel('Features', fontsize=15)\n",
    "plt.ylabel('Percent of missing values', fontsize=15)\n",
    "plt.title('Percent missing data by feature', fontsize=15)"
   ]
  },
  {
   "cell_type": "code",
   "execution_count": 63,
   "metadata": {
    "collapsed": true
   },
   "outputs": [],
   "source": [
    "temp1 =dataset_used1.dtypes\n",
    "temp2 = temp1[temp1=='object'].index\n",
    "temp3 = dataset_used1[temp2]=='nodata'\n",
    "\n",
    "all_data_na2 = (temp3.sum() / len(dataset_used1[temp2])) * 100\n",
    "all_data_na2 = all_data_na2.drop(all_data_na2[all_data_na2 == 0].index).sort_values(ascending=False)[:30]\n",
    "missing_data2 = pd.DataFrame({'Missing Ratio' :all_data_na2})"
   ]
  },
  {
   "cell_type": "code",
   "execution_count": 64,
   "metadata": {
    "collapsed": false
   },
   "outputs": [
    {
     "data": {
      "text/plain": [
       "Text(0.5,1,'Percent missing data by feature')"
      ]
     },
     "execution_count": 64,
     "metadata": {},
     "output_type": "execute_result"
    },
    {
     "data": {
      "image/png": "[encoded data removed]",
      "text/plain": [
       "<Figure size 576x576 with 1 Axes>"
      ]
     },
     "metadata": {},
     "output_type": "display_data"
    }
   ],
   "source": [
    "\n",
    "f, ax = plt.subplots(figsize=(8, 8))\n",
    "plt.xticks(rotation='90')\n",
    "sns.barplot(x=all_data_na2.index, y=all_data_na2)\n",
    "plt.xlabel('Features', fontsize=15)\n",
    "plt.ylabel('Percent of missing values', fontsize=15)\n",
    "plt.title('Percent missing data by feature', fontsize=15)"
   ]
  },
  {
   "cell_type": "code",
   "execution_count": 65,
   "metadata": {
    "collapsed": true
   },
   "outputs": [],
   "source": [
    "all_data_na = (dataset_used1.isnull().sum() / len(dataset_used1)) * 100\n",
    "all_data_na = all_data_na.drop(all_data_na[all_data_na == 0].index).sort_values(ascending=False)[:30]\n",
    "missing_data = pd.DataFrame({'Missing Ratio' :all_data_na})\n"
   ]
  },
  {
   "cell_type": "code",
   "execution_count": 66,
   "metadata": {
    "collapsed": false
   },
   "outputs": [
    {
     "data": {
      "text/plain": [
       "Text(0.5,1,'Percent missing data by feature')"
      ]
     },
     "execution_count": 66,
     "metadata": {},
     "output_type": "execute_result"
    },
    {
     "data": {
      "image/png": "[encoded data removed]",
      "text/plain": [
       "<Figure size 576x576 with 1 Axes>"
      ]
     },
     "metadata": {},
     "output_type": "display_data"
    }
   ],
   "source": [
    "\n",
    "f, ax = plt.subplots(figsize=(8, 8))\n",
    "plt.xticks(rotation='90')\n",
    "sns.barplot(x=all_data_na.index, y=all_data_na)\n",
    "plt.xlabel('Features', fontsize=15)\n",
    "plt.ylabel('Percent of missing values', fontsize=15)\n",
    "plt.title('Percent missing data by feature', fontsize=15)"
   ]
  },
  {
   "cell_type": "markdown",
   "metadata": {},
   "source": [
    "由上面可知道，主要包含有nodata的数据的变量如下，  \n",
    "unit_house  \n",
    "years_house_year_edit1,num  \n",
    "years_house_type_edit1  \n",
    "type_house_edit1  \n",
    "direction_edit1  \n",
    "decoration_edit1  \n",
    "elevator_edit1  \n",
    "watch_time_edit1,num  \n",
    "submit_period_edit1,num  \n",
    "interests_house_edit1,num"
   ]
  },
  {
   "cell_type": "code",
   "execution_count": 67,
   "metadata": {
    "collapsed": true
   },
   "outputs": [],
   "source": [
    "dataset_used1['unit_house'] = dataset_used1['unit_house'].fillna('nodata')\n",
    "dataset_used1['years_house_year_edit1'] = dataset_used1['years_house_year_edit1'].fillna(0)"
   ]
  },
  {
   "cell_type": "code",
   "execution_count": null,
   "metadata": {
    "collapsed": false
   },
   "outputs": [],
   "source": [
    "# 关于年份的处理，将其处理成距今2018的连续型年值\n",
    "dataset_used1['years_house_year_edit2'] = dataset_used1['years_house_year_edit1'].apply(lambda x: 0.0 if x==0.0 else (2018.0-x))\n",
    "# dataset_used1[dataset_used1['years_house_year_edit2']==2018.0] = 0.0"
   ]
  },
  {
   "cell_type": "markdown",
   "metadata": {},
   "source": [
    "　　数值型的缺失，比例达到60%以上，难以通过相关关系的方式来插补缺失值；类别型的数据缺失比列也很大，达到40%以上，先不考虑做处理，而是先将缺失归为一类。\n",
    "因此，之前在函数当中所做的处理，已经达到了缺失值的处理方式。另外，仅需将数值型的缺失值之前是记录为-1，看后续需要是否调整成0或者其它数值。"
   ]
  },
  {
   "cell_type": "code",
   "execution_count": 69,
   "metadata": {
    "collapsed": false
   },
   "outputs": [
    {
     "name": "stdout",
     "output_type": "stream",
     "text": [
      "<class 'pandas.core.frame.DataFrame'>\n",
      "Int64Index: 474294 entries, 0 to 474300\n",
      "Data columns (total 22 columns):\n",
      "community_house                  474294 non-null object\n",
      "unit_house                       474294 non-null object\n",
      "size_house_edit1                 474294 non-null float64\n",
      "size_house_edit1_addcata         474294 non-null object\n",
      "watch_time_edit1                 474294 non-null int64\n",
      "watch_time_edit1_addcata         474294 non-null object\n",
      "interests_house_edit1            474294 non-null int64\n",
      "interests_house_edit1_addcata    474294 non-null object\n",
      "submit_period_edit1              474294 non-null int64\n",
      "submit_period_edit1_addcata      474294 non-null object\n",
      "years_period_edit1               474294 non-null object\n",
      "tax_free_edit1                   474294 non-null object\n",
      "total_price                      474294 non-null float64\n",
      "smeter_price_edit1               474294 non-null float64\n",
      "direction_edit1                  474294 non-null object\n",
      "decoration_edit1                 474294 non-null object\n",
      "elevator_edit1                   474294 non-null object\n",
      "type_house_edit1                 474294 non-null object\n",
      "years_house_type_edit1           474294 non-null object\n",
      "years_house_year_edit1           474294 non-null float64\n",
      "region                           474294 non-null object\n",
      "years_house_year_edit2           474294 non-null float64\n",
      "dtypes: float64(5), int64(3), object(14)\n",
      "memory usage: 83.2+ MB\n"
     ]
    }
   ],
   "source": [
    "dataset_used1.info()"
   ]
  },
  {
   "cell_type": "code",
   "execution_count": 70,
   "metadata": {
    "collapsed": false
   },
   "outputs": [
    {
     "data": {
      "text/plain": [
       "array([ 0.,  8.,  6.,  7.,  3.,  9., 12.,  2., 14.,  1.,  4., 20.,  5.,\n",
       "       13., 10., 17., 39., 26., 33., 21., 16., 22., 15., 32., 23., 37.,\n",
       "       25., 29., 11., 19., 18., 31., 48., 28., 38., 36., 24., 35., 27.,\n",
       "       30., 60., 43., 34., 52., 41., 42., 40., 58., 56., 54., 45., 44.,\n",
       "       68., 55., 62., 64., 61., 63., 50., 59., 53., 51., 57., 46., 47.,\n",
       "       66., 65., 49.])"
      ]
     },
     "execution_count": 70,
     "metadata": {},
     "output_type": "execute_result"
    }
   ],
   "source": [
    "dataset_used1['years_house_year_edit2'].unique()"
   ]
  },
  {
   "cell_type": "code",
   "execution_count": 71,
   "metadata": {
    "collapsed": false
   },
   "outputs": [
    {
     "data": {
      "text/html": [
       "<div>\n",
       "<style scoped>\n",
       "    .dataframe tbody tr th:only-of-type {\n",
       "        vertical-align: middle;\n",
       "    }\n",
       "\n",
       "    .dataframe tbody tr th {\n",
       "        vertical-align: top;\n",
       "    }\n",
       "\n",
       "    .dataframe thead th {\n",
       "        text-align: right;\n",
       "    }\n",
       "</style>\n",
       "<table border=\"1\" class=\"dataframe\">\n",
       "  <thead>\n",
       "    <tr style=\"text-align: right;\">\n",
       "      <th></th>\n",
       "      <th>community_house</th>\n",
       "      <th>unit_house</th>\n",
       "      <th>size_house_edit1</th>\n",
       "      <th>size_house_edit1_addcata</th>\n",
       "      <th>watch_time_edit1</th>\n",
       "      <th>watch_time_edit1_addcata</th>\n",
       "      <th>interests_house_edit1</th>\n",
       "      <th>interests_house_edit1_addcata</th>\n",
       "      <th>submit_period_edit1</th>\n",
       "      <th>submit_period_edit1_addcata</th>\n",
       "      <th>years_period_edit1</th>\n",
       "      <th>tax_free_edit1</th>\n",
       "      <th>total_price</th>\n",
       "      <th>smeter_price_edit1</th>\n",
       "      <th>direction_edit1</th>\n",
       "      <th>decoration_edit1</th>\n",
       "      <th>elevator_edit1</th>\n",
       "      <th>type_house_edit1</th>\n",
       "      <th>years_house_type_edit1</th>\n",
       "      <th>years_house_year_edit1</th>\n",
       "      <th>region</th>\n",
       "      <th>years_house_year_edit2</th>\n",
       "    </tr>\n",
       "  </thead>\n",
       "  <tbody>\n",
       "    <tr>\n",
       "      <th>0</th>\n",
       "      <td>麓山国际帕萨迪纳3组</td>\n",
       "      <td>nodata</td>\n",
       "      <td>98.070</td>\n",
       "      <td>0</td>\n",
       "      <td>-1</td>\n",
       "      <td>1</td>\n",
       "      <td>-1</td>\n",
       "      <td>1</td>\n",
       "      <td>-1</td>\n",
       "      <td>2</td>\n",
       "      <td>0</td>\n",
       "      <td>0</td>\n",
       "      <td>250.000</td>\n",
       "      <td>10.146</td>\n",
       "      <td>nodata</td>\n",
       "      <td>nodata</td>\n",
       "      <td>有电梯</td>\n",
       "      <td>nodata</td>\n",
       "      <td>nodata</td>\n",
       "      <td>0.000</td>\n",
       "      <td>cd</td>\n",
       "      <td>0.000</td>\n",
       "    </tr>\n",
       "    <tr>\n",
       "      <th>1</th>\n",
       "      <td>麓山国际塞尔维蒙</td>\n",
       "      <td>nodata</td>\n",
       "      <td>206.000</td>\n",
       "      <td>0</td>\n",
       "      <td>-1</td>\n",
       "      <td>1</td>\n",
       "      <td>-1</td>\n",
       "      <td>1</td>\n",
       "      <td>-1</td>\n",
       "      <td>2</td>\n",
       "      <td>0</td>\n",
       "      <td>0</td>\n",
       "      <td>420.000</td>\n",
       "      <td>9.923</td>\n",
       "      <td>nodata</td>\n",
       "      <td>nodata</td>\n",
       "      <td>无电梯</td>\n",
       "      <td>nodata</td>\n",
       "      <td>nodata</td>\n",
       "      <td>0.000</td>\n",
       "      <td>cd</td>\n",
       "      <td>0.000</td>\n",
       "    </tr>\n",
       "    <tr>\n",
       "      <th>2</th>\n",
       "      <td>麓山国际半月湾</td>\n",
       "      <td>nodata</td>\n",
       "      <td>112.190</td>\n",
       "      <td>0</td>\n",
       "      <td>-1</td>\n",
       "      <td>1</td>\n",
       "      <td>-1</td>\n",
       "      <td>1</td>\n",
       "      <td>-1</td>\n",
       "      <td>2</td>\n",
       "      <td>0</td>\n",
       "      <td>0</td>\n",
       "      <td>275.000</td>\n",
       "      <td>10.107</td>\n",
       "      <td>nodata</td>\n",
       "      <td>其他</td>\n",
       "      <td>nodata</td>\n",
       "      <td>nodata</td>\n",
       "      <td>nodata</td>\n",
       "      <td>0.000</td>\n",
       "      <td>cd</td>\n",
       "      <td>0.000</td>\n",
       "    </tr>\n",
       "    <tr>\n",
       "      <th>3</th>\n",
       "      <td>心怡中丝园</td>\n",
       "      <td>nodata</td>\n",
       "      <td>87.560</td>\n",
       "      <td>0</td>\n",
       "      <td>-1</td>\n",
       "      <td>1</td>\n",
       "      <td>-1</td>\n",
       "      <td>1</td>\n",
       "      <td>-1</td>\n",
       "      <td>2</td>\n",
       "      <td>0</td>\n",
       "      <td>0</td>\n",
       "      <td>193.000</td>\n",
       "      <td>10.001</td>\n",
       "      <td>nodata</td>\n",
       "      <td>nodata</td>\n",
       "      <td>有电梯</td>\n",
       "      <td>nodata</td>\n",
       "      <td>nodata</td>\n",
       "      <td>0.000</td>\n",
       "      <td>cd</td>\n",
       "      <td>0.000</td>\n",
       "    </tr>\n",
       "    <tr>\n",
       "      <th>4</th>\n",
       "      <td>麓山国际茵特拉肯A</td>\n",
       "      <td>nodata</td>\n",
       "      <td>128.740</td>\n",
       "      <td>0</td>\n",
       "      <td>-1</td>\n",
       "      <td>1</td>\n",
       "      <td>-1</td>\n",
       "      <td>1</td>\n",
       "      <td>-1</td>\n",
       "      <td>2</td>\n",
       "      <td>0</td>\n",
       "      <td>0</td>\n",
       "      <td>300.000</td>\n",
       "      <td>10.056</td>\n",
       "      <td>nodata</td>\n",
       "      <td>其他</td>\n",
       "      <td>nodata</td>\n",
       "      <td>nodata</td>\n",
       "      <td>nodata</td>\n",
       "      <td>0.000</td>\n",
       "      <td>cd</td>\n",
       "      <td>0.000</td>\n",
       "    </tr>\n",
       "  </tbody>\n",
       "</table>\n",
       "</div>"
      ],
      "text/plain": [
       "  community_house unit_house  size_house_edit1 size_house_edit1_addcata  \\\n",
       "0     麓山国际帕萨迪纳3组      nodata            98.070                        0   \n",
       "1       麓山国际塞尔维蒙      nodata           206.000                        0   \n",
       "2        麓山国际半月湾      nodata           112.190                        0   \n",
       "3          心怡中丝园      nodata            87.560                        0   \n",
       "4      麓山国际茵特拉肯A      nodata           128.740                        0   \n",
       "\n",
       "   watch_time_edit1 watch_time_edit1_addcata  interests_house_edit1  \\\n",
       "0                -1                        1                     -1   \n",
       "1                -1                        1                     -1   \n",
       "2                -1                        1                     -1   \n",
       "3                -1                        1                     -1   \n",
       "4                -1                        1                     -1   \n",
       "\n",
       "  interests_house_edit1_addcata  submit_period_edit1  \\\n",
       "0                             1                   -1   \n",
       "1                             1                   -1   \n",
       "2                             1                   -1   \n",
       "3                             1                   -1   \n",
       "4                             1                   -1   \n",
       "\n",
       "  submit_period_edit1_addcata years_period_edit1 tax_free_edit1  total_price  \\\n",
       "0                           2                  0              0      250.000   \n",
       "1                           2                  0              0      420.000   \n",
       "2                           2                  0              0      275.000   \n",
       "3                           2                  0              0      193.000   \n",
       "4                           2                  0              0      300.000   \n",
       "\n",
       "   smeter_price_edit1 direction_edit1 decoration_edit1 elevator_edit1  \\\n",
       "0              10.146          nodata           nodata            有电梯   \n",
       "1               9.923          nodata           nodata            无电梯   \n",
       "2              10.107          nodata               其他         nodata   \n",
       "3              10.001          nodata           nodata            有电梯   \n",
       "4              10.056          nodata               其他         nodata   \n",
       "\n",
       "  type_house_edit1 years_house_type_edit1  years_house_year_edit1 region  \\\n",
       "0           nodata                 nodata                   0.000     cd   \n",
       "1           nodata                 nodata                   0.000     cd   \n",
       "2           nodata                 nodata                   0.000     cd   \n",
       "3           nodata                 nodata                   0.000     cd   \n",
       "4           nodata                 nodata                   0.000     cd   \n",
       "\n",
       "   years_house_year_edit2  \n",
       "0                   0.000  \n",
       "1                   0.000  \n",
       "2                   0.000  \n",
       "3                   0.000  \n",
       "4                   0.000  "
      ]
     },
     "execution_count": 71,
     "metadata": {},
     "output_type": "execute_result"
    }
   ],
   "source": [
    "dataset_used1.head(5)"
   ]
  },
  {
   "cell_type": "markdown",
   "metadata": {},
   "source": [
    "#### 其它特征工程"
   ]
  },
  {
   "cell_type": "markdown",
   "metadata": {},
   "source": [
    "#####  1、有许多特征实际上是类别型的特征，但给出来的是数字，所以需要将其转换成类别型。"
   ]
  },
  {
   "cell_type": "code",
   "execution_count": 72,
   "metadata": {
    "collapsed": true
   },
   "outputs": [],
   "source": [
    "# 年份\n",
    "dataset_used1['years_house_year_edit1'] = dataset_used1['years_house_year_edit1'].astype(int).apply(str)"
   ]
  },
  {
   "cell_type": "code",
   "execution_count": 73,
   "metadata": {
    "collapsed": false
   },
   "outputs": [
    {
     "data": {
      "text/plain": [
       "array(['cd', 'xm', 'sh', 'sz', 'zz', 'qd', 'su', 'cq', 'dl', 'hf', 'sjz',\n",
       "       'cs', 'wh', 'nj', 'hz', 'tj', 'gz', 'bj', 'lf', 'jn', 'fs', 'zh',\n",
       "       'zs'], dtype=object)"
      ]
     },
     "execution_count": 73,
     "metadata": {},
     "output_type": "execute_result"
    }
   ],
   "source": [
    "dataset_used1['region'].unique()"
   ]
  },
  {
   "cell_type": "markdown",
   "metadata": {},
   "source": [
    "##### 2、接下来 LabelEncoder，对部分类别的特征进行编号。"
   ]
  },
  {
   "cell_type": "code",
   "execution_count": 74,
   "metadata": {
    "collapsed": true
   },
   "outputs": [],
   "source": [
    "temp_ds = dataset_used1"
   ]
  },
  {
   "cell_type": "code",
   "execution_count": 75,
   "metadata": {
    "collapsed": true
   },
   "outputs": [],
   "source": [
    "from sklearn.preprocessing import LabelEncoder"
   ]
  },
  {
   "cell_type": "code",
   "execution_count": 76,
   "metadata": {
    "collapsed": false
   },
   "outputs": [
    {
     "data": {
      "text/plain": [
       "Index(['community_house', 'unit_house', 'size_house_edit1_addcata',\n",
       "       'watch_time_edit1_addcata', 'interests_house_edit1_addcata',\n",
       "       'submit_period_edit1_addcata', 'years_period_edit1', 'tax_free_edit1',\n",
       "       'direction_edit1', 'decoration_edit1', 'elevator_edit1',\n",
       "       'type_house_edit1', 'years_house_type_edit1', 'region'],\n",
       "      dtype='object')"
      ]
     },
     "execution_count": 76,
     "metadata": {},
     "output_type": "execute_result"
    }
   ],
   "source": [
    "temp2"
   ]
  },
  {
   "cell_type": "code",
   "execution_count": 77,
   "metadata": {
    "collapsed": true
   },
   "outputs": [],
   "source": [
    "temp1 =dataset_used1.dtypes\n",
    "temp2 = temp1[temp1=='object'].index\n",
    "# 使用LabelEncoder做变换\n",
    "for c in temp2:\n",
    "    lbl = LabelEncoder() \n",
    "    lbl.fit(list(temp_ds[c].unique()))\n",
    "    temp_ds[c] = lbl.transform(list(temp_ds[c].values))"
   ]
  },
  {
   "cell_type": "code",
   "execution_count": 78,
   "metadata": {
    "collapsed": false
   },
   "outputs": [
    {
     "data": {
      "text/plain": [
       "[1,\n",
       " 19,\n",
       " 13,\n",
       " 16,\n",
       " 22,\n",
       " 12,\n",
       " 15,\n",
       " 2,\n",
       " 4,\n",
       " 7,\n",
       " 14,\n",
       " 3,\n",
       " 18,\n",
       " 11,\n",
       " 8,\n",
       " 17,\n",
       " 6,\n",
       " 0,\n",
       " 10,\n",
       " 9,\n",
       " 5,\n",
       " 20,\n",
       " 21]"
      ]
     },
     "execution_count": 78,
     "metadata": {},
     "output_type": "execute_result"
    }
   ],
   "source": [
    "list(temp_ds[c].unique())"
   ]
  },
  {
   "cell_type": "code",
   "execution_count": 79,
   "metadata": {
    "collapsed": false
   },
   "outputs": [
    {
     "name": "stdout",
     "output_type": "stream",
     "text": [
      "temp_ds的数据维度: (474294, 22)\n"
     ]
    },
    {
     "data": {
      "text/html": [
       "<div>\n",
       "<style scoped>\n",
       "    .dataframe tbody tr th:only-of-type {\n",
       "        vertical-align: middle;\n",
       "    }\n",
       "\n",
       "    .dataframe tbody tr th {\n",
       "        vertical-align: top;\n",
       "    }\n",
       "\n",
       "    .dataframe thead th {\n",
       "        text-align: right;\n",
       "    }\n",
       "</style>\n",
       "<table border=\"1\" class=\"dataframe\">\n",
       "  <thead>\n",
       "    <tr style=\"text-align: right;\">\n",
       "      <th></th>\n",
       "      <th>community_house</th>\n",
       "      <th>unit_house</th>\n",
       "      <th>size_house_edit1</th>\n",
       "      <th>size_house_edit1_addcata</th>\n",
       "      <th>watch_time_edit1</th>\n",
       "      <th>watch_time_edit1_addcata</th>\n",
       "      <th>interests_house_edit1</th>\n",
       "      <th>interests_house_edit1_addcata</th>\n",
       "      <th>submit_period_edit1</th>\n",
       "      <th>submit_period_edit1_addcata</th>\n",
       "      <th>years_period_edit1</th>\n",
       "      <th>tax_free_edit1</th>\n",
       "      <th>total_price</th>\n",
       "      <th>smeter_price_edit1</th>\n",
       "      <th>direction_edit1</th>\n",
       "      <th>decoration_edit1</th>\n",
       "      <th>elevator_edit1</th>\n",
       "      <th>type_house_edit1</th>\n",
       "      <th>years_house_type_edit1</th>\n",
       "      <th>years_house_year_edit1</th>\n",
       "      <th>region</th>\n",
       "      <th>years_house_year_edit2</th>\n",
       "    </tr>\n",
       "  </thead>\n",
       "  <tbody>\n",
       "    <tr>\n",
       "      <th>474296</th>\n",
       "      <td>29485</td>\n",
       "      <td>71</td>\n",
       "      <td>0.000</td>\n",
       "      <td>1</td>\n",
       "      <td>-1</td>\n",
       "      <td>1</td>\n",
       "      <td>-1</td>\n",
       "      <td>1</td>\n",
       "      <td>-1</td>\n",
       "      <td>1</td>\n",
       "      <td>0</td>\n",
       "      <td>0</td>\n",
       "      <td>106.000</td>\n",
       "      <td>8.893</td>\n",
       "      <td>15</td>\n",
       "      <td>0</td>\n",
       "      <td>0</td>\n",
       "      <td>0</td>\n",
       "      <td>0</td>\n",
       "      <td>0</td>\n",
       "      <td>21</td>\n",
       "      <td>0.000</td>\n",
       "    </tr>\n",
       "    <tr>\n",
       "      <th>474297</th>\n",
       "      <td>29485</td>\n",
       "      <td>71</td>\n",
       "      <td>0.000</td>\n",
       "      <td>1</td>\n",
       "      <td>-1</td>\n",
       "      <td>1</td>\n",
       "      <td>-1</td>\n",
       "      <td>1</td>\n",
       "      <td>-1</td>\n",
       "      <td>1</td>\n",
       "      <td>0</td>\n",
       "      <td>0</td>\n",
       "      <td>100.000</td>\n",
       "      <td>8.805</td>\n",
       "      <td>15</td>\n",
       "      <td>0</td>\n",
       "      <td>0</td>\n",
       "      <td>0</td>\n",
       "      <td>0</td>\n",
       "      <td>0</td>\n",
       "      <td>21</td>\n",
       "      <td>0.000</td>\n",
       "    </tr>\n",
       "    <tr>\n",
       "      <th>474298</th>\n",
       "      <td>19899</td>\n",
       "      <td>71</td>\n",
       "      <td>0.000</td>\n",
       "      <td>1</td>\n",
       "      <td>-1</td>\n",
       "      <td>1</td>\n",
       "      <td>-1</td>\n",
       "      <td>1</td>\n",
       "      <td>-1</td>\n",
       "      <td>1</td>\n",
       "      <td>0</td>\n",
       "      <td>0</td>\n",
       "      <td>18.000</td>\n",
       "      <td>8.923</td>\n",
       "      <td>15</td>\n",
       "      <td>0</td>\n",
       "      <td>0</td>\n",
       "      <td>0</td>\n",
       "      <td>0</td>\n",
       "      <td>0</td>\n",
       "      <td>21</td>\n",
       "      <td>0.000</td>\n",
       "    </tr>\n",
       "    <tr>\n",
       "      <th>474299</th>\n",
       "      <td>19899</td>\n",
       "      <td>71</td>\n",
       "      <td>0.000</td>\n",
       "      <td>1</td>\n",
       "      <td>-1</td>\n",
       "      <td>1</td>\n",
       "      <td>-1</td>\n",
       "      <td>1</td>\n",
       "      <td>-1</td>\n",
       "      <td>1</td>\n",
       "      <td>0</td>\n",
       "      <td>0</td>\n",
       "      <td>15.000</td>\n",
       "      <td>8.661</td>\n",
       "      <td>15</td>\n",
       "      <td>0</td>\n",
       "      <td>0</td>\n",
       "      <td>0</td>\n",
       "      <td>0</td>\n",
       "      <td>0</td>\n",
       "      <td>21</td>\n",
       "      <td>0.000</td>\n",
       "    </tr>\n",
       "    <tr>\n",
       "      <th>474300</th>\n",
       "      <td>19899</td>\n",
       "      <td>71</td>\n",
       "      <td>0.000</td>\n",
       "      <td>1</td>\n",
       "      <td>-1</td>\n",
       "      <td>1</td>\n",
       "      <td>-1</td>\n",
       "      <td>1</td>\n",
       "      <td>-1</td>\n",
       "      <td>1</td>\n",
       "      <td>0</td>\n",
       "      <td>0</td>\n",
       "      <td>19.000</td>\n",
       "      <td>8.977</td>\n",
       "      <td>15</td>\n",
       "      <td>0</td>\n",
       "      <td>0</td>\n",
       "      <td>0</td>\n",
       "      <td>0</td>\n",
       "      <td>0</td>\n",
       "      <td>21</td>\n",
       "      <td>0.000</td>\n",
       "    </tr>\n",
       "  </tbody>\n",
       "</table>\n",
       "</div>"
      ],
      "text/plain": [
       "        community_house  unit_house  size_house_edit1  \\\n",
       "474296            29485          71             0.000   \n",
       "474297            29485          71             0.000   \n",
       "474298            19899          71             0.000   \n",
       "474299            19899          71             0.000   \n",
       "474300            19899          71             0.000   \n",
       "\n",
       "        size_house_edit1_addcata  watch_time_edit1  watch_time_edit1_addcata  \\\n",
       "474296                         1                -1                         1   \n",
       "474297                         1                -1                         1   \n",
       "474298                         1                -1                         1   \n",
       "474299                         1                -1                         1   \n",
       "474300                         1                -1                         1   \n",
       "\n",
       "        interests_house_edit1  interests_house_edit1_addcata  \\\n",
       "474296                     -1                              1   \n",
       "474297                     -1                              1   \n",
       "474298                     -1                              1   \n",
       "474299                     -1                              1   \n",
       "474300                     -1                              1   \n",
       "\n",
       "        submit_period_edit1  submit_period_edit1_addcata  years_period_edit1  \\\n",
       "474296                   -1                            1                   0   \n",
       "474297                   -1                            1                   0   \n",
       "474298                   -1                            1                   0   \n",
       "474299                   -1                            1                   0   \n",
       "474300                   -1                            1                   0   \n",
       "\n",
       "        tax_free_edit1  total_price  smeter_price_edit1  direction_edit1  \\\n",
       "474296               0      106.000               8.893               15   \n",
       "474297               0      100.000               8.805               15   \n",
       "474298               0       18.000               8.923               15   \n",
       "474299               0       15.000               8.661               15   \n",
       "474300               0       19.000               8.977               15   \n",
       "\n",
       "        decoration_edit1  elevator_edit1  type_house_edit1  \\\n",
       "474296                 0               0                 0   \n",
       "474297                 0               0                 0   \n",
       "474298                 0               0                 0   \n",
       "474299                 0               0                 0   \n",
       "474300                 0               0                 0   \n",
       "\n",
       "        years_house_type_edit1  years_house_year_edit1  region  \\\n",
       "474296                       0                       0      21   \n",
       "474297                       0                       0      21   \n",
       "474298                       0                       0      21   \n",
       "474299                       0                       0      21   \n",
       "474300                       0                       0      21   \n",
       "\n",
       "        years_house_year_edit2  \n",
       "474296                   0.000  \n",
       "474297                   0.000  \n",
       "474298                   0.000  \n",
       "474299                   0.000  \n",
       "474300                   0.000  "
      ]
     },
     "execution_count": 79,
     "metadata": {},
     "output_type": "execute_result"
    }
   ],
   "source": [
    "# 查看维度        \n",
    "print('temp_ds的数据维度: {}'.format(temp_ds.shape))\n",
    "temp_ds.tail()"
   ]
  },
  {
   "cell_type": "code",
   "execution_count": 80,
   "metadata": {
    "collapsed": false
   },
   "outputs": [
    {
     "data": {
      "text/html": [
       "<div>\n",
       "<style scoped>\n",
       "    .dataframe tbody tr th:only-of-type {\n",
       "        vertical-align: middle;\n",
       "    }\n",
       "\n",
       "    .dataframe tbody tr th {\n",
       "        vertical-align: top;\n",
       "    }\n",
       "\n",
       "    .dataframe thead th {\n",
       "        text-align: right;\n",
       "    }\n",
       "</style>\n",
       "<table border=\"1\" class=\"dataframe\">\n",
       "  <thead>\n",
       "    <tr style=\"text-align: right;\">\n",
       "      <th></th>\n",
       "      <th>community_house</th>\n",
       "      <th>unit_house</th>\n",
       "      <th>size_house_edit1</th>\n",
       "      <th>size_house_edit1_addcata</th>\n",
       "      <th>watch_time_edit1</th>\n",
       "      <th>watch_time_edit1_addcata</th>\n",
       "      <th>interests_house_edit1</th>\n",
       "      <th>interests_house_edit1_addcata</th>\n",
       "      <th>submit_period_edit1</th>\n",
       "      <th>submit_period_edit1_addcata</th>\n",
       "      <th>years_period_edit1</th>\n",
       "      <th>tax_free_edit1</th>\n",
       "      <th>total_price</th>\n",
       "      <th>smeter_price_edit1</th>\n",
       "      <th>direction_edit1</th>\n",
       "      <th>decoration_edit1</th>\n",
       "      <th>elevator_edit1</th>\n",
       "      <th>type_house_edit1</th>\n",
       "      <th>years_house_type_edit1</th>\n",
       "      <th>years_house_year_edit1</th>\n",
       "      <th>region</th>\n",
       "      <th>years_house_year_edit2</th>\n",
       "    </tr>\n",
       "  </thead>\n",
       "  <tbody>\n",
       "    <tr>\n",
       "      <th>count</th>\n",
       "      <td>474294.000</td>\n",
       "      <td>474294.000</td>\n",
       "      <td>474294.000</td>\n",
       "      <td>474294.000</td>\n",
       "      <td>474294.000</td>\n",
       "      <td>474294.000</td>\n",
       "      <td>474294.000</td>\n",
       "      <td>474294.000</td>\n",
       "      <td>474294.000</td>\n",
       "      <td>474294.000</td>\n",
       "      <td>474294.000</td>\n",
       "      <td>474294.000</td>\n",
       "      <td>474294.000</td>\n",
       "      <td>474294.000</td>\n",
       "      <td>474294.000</td>\n",
       "      <td>474294.000</td>\n",
       "      <td>474294.000</td>\n",
       "      <td>474294.000</td>\n",
       "      <td>474294.000</td>\n",
       "      <td>474294.000</td>\n",
       "      <td>474294.000</td>\n",
       "      <td>474294.000</td>\n",
       "    </tr>\n",
       "    <tr>\n",
       "      <th>mean</th>\n",
       "      <td>27267.773</td>\n",
       "      <td>66.229</td>\n",
       "      <td>82.180</td>\n",
       "      <td>0.142</td>\n",
       "      <td>0.453</td>\n",
       "      <td>0.920</td>\n",
       "      <td>3.421</td>\n",
       "      <td>0.920</td>\n",
       "      <td>7.452</td>\n",
       "      <td>0.920</td>\n",
       "      <td>0.064</td>\n",
       "      <td>0.074</td>\n",
       "      <td>329.748</td>\n",
       "      <td>-inf</td>\n",
       "      <td>18.814</td>\n",
       "      <td>0.906</td>\n",
       "      <td>0.969</td>\n",
       "      <td>0.410</td>\n",
       "      <td>0.282</td>\n",
       "      <td>4.111</td>\n",
       "      <td>10.437</td>\n",
       "      <td>1.316</td>\n",
       "    </tr>\n",
       "    <tr>\n",
       "      <th>std</th>\n",
       "      <td>16331.565</td>\n",
       "      <td>16.362</td>\n",
       "      <td>59.727</td>\n",
       "      <td>0.349</td>\n",
       "      <td>9.743</td>\n",
       "      <td>0.272</td>\n",
       "      <td>25.412</td>\n",
       "      <td>0.272</td>\n",
       "      <td>40.624</td>\n",
       "      <td>0.272</td>\n",
       "      <td>0.245</td>\n",
       "      <td>0.262</td>\n",
       "      <td>360.473</td>\n",
       "      <td>nan</td>\n",
       "      <td>14.090</td>\n",
       "      <td>1.385</td>\n",
       "      <td>0.858</td>\n",
       "      <td>1.502</td>\n",
       "      <td>1.022</td>\n",
       "      <td>14.184</td>\n",
       "      <td>6.538</td>\n",
       "      <td>5.132</td>\n",
       "    </tr>\n",
       "    <tr>\n",
       "      <th>min</th>\n",
       "      <td>0.000</td>\n",
       "      <td>0.000</td>\n",
       "      <td>0.000</td>\n",
       "      <td>0.000</td>\n",
       "      <td>-1.000</td>\n",
       "      <td>0.000</td>\n",
       "      <td>-1.000</td>\n",
       "      <td>0.000</td>\n",
       "      <td>-1.000</td>\n",
       "      <td>0.000</td>\n",
       "      <td>0.000</td>\n",
       "      <td>0.000</td>\n",
       "      <td>4.000</td>\n",
       "      <td>-inf</td>\n",
       "      <td>0.000</td>\n",
       "      <td>0.000</td>\n",
       "      <td>0.000</td>\n",
       "      <td>0.000</td>\n",
       "      <td>0.000</td>\n",
       "      <td>0.000</td>\n",
       "      <td>0.000</td>\n",
       "      <td>0.000</td>\n",
       "    </tr>\n",
       "    <tr>\n",
       "      <th>25%</th>\n",
       "      <td>12779.000</td>\n",
       "      <td>71.000</td>\n",
       "      <td>50.080</td>\n",
       "      <td>0.000</td>\n",
       "      <td>-1.000</td>\n",
       "      <td>1.000</td>\n",
       "      <td>-1.000</td>\n",
       "      <td>1.000</td>\n",
       "      <td>-1.000</td>\n",
       "      <td>1.000</td>\n",
       "      <td>0.000</td>\n",
       "      <td>0.000</td>\n",
       "      <td>143.000</td>\n",
       "      <td>9.755</td>\n",
       "      <td>15.000</td>\n",
       "      <td>0.000</td>\n",
       "      <td>0.000</td>\n",
       "      <td>0.000</td>\n",
       "      <td>0.000</td>\n",
       "      <td>0.000</td>\n",
       "      <td>4.000</td>\n",
       "      <td>0.000</td>\n",
       "    </tr>\n",
       "    <tr>\n",
       "      <th>50%</th>\n",
       "      <td>27253.000</td>\n",
       "      <td>71.000</td>\n",
       "      <td>80.170</td>\n",
       "      <td>0.000</td>\n",
       "      <td>-1.000</td>\n",
       "      <td>1.000</td>\n",
       "      <td>-1.000</td>\n",
       "      <td>1.000</td>\n",
       "      <td>-1.000</td>\n",
       "      <td>1.000</td>\n",
       "      <td>0.000</td>\n",
       "      <td>0.000</td>\n",
       "      <td>235.000</td>\n",
       "      <td>10.153</td>\n",
       "      <td>15.000</td>\n",
       "      <td>0.000</td>\n",
       "      <td>1.000</td>\n",
       "      <td>0.000</td>\n",
       "      <td>0.000</td>\n",
       "      <td>0.000</td>\n",
       "      <td>12.000</td>\n",
       "      <td>0.000</td>\n",
       "    </tr>\n",
       "    <tr>\n",
       "      <th>75%</th>\n",
       "      <td>41835.000</td>\n",
       "      <td>71.000</td>\n",
       "      <td>106.100</td>\n",
       "      <td>0.000</td>\n",
       "      <td>-1.000</td>\n",
       "      <td>1.000</td>\n",
       "      <td>-1.000</td>\n",
       "      <td>1.000</td>\n",
       "      <td>-1.000</td>\n",
       "      <td>1.000</td>\n",
       "      <td>0.000</td>\n",
       "      <td>0.000</td>\n",
       "      <td>390.000</td>\n",
       "      <td>10.713</td>\n",
       "      <td>15.000</td>\n",
       "      <td>1.000</td>\n",
       "      <td>2.000</td>\n",
       "      <td>0.000</td>\n",
       "      <td>0.000</td>\n",
       "      <td>0.000</td>\n",
       "      <td>16.000</td>\n",
       "      <td>0.000</td>\n",
       "    </tr>\n",
       "    <tr>\n",
       "      <th>max</th>\n",
       "      <td>55144.000</td>\n",
       "      <td>76.000</td>\n",
       "      <td>1823.970</td>\n",
       "      <td>1.000</td>\n",
       "      <td>851.000</td>\n",
       "      <td>1.000</td>\n",
       "      <td>2701.000</td>\n",
       "      <td>1.000</td>\n",
       "      <td>365.000</td>\n",
       "      <td>1.000</td>\n",
       "      <td>1.000</td>\n",
       "      <td>1.000</td>\n",
       "      <td>35000.000</td>\n",
       "      <td>12.206</td>\n",
       "      <td>101.000</td>\n",
       "      <td>4.000</td>\n",
       "      <td>2.000</td>\n",
       "      <td>8.000</td>\n",
       "      <td>5.000</td>\n",
       "      <td>67.000</td>\n",
       "      <td>22.000</td>\n",
       "      <td>68.000</td>\n",
       "    </tr>\n",
       "  </tbody>\n",
       "</table>\n",
       "</div>"
      ],
      "text/plain": [
       "       community_house  unit_house  size_house_edit1  \\\n",
       "count       474294.000  474294.000        474294.000   \n",
       "mean         27267.773      66.229            82.180   \n",
       "std          16331.565      16.362            59.727   \n",
       "min              0.000       0.000             0.000   \n",
       "25%          12779.000      71.000            50.080   \n",
       "50%          27253.000      71.000            80.170   \n",
       "75%          41835.000      71.000           106.100   \n",
       "max          55144.000      76.000          1823.970   \n",
       "\n",
       "       size_house_edit1_addcata  watch_time_edit1  watch_time_edit1_addcata  \\\n",
       "count                474294.000        474294.000                474294.000   \n",
       "mean                      0.142             0.453                     0.920   \n",
       "std                       0.349             9.743                     0.272   \n",
       "min                       0.000            -1.000                     0.000   \n",
       "25%                       0.000            -1.000                     1.000   \n",
       "50%                       0.000            -1.000                     1.000   \n",
       "75%                       0.000            -1.000                     1.000   \n",
       "max                       1.000           851.000                     1.000   \n",
       "\n",
       "       interests_house_edit1  interests_house_edit1_addcata  \\\n",
       "count             474294.000                     474294.000   \n",
       "mean                   3.421                          0.920   \n",
       "std                   25.412                          0.272   \n",
       "min                   -1.000                          0.000   \n",
       "25%                   -1.000                          1.000   \n",
       "50%                   -1.000                          1.000   \n",
       "75%                   -1.000                          1.000   \n",
       "max                 2701.000                          1.000   \n",
       "\n",
       "       submit_period_edit1  submit_period_edit1_addcata  years_period_edit1  \\\n",
       "count           474294.000                   474294.000          474294.000   \n",
       "mean                 7.452                        0.920               0.064   \n",
       "std                 40.624                        0.272               0.245   \n",
       "min                 -1.000                        0.000               0.000   \n",
       "25%                 -1.000                        1.000               0.000   \n",
       "50%                 -1.000                        1.000               0.000   \n",
       "75%                 -1.000                        1.000               0.000   \n",
       "max                365.000                        1.000               1.000   \n",
       "\n",
       "       tax_free_edit1  total_price  smeter_price_edit1  direction_edit1  \\\n",
       "count      474294.000   474294.000          474294.000       474294.000   \n",
       "mean            0.074      329.748                -inf           18.814   \n",
       "std             0.262      360.473                 nan           14.090   \n",
       "min             0.000        4.000                -inf            0.000   \n",
       "25%             0.000      143.000               9.755           15.000   \n",
       "50%             0.000      235.000              10.153           15.000   \n",
       "75%             0.000      390.000              10.713           15.000   \n",
       "max             1.000    35000.000              12.206          101.000   \n",
       "\n",
       "       decoration_edit1  elevator_edit1  type_house_edit1  \\\n",
       "count        474294.000      474294.000        474294.000   \n",
       "mean              0.906           0.969             0.410   \n",
       "std               1.385           0.858             1.502   \n",
       "min               0.000           0.000             0.000   \n",
       "25%               0.000           0.000             0.000   \n",
       "50%               0.000           1.000             0.000   \n",
       "75%               1.000           2.000             0.000   \n",
       "max               4.000           2.000             8.000   \n",
       "\n",
       "       years_house_type_edit1  years_house_year_edit1     region  \\\n",
       "count              474294.000              474294.000 474294.000   \n",
       "mean                    0.282                   4.111     10.437   \n",
       "std                     1.022                  14.184      6.538   \n",
       "min                     0.000                   0.000      0.000   \n",
       "25%                     0.000                   0.000      4.000   \n",
       "50%                     0.000                   0.000     12.000   \n",
       "75%                     0.000                   0.000     16.000   \n",
       "max                     5.000                  67.000     22.000   \n",
       "\n",
       "       years_house_year_edit2  \n",
       "count              474294.000  \n",
       "mean                    1.316  \n",
       "std                     5.132  \n",
       "min                     0.000  \n",
       "25%                     0.000  \n",
       "50%                     0.000  \n",
       "75%                     0.000  \n",
       "max                    68.000  "
      ]
     },
     "execution_count": 80,
     "metadata": {},
     "output_type": "execute_result"
    }
   ],
   "source": [
    "temp_ds.describe()"
   ]
  },
  {
   "cell_type": "code",
   "execution_count": 81,
   "metadata": {
    "collapsed": false
   },
   "outputs": [
    {
     "data": {
      "text/plain": [
       "array([10.14615918,  9.92279986, 10.10695887, ..., 11.19759809,\n",
       "       11.28816811, 11.33664164])"
      ]
     },
     "execution_count": 81,
     "metadata": {},
     "output_type": "execute_result"
    }
   ],
   "source": [
    "temp_ds['smeter_price_edit1'].unique()"
   ]
  },
  {
   "cell_type": "markdown",
   "metadata": {},
   "source": [
    "##### 3、检查变量的正态分布情况\n",
    "对房价进行分析，不符合正态分布的将其log转换，使其符合正态分布；那么偏离正态分布太多的特征我们也对它进行转化："
   ]
  },
  {
   "cell_type": "markdown",
   "metadata": {},
   "source": [
    "###### 检查"
   ]
  },
  {
   "cell_type": "code",
   "execution_count": 82,
   "metadata": {
    "collapsed": true
   },
   "outputs": [],
   "source": [
    "total_price = temp_ds['total_price']\n",
    "temp_ds.drop('total_price', axis=1, inplace=True)"
   ]
  },
  {
   "cell_type": "code",
   "execution_count": 83,
   "metadata": {
    "collapsed": false
   },
   "outputs": [
    {
     "name": "stdout",
     "output_type": "stream",
     "text": [
      "\n",
      "Skew in numerical features: \n",
      "\n"
     ]
    },
    {
     "data": {
      "text/html": [
       "<div>\n",
       "<style scoped>\n",
       "    .dataframe tbody tr th:only-of-type {\n",
       "        vertical-align: middle;\n",
       "    }\n",
       "\n",
       "    .dataframe tbody tr th {\n",
       "        vertical-align: top;\n",
       "    }\n",
       "\n",
       "    .dataframe thead th {\n",
       "        text-align: right;\n",
       "    }\n",
       "</style>\n",
       "<table border=\"1\" class=\"dataframe\">\n",
       "  <thead>\n",
       "    <tr style=\"text-align: right;\">\n",
       "      <th></th>\n",
       "      <th>Skew</th>\n",
       "    </tr>\n",
       "  </thead>\n",
       "  <tbody>\n",
       "    <tr>\n",
       "      <th>watch_time_edit1</th>\n",
       "      <td>16.240</td>\n",
       "    </tr>\n",
       "    <tr>\n",
       "      <th>interests_house_edit1</th>\n",
       "      <td>15.395</td>\n",
       "    </tr>\n",
       "    <tr>\n",
       "      <th>submit_period_edit1</th>\n",
       "      <td>6.197</td>\n",
       "    </tr>\n",
       "    <tr>\n",
       "      <th>size_house_edit1</th>\n",
       "      <td>2.478</td>\n",
       "    </tr>\n",
       "  </tbody>\n",
       "</table>\n",
       "</div>"
      ],
      "text/plain": [
       "                        Skew\n",
       "watch_time_edit1      16.240\n",
       "interests_house_edit1 15.395\n",
       "submit_period_edit1    6.197\n",
       "size_house_edit1       2.478"
      ]
     },
     "execution_count": 83,
     "metadata": {},
     "output_type": "execute_result"
    }
   ],
   "source": [
    "# numeric_feats = dataset_used1.dtypes[dataset_used1.dtypes != \"object\"].index\n",
    "numeric_feats = ['size_house_edit1', 'watch_time_edit1', 'interests_house_edit1', 'submit_period_edit1']\n",
    "# 对所有数值型的特征都计算skew，即计算一下偏度\n",
    "\n",
    "skewed_feats = temp_ds[numeric_feats].apply(lambda x: skew(x.dropna())).sort_values(ascending=False)\n",
    "print(\"\\nSkew in numerical features: \\n\")\n",
    "skewness = pd.DataFrame({'Skew' :skewed_feats})\n",
    "skewness.head()"
   ]
  },
  {
   "cell_type": "markdown",
   "metadata": {},
   "source": [
    "###### 变换处理"
   ]
  },
  {
   "cell_type": "code",
   "execution_count": 84,
   "metadata": {
    "collapsed": false
   },
   "outputs": [
    {
     "name": "stdout",
     "output_type": "stream",
     "text": [
      "总共有 4 数值型的特征做变换\n"
     ]
    }
   ],
   "source": [
    "skewness = skewness[abs(skewness) > 0.75]  # 关于临界值，如何定，不知？？\n",
    "print(\"总共有 {} 数值型的特征做变换\".format(skewness.shape[0]))\n",
    "\n",
    "from scipy.special import boxcox1p\n",
    "skewed_features = skewness.index\n",
    "lam = 0.15\n",
    "for feat in skewed_features:\n",
    "    #all_data[feat] += 1\n",
    "    temp_ds[feat] = boxcox1p(temp_ds[feat], lam)"
   ]
  },
  {
   "cell_type": "code",
   "execution_count": 85,
   "metadata": {
    "collapsed": false
   },
   "outputs": [
    {
     "name": "stdout",
     "output_type": "stream",
     "text": [
      "<class 'pandas.core.frame.DataFrame'>\n",
      "Int64Index: 474294 entries, 0 to 474300\n",
      "Data columns (total 21 columns):\n",
      "community_house                  474294 non-null int64\n",
      "unit_house                       474294 non-null int64\n",
      "size_house_edit1                 474294 non-null float64\n",
      "size_house_edit1_addcata         474294 non-null int64\n",
      "watch_time_edit1                 474294 non-null float64\n",
      "watch_time_edit1_addcata         474294 non-null int64\n",
      "interests_house_edit1            474294 non-null float64\n",
      "interests_house_edit1_addcata    474294 non-null int64\n",
      "submit_period_edit1              474294 non-null float64\n",
      "submit_period_edit1_addcata      474294 non-null int64\n",
      "years_period_edit1               474294 non-null int64\n",
      "tax_free_edit1                   474294 non-null int64\n",
      "smeter_price_edit1               474294 non-null float64\n",
      "direction_edit1                  474294 non-null int64\n",
      "decoration_edit1                 474294 non-null int64\n",
      "elevator_edit1                   474294 non-null int64\n",
      "type_house_edit1                 474294 non-null int64\n",
      "years_house_type_edit1           474294 non-null int64\n",
      "years_house_year_edit1           474294 non-null int64\n",
      "region                           474294 non-null int64\n",
      "years_house_year_edit2           474294 non-null float64\n",
      "dtypes: float64(6), int64(15)\n",
      "memory usage: 79.6 MB\n"
     ]
    }
   ],
   "source": [
    "temp_ds.info()"
   ]
  },
  {
   "cell_type": "markdown",
   "metadata": {
    "collapsed": true
   },
   "source": [
    "这里偏差修正的问题，如果先进行labelcoding，那么如何保证label之后的结果是string？还是说提取单独的数值型列？\n",
    "最后，我决定单独取出"
   ]
  },
  {
   "cell_type": "code",
   "execution_count": 86,
   "metadata": {
    "collapsed": false
   },
   "outputs": [
    {
     "data": {
      "text/html": [
       "<div>\n",
       "<style scoped>\n",
       "    .dataframe tbody tr th:only-of-type {\n",
       "        vertical-align: middle;\n",
       "    }\n",
       "\n",
       "    .dataframe tbody tr th {\n",
       "        vertical-align: top;\n",
       "    }\n",
       "\n",
       "    .dataframe thead th {\n",
       "        text-align: right;\n",
       "    }\n",
       "</style>\n",
       "<table border=\"1\" class=\"dataframe\">\n",
       "  <thead>\n",
       "    <tr style=\"text-align: right;\">\n",
       "      <th></th>\n",
       "      <th>community_house</th>\n",
       "      <th>unit_house</th>\n",
       "      <th>size_house_edit1</th>\n",
       "      <th>size_house_edit1_addcata</th>\n",
       "      <th>watch_time_edit1</th>\n",
       "      <th>watch_time_edit1_addcata</th>\n",
       "      <th>interests_house_edit1</th>\n",
       "      <th>interests_house_edit1_addcata</th>\n",
       "      <th>submit_period_edit1</th>\n",
       "      <th>submit_period_edit1_addcata</th>\n",
       "      <th>years_period_edit1</th>\n",
       "      <th>tax_free_edit1</th>\n",
       "      <th>smeter_price_edit1</th>\n",
       "      <th>direction_edit1</th>\n",
       "      <th>decoration_edit1</th>\n",
       "      <th>elevator_edit1</th>\n",
       "      <th>type_house_edit1</th>\n",
       "      <th>years_house_type_edit1</th>\n",
       "      <th>years_house_year_edit1</th>\n",
       "      <th>region</th>\n",
       "      <th>years_house_year_edit2</th>\n",
       "    </tr>\n",
       "  </thead>\n",
       "  <tbody>\n",
       "    <tr>\n",
       "      <th>0</th>\n",
       "      <td>54124</td>\n",
       "      <td>71</td>\n",
       "      <td>6.616</td>\n",
       "      <td>0</td>\n",
       "      <td>-6.667</td>\n",
       "      <td>1</td>\n",
       "      <td>-6.667</td>\n",
       "      <td>1</td>\n",
       "      <td>-6.667</td>\n",
       "      <td>1</td>\n",
       "      <td>0</td>\n",
       "      <td>0</td>\n",
       "      <td>10.146</td>\n",
       "      <td>15</td>\n",
       "      <td>0</td>\n",
       "      <td>2</td>\n",
       "      <td>0</td>\n",
       "      <td>0</td>\n",
       "      <td>0</td>\n",
       "      <td>1</td>\n",
       "      <td>0.000</td>\n",
       "    </tr>\n",
       "    <tr>\n",
       "      <th>1</th>\n",
       "      <td>54121</td>\n",
       "      <td>71</td>\n",
       "      <td>8.169</td>\n",
       "      <td>0</td>\n",
       "      <td>-6.667</td>\n",
       "      <td>1</td>\n",
       "      <td>-6.667</td>\n",
       "      <td>1</td>\n",
       "      <td>-6.667</td>\n",
       "      <td>1</td>\n",
       "      <td>0</td>\n",
       "      <td>0</td>\n",
       "      <td>9.923</td>\n",
       "      <td>15</td>\n",
       "      <td>0</td>\n",
       "      <td>1</td>\n",
       "      <td>0</td>\n",
       "      <td>0</td>\n",
       "      <td>0</td>\n",
       "      <td>1</td>\n",
       "      <td>0.000</td>\n",
       "    </tr>\n",
       "    <tr>\n",
       "      <th>2</th>\n",
       "      <td>54117</td>\n",
       "      <td>71</td>\n",
       "      <td>6.885</td>\n",
       "      <td>0</td>\n",
       "      <td>-6.667</td>\n",
       "      <td>1</td>\n",
       "      <td>-6.667</td>\n",
       "      <td>1</td>\n",
       "      <td>-6.667</td>\n",
       "      <td>1</td>\n",
       "      <td>0</td>\n",
       "      <td>0</td>\n",
       "      <td>10.107</td>\n",
       "      <td>15</td>\n",
       "      <td>1</td>\n",
       "      <td>0</td>\n",
       "      <td>0</td>\n",
       "      <td>0</td>\n",
       "      <td>0</td>\n",
       "      <td>1</td>\n",
       "      <td>0.000</td>\n",
       "    </tr>\n",
       "    <tr>\n",
       "      <th>3</th>\n",
       "      <td>23640</td>\n",
       "      <td>71</td>\n",
       "      <td>6.395</td>\n",
       "      <td>0</td>\n",
       "      <td>-6.667</td>\n",
       "      <td>1</td>\n",
       "      <td>-6.667</td>\n",
       "      <td>1</td>\n",
       "      <td>-6.667</td>\n",
       "      <td>1</td>\n",
       "      <td>0</td>\n",
       "      <td>0</td>\n",
       "      <td>10.001</td>\n",
       "      <td>15</td>\n",
       "      <td>0</td>\n",
       "      <td>2</td>\n",
       "      <td>0</td>\n",
       "      <td>0</td>\n",
       "      <td>0</td>\n",
       "      <td>1</td>\n",
       "      <td>0.000</td>\n",
       "    </tr>\n",
       "    <tr>\n",
       "      <th>4</th>\n",
       "      <td>54131</td>\n",
       "      <td>71</td>\n",
       "      <td>7.165</td>\n",
       "      <td>0</td>\n",
       "      <td>-6.667</td>\n",
       "      <td>1</td>\n",
       "      <td>-6.667</td>\n",
       "      <td>1</td>\n",
       "      <td>-6.667</td>\n",
       "      <td>1</td>\n",
       "      <td>0</td>\n",
       "      <td>0</td>\n",
       "      <td>10.056</td>\n",
       "      <td>15</td>\n",
       "      <td>1</td>\n",
       "      <td>0</td>\n",
       "      <td>0</td>\n",
       "      <td>0</td>\n",
       "      <td>0</td>\n",
       "      <td>1</td>\n",
       "      <td>0.000</td>\n",
       "    </tr>\n",
       "  </tbody>\n",
       "</table>\n",
       "</div>"
      ],
      "text/plain": [
       "   community_house  unit_house  size_house_edit1  size_house_edit1_addcata  \\\n",
       "0            54124          71             6.616                         0   \n",
       "1            54121          71             8.169                         0   \n",
       "2            54117          71             6.885                         0   \n",
       "3            23640          71             6.395                         0   \n",
       "4            54131          71             7.165                         0   \n",
       "\n",
       "   watch_time_edit1  watch_time_edit1_addcata  interests_house_edit1  \\\n",
       "0            -6.667                         1                 -6.667   \n",
       "1            -6.667                         1                 -6.667   \n",
       "2            -6.667                         1                 -6.667   \n",
       "3            -6.667                         1                 -6.667   \n",
       "4            -6.667                         1                 -6.667   \n",
       "\n",
       "   interests_house_edit1_addcata  submit_period_edit1  \\\n",
       "0                              1               -6.667   \n",
       "1                              1               -6.667   \n",
       "2                              1               -6.667   \n",
       "3                              1               -6.667   \n",
       "4                              1               -6.667   \n",
       "\n",
       "   submit_period_edit1_addcata  years_period_edit1  tax_free_edit1  \\\n",
       "0                            1                   0               0   \n",
       "1                            1                   0               0   \n",
       "2                            1                   0               0   \n",
       "3                            1                   0               0   \n",
       "4                            1                   0               0   \n",
       "\n",
       "   smeter_price_edit1  direction_edit1  decoration_edit1  elevator_edit1  \\\n",
       "0              10.146               15                 0               2   \n",
       "1               9.923               15                 0               1   \n",
       "2              10.107               15                 1               0   \n",
       "3              10.001               15                 0               2   \n",
       "4              10.056               15                 1               0   \n",
       "\n",
       "   type_house_edit1  years_house_type_edit1  years_house_year_edit1  region  \\\n",
       "0                 0                       0                       0       1   \n",
       "1                 0                       0                       0       1   \n",
       "2                 0                       0                       0       1   \n",
       "3                 0                       0                       0       1   \n",
       "4                 0                       0                       0       1   \n",
       "\n",
       "   years_house_year_edit2  \n",
       "0                   0.000  \n",
       "1                   0.000  \n",
       "2                   0.000  \n",
       "3                   0.000  \n",
       "4                   0.000  "
      ]
     },
     "execution_count": 86,
     "metadata": {},
     "output_type": "execute_result"
    }
   ],
   "source": [
    "temp_ds.head()"
   ]
  },
  {
   "cell_type": "code",
   "execution_count": 87,
   "metadata": {
    "collapsed": false
   },
   "outputs": [
    {
     "name": "stdout",
     "output_type": "stream",
     "text": [
      "<class 'pandas.core.frame.DataFrame'>\n",
      "Int64Index: 474294 entries, 0 to 474300\n",
      "Data columns (total 21 columns):\n",
      "community_house                  474294 non-null int64\n",
      "unit_house                       474294 non-null int64\n",
      "size_house_edit1                 474294 non-null float64\n",
      "size_house_edit1_addcata         474294 non-null int64\n",
      "watch_time_edit1                 474294 non-null float64\n",
      "watch_time_edit1_addcata         474294 non-null int64\n",
      "interests_house_edit1            474294 non-null float64\n",
      "interests_house_edit1_addcata    474294 non-null int64\n",
      "submit_period_edit1              474294 non-null float64\n",
      "submit_period_edit1_addcata      474294 non-null int64\n",
      "years_period_edit1               474294 non-null int64\n",
      "tax_free_edit1                   474294 non-null int64\n",
      "smeter_price_edit1               474294 non-null float64\n",
      "direction_edit1                  474294 non-null int64\n",
      "decoration_edit1                 474294 non-null int64\n",
      "elevator_edit1                   474294 non-null int64\n",
      "type_house_edit1                 474294 non-null int64\n",
      "years_house_type_edit1           474294 non-null int64\n",
      "years_house_year_edit1           474294 non-null int64\n",
      "region                           474294 non-null int64\n",
      "years_house_year_edit2           474294 non-null float64\n",
      "dtypes: float64(6), int64(15)\n",
      "memory usage: 79.6 MB\n"
     ]
    }
   ],
   "source": [
    "temp_ds.info()"
   ]
  },
  {
   "cell_type": "markdown",
   "metadata": {},
   "source": [
    "##### 哑变量处理"
   ]
  },
  {
   "cell_type": "code",
   "execution_count": 88,
   "metadata": {
    "collapsed": true
   },
   "outputs": [],
   "source": [
    "temp1 =dataset_used1.dtypes\n",
    "temp2 = temp1[temp1=='int64'].index\n",
    "for name in temp2:\n",
    "    temp_ds[name] = temp_ds[name].astype(str)\n",
    "\n",
    "temp2_2 = temp1[temp1=='float64'].index\n",
    "for name in temp2_2:\n",
    "    temp_ds[name] = temp_ds[name].astype(float)"
   ]
  },
  {
   "cell_type": "code",
   "execution_count": 89,
   "metadata": {
    "collapsed": true
   },
   "outputs": [],
   "source": [
    "temp_ds_use1 = temp_ds.drop(['community_house','years_house_year_edit1'], axis=1)"
   ]
  },
  {
   "cell_type": "code",
   "execution_count": 90,
   "metadata": {
    "collapsed": true
   },
   "outputs": [],
   "source": [
    "all_usedata = pd.get_dummies(temp_ds_use1)"
   ]
  },
  {
   "cell_type": "code",
   "execution_count": 91,
   "metadata": {
    "collapsed": false
   },
   "outputs": [
    {
     "data": {
      "text/plain": [
       "(474294, 243)"
      ]
     },
     "execution_count": 91,
     "metadata": {},
     "output_type": "execute_result"
    }
   ],
   "source": [
    "all_usedata.shape"
   ]
  },
  {
   "cell_type": "code",
   "execution_count": 92,
   "metadata": {
    "collapsed": true
   },
   "outputs": [],
   "source": [
    "useful_dataset = all_usedata.sample(frac=0.1, random_state=123)\n",
    "all_usedata = None\n",
    "del all_usedata,temp_ds,temp_ds_use1,dataset_used1,dataset"
   ]
  },
  {
   "cell_type": "markdown",
   "metadata": {},
   "source": [
    "### 建立模型"
   ]
  },
  {
   "cell_type": "code",
   "execution_count": 93,
   "metadata": {
    "collapsed": true
   },
   "outputs": [],
   "source": [
    "from sklearn.linear_model import ElasticNet, Lasso,  BayesianRidge, LassoLarsIC\n",
    "from sklearn.ensemble import RandomForestRegressor,  GradientBoostingRegressor\n",
    "from sklearn.kernel_ridge import KernelRidge\n",
    "from sklearn.pipeline import make_pipeline\n",
    "from sklearn.preprocessing import RobustScaler\n",
    "from sklearn.base import BaseEstimator, TransformerMixin, RegressorMixin, clone\n",
    "from sklearn.model_selection import KFold, cross_val_score, train_test_split\n",
    "from sklearn.metrics import mean_squared_error\n",
    "import xgboost as xgb\n",
    "import lightgbm as lgb"
   ]
  },
  {
   "cell_type": "markdown",
   "metadata": {},
   "source": [
    "#### 数据准备"
   ]
  },
  {
   "cell_type": "code",
   "execution_count": 94,
   "metadata": {
    "collapsed": true
   },
   "outputs": [],
   "source": [
    "X = useful_dataset.drop('smeter_price_edit1', axis=1)\n",
    "y = useful_dataset['smeter_price_edit1']\n",
    "# 注意这一步！！数据结果与类型转换\n",
    "X = X.as_matrix().astype(np.float)  \n",
    "y = y.as_matrix().astype(np.float)"
   ]
  },
  {
   "cell_type": "code",
   "execution_count": 95,
   "metadata": {
    "collapsed": true
   },
   "outputs": [],
   "source": [
    "# all_data_na = (Train.isnull().sum() / len(Train)) * 100\n",
    "# all_data_na = all_data_na.drop(all_data_na[all_data_na == 0].index).sort_values(ascending=False)[:30]\n",
    "# missing_data = pd.DataFrame({'Missing Ratio' :all_data_na})\n",
    "\n",
    "# f, ax = plt.subplots(figsize=(8, 8))\n",
    "# plt.xticks(rotation='90')\n",
    "# sns.barplot(x=missing_data.index, y=all_data_na)\n",
    "# plt.xlabel('Features', fontsize=15)\n",
    "# plt.ylabel('Percent of missing values', fontsize=15)\n",
    "# plt.title('Percent missing data by feature', fontsize=15)"
   ]
  },
  {
   "cell_type": "code",
   "execution_count": null,
   "metadata": {
    "collapsed": false
   },
   "outputs": [],
   "source": [
    "# 训练集与测试集划分\n",
    "train_x, test_x, train_y, test_y = train_test_split(X, y, test_size=0.2)"
   ]
  },
  {
   "cell_type": "code",
   "execution_count": 97,
   "metadata": {
    "collapsed": true
   },
   "outputs": [],
   "source": [
    "# 交叉验证函数\n",
    "n_folds = 5\n",
    "def rmsle_cv(model):\n",
    "    kf = KFold(n_folds, shuffle=True, random_state=42).get_n_splits(train_x)\n",
    "    rmse= np.sqrt(-cross_val_score(model, train_x, train_y, scoring=\"neg_mean_squared_error\", cv = kf))\n",
    "    return(rmse)"
   ]
  },
  {
   "cell_type": "markdown",
   "metadata": {},
   "source": [
    "#### 模型函数"
   ]
  },
  {
   "cell_type": "markdown",
   "metadata": {},
   "source": [
    "##### 模型函数设定"
   ]
  },
  {
   "cell_type": "markdown",
   "metadata": {},
   "source": [
    "###### lasso模型"
   ]
  },
  {
   "cell_type": "code",
   "execution_count": 98,
   "metadata": {
    "collapsed": true
   },
   "outputs": [],
   "source": [
    "lasso = make_pipeline(RobustScaler(), Lasso(alpha =0.5, random_state=1))"
   ]
  },
  {
   "cell_type": "markdown",
   "metadata": {},
   "source": [
    "###### ENet模型"
   ]
  },
  {
   "cell_type": "code",
   "execution_count": 99,
   "metadata": {
    "collapsed": true
   },
   "outputs": [],
   "source": [
    "ENet = make_pipeline(RobustScaler(), ElasticNet(alpha=0.5, l1_ratio=.9, random_state=3))"
   ]
  },
  {
   "cell_type": "markdown",
   "metadata": {},
   "source": [
    "###### KRR模型"
   ]
  },
  {
   "cell_type": "code",
   "execution_count": 100,
   "metadata": {
    "collapsed": true
   },
   "outputs": [],
   "source": [
    "KRR = KernelRidge(alpha=0.6, kernel='polynomial', degree=2, coef0=2.5)"
   ]
  },
  {
   "cell_type": "markdown",
   "metadata": {},
   "source": [
    "###### GBoost模型"
   ]
  },
  {
   "cell_type": "code",
   "execution_count": 101,
   "metadata": {
    "code_folding": [],
    "collapsed": true
   },
   "outputs": [],
   "source": [
    "GBoost = GradientBoostingRegressor(n_estimators=1000, learning_rate=0.1,\n",
    "                                   max_depth=6, max_features='sqrt',\n",
    "                                   min_samples_leaf=15, min_samples_split=10, \n",
    "                                   loss='huber', random_state =5)"
   ]
  },
  {
   "cell_type": "markdown",
   "metadata": {},
   "source": [
    "###### xgboost模型"
   ]
  },
  {
   "cell_type": "code",
   "execution_count": 102,
   "metadata": {
    "collapsed": true
   },
   "outputs": [],
   "source": [
    "model_xgb = xgb.XGBRegressor(colsample_bytree=0.4603, gamma=0.0468, \n",
    "                             learning_rate=0.1, max_depth=6, \n",
    "                             min_child_weight=1.7817, n_estimators=1000,\n",
    "                             reg_alpha=0.4640, reg_lambda=0.8571,\n",
    "                             subsample=0.5213, silent=1,\n",
    "                             seed =7, nthread = -1)"
   ]
  },
  {
   "cell_type": "markdown",
   "metadata": {},
   "source": [
    "###### LightGBM模型"
   ]
  },
  {
   "cell_type": "code",
   "execution_count": 103,
   "metadata": {
    "collapsed": true
   },
   "outputs": [],
   "source": [
    "model_lgb = lgb.LGBMRegressor(objective='regression',num_leaves=5,\n",
    "                              learning_rate=0.05, n_estimators=720,\n",
    "                              max_bin = 55, bagging_fraction = 0.8,\n",
    "                              bagging_freq = 5, feature_fraction = 0.2319,\n",
    "                              feature_fraction_seed=9, bagging_seed=9,\n",
    "                              min_data_in_leaf =6, min_sum_hessian_in_leaf = 11)"
   ]
  },
  {
   "cell_type": "markdown",
   "metadata": {},
   "source": [
    "##### 模型得分"
   ]
  },
  {
   "cell_type": "code",
   "execution_count": 117,
   "metadata": {
    "collapsed": false
   },
   "outputs": [
    {
     "name": "stdout",
     "output_type": "stream",
     "text": [
      "\n",
      "Lasso 得分: 0.6099 (0.0034)\n",
      "\n"
     ]
    }
   ],
   "source": [
    "score = rmsle_cv(lasso)\n",
    "print(\"\\nLasso 得分: {:.4f} ({:.4f})\\n\".format(score.mean(), score.std()))"
   ]
  },
  {
   "cell_type": "code",
   "execution_count": 118,
   "metadata": {
    "collapsed": false
   },
   "outputs": [
    {
     "name": "stdout",
     "output_type": "stream",
     "text": [
      "\\ENet 得分: 0.6085 (0.0034)\n",
      "\n"
     ]
    }
   ],
   "source": [
    "score = rmsle_cv(ENet)\n",
    "print(\"\\ENet 得分: {:.4f} ({:.4f})\\n\".format(score.mean(), score.std()))"
   ]
  },
  {
   "cell_type": "code",
   "execution_count": 145,
   "metadata": {
    "collapsed": false
   },
   "outputs": [
    {
     "name": "stdout",
     "output_type": "stream",
     "text": [
      "\n",
      "Lasso 得分: 0.3598 (0.0028)\n",
      "\n"
     ]
    }
   ],
   "source": [
    "lasso = make_pipeline(RobustScaler(), Lasso(alpha =0.001, random_state=1))\n",
    "\n",
    "score = rmsle_cv(lasso)\n",
    "print(\"\\nLasso 得分: {:.4f} ({:.4f})\\n\".format(score.mean(), score.std()))"
   ]
  },
  {
   "cell_type": "code",
   "execution_count": 146,
   "metadata": {
    "collapsed": false
   },
   "outputs": [
    {
     "name": "stdout",
     "output_type": "stream",
     "text": [
      "\\ENet 得分: 0.3593 (0.0029)\n",
      "\n"
     ]
    }
   ],
   "source": [
    "ENet = make_pipeline(RobustScaler(), ElasticNet(alpha=0.001, l1_ratio=.9, random_state=3))\n",
    "score = rmsle_cv(ENet)\n",
    "print(\"\\ENet 得分: {:.4f} ({:.4f})\\n\".format(score.mean(), score.std()))"
   ]
  },
  {
   "cell_type": "code",
   "execution_count": 120,
   "metadata": {
    "collapsed": true
   },
   "outputs": [
    {
     "ename": "MemoryError",
     "evalue": "",
     "output_type": "error",
     "traceback": [
      "\u001b[1;31m---------------------------------------------------------------------------\u001b[0m",
      "\u001b[1;31mMemoryError\u001b[0m                               Traceback (most recent call last)",
      "\u001b[1;32m<ipython-input-120-f8bf3e8bac25>\u001b[0m in \u001b[0;36m<module>\u001b[1;34m()\u001b[0m\n\u001b[1;32m----> 1\u001b[1;33m \u001b[0mscore\u001b[0m \u001b[1;33m=\u001b[0m \u001b[0mrmsle_cv\u001b[0m\u001b[1;33m(\u001b[0m\u001b[0mKRR\u001b[0m\u001b[1;33m)\u001b[0m\u001b[1;33m\u001b[0m\u001b[0m\n\u001b[0m\u001b[0;32m      2\u001b[0m \u001b[0mprint\u001b[0m\u001b[1;33m(\u001b[0m\u001b[1;34m\"Kernel Ridge 得分: {:.4f} ({:.4f})\\n\"\u001b[0m\u001b[1;33m.\u001b[0m\u001b[0mformat\u001b[0m\u001b[1;33m(\u001b[0m\u001b[0mscore\u001b[0m\u001b[1;33m.\u001b[0m\u001b[0mmean\u001b[0m\u001b[1;33m(\u001b[0m\u001b[1;33m)\u001b[0m\u001b[1;33m,\u001b[0m \u001b[0mscore\u001b[0m\u001b[1;33m.\u001b[0m\u001b[0mstd\u001b[0m\u001b[1;33m(\u001b[0m\u001b[1;33m)\u001b[0m\u001b[1;33m)\u001b[0m\u001b[1;33m)\u001b[0m\u001b[1;33m\u001b[0m\u001b[0m\n",
      "\u001b[1;32m<ipython-input-110-edd60c3e2438>\u001b[0m in \u001b[0;36mrmsle_cv\u001b[1;34m(model)\u001b[0m\n\u001b[0;32m      3\u001b[0m \u001b[1;32mdef\u001b[0m \u001b[0mrmsle_cv\u001b[0m\u001b[1;33m(\u001b[0m\u001b[0mmodel\u001b[0m\u001b[1;33m)\u001b[0m\u001b[1;33m:\u001b[0m\u001b[1;33m\u001b[0m\u001b[0m\n\u001b[0;32m      4\u001b[0m     \u001b[0mkf\u001b[0m \u001b[1;33m=\u001b[0m \u001b[0mKFold\u001b[0m\u001b[1;33m(\u001b[0m\u001b[0mn_folds\u001b[0m\u001b[1;33m,\u001b[0m \u001b[0mshuffle\u001b[0m\u001b[1;33m=\u001b[0m\u001b[1;32mTrue\u001b[0m\u001b[1;33m,\u001b[0m \u001b[0mrandom_state\u001b[0m\u001b[1;33m=\u001b[0m\u001b[1;36m42\u001b[0m\u001b[1;33m)\u001b[0m\u001b[1;33m.\u001b[0m\u001b[0mget_n_splits\u001b[0m\u001b[1;33m(\u001b[0m\u001b[0mtrain_x\u001b[0m\u001b[1;33m)\u001b[0m\u001b[1;33m\u001b[0m\u001b[0m\n\u001b[1;32m----> 5\u001b[1;33m     \u001b[0mrmse\u001b[0m\u001b[1;33m=\u001b[0m \u001b[0mnp\u001b[0m\u001b[1;33m.\u001b[0m\u001b[0msqrt\u001b[0m\u001b[1;33m(\u001b[0m\u001b[1;33m-\u001b[0m\u001b[0mcross_val_score\u001b[0m\u001b[1;33m(\u001b[0m\u001b[0mmodel\u001b[0m\u001b[1;33m,\u001b[0m \u001b[0mtrain_x\u001b[0m\u001b[1;33m,\u001b[0m \u001b[0mtrain_y\u001b[0m\u001b[1;33m,\u001b[0m \u001b[0mscoring\u001b[0m\u001b[1;33m=\u001b[0m\u001b[1;34m\"neg_mean_squared_error\"\u001b[0m\u001b[1;33m,\u001b[0m \u001b[0mcv\u001b[0m \u001b[1;33m=\u001b[0m \u001b[0mkf\u001b[0m\u001b[1;33m)\u001b[0m\u001b[1;33m)\u001b[0m\u001b[1;33m\u001b[0m\u001b[0m\n\u001b[0m\u001b[0;32m      6\u001b[0m     \u001b[1;32mreturn\u001b[0m\u001b[1;33m(\u001b[0m\u001b[0mrmse\u001b[0m\u001b[1;33m)\u001b[0m\u001b[1;33m\u001b[0m\u001b[0m\n",
      "\u001b[1;32mC:\\ProgramData\\Miniconda3\\lib\\site-packages\\sklearn\\model_selection\\_validation.py\u001b[0m in \u001b[0;36mcross_val_score\u001b[1;34m(estimator, X, y, groups, scoring, cv, n_jobs, verbose, fit_params, pre_dispatch)\u001b[0m\n\u001b[0;32m    340\u001b[0m                                 \u001b[0mn_jobs\u001b[0m\u001b[1;33m=\u001b[0m\u001b[0mn_jobs\u001b[0m\u001b[1;33m,\u001b[0m \u001b[0mverbose\u001b[0m\u001b[1;33m=\u001b[0m\u001b[0mverbose\u001b[0m\u001b[1;33m,\u001b[0m\u001b[1;33m\u001b[0m\u001b[0m\n\u001b[0;32m    341\u001b[0m                                 \u001b[0mfit_params\u001b[0m\u001b[1;33m=\u001b[0m\u001b[0mfit_params\u001b[0m\u001b[1;33m,\u001b[0m\u001b[1;33m\u001b[0m\u001b[0m\n\u001b[1;32m--> 342\u001b[1;33m                                 pre_dispatch=pre_dispatch)\n\u001b[0m\u001b[0;32m    343\u001b[0m     \u001b[1;32mreturn\u001b[0m \u001b[0mcv_results\u001b[0m\u001b[1;33m[\u001b[0m\u001b[1;34m'test_score'\u001b[0m\u001b[1;33m]\u001b[0m\u001b[1;33m\u001b[0m\u001b[0m\n\u001b[0;32m    344\u001b[0m \u001b[1;33m\u001b[0m\u001b[0m\n",
      "\u001b[1;32mC:\\ProgramData\\Miniconda3\\lib\\site-packages\\sklearn\\model_selection\\_validation.py\u001b[0m in \u001b[0;36mcross_validate\u001b[1;34m(estimator, X, y, groups, scoring, cv, n_jobs, verbose, fit_params, pre_dispatch, return_train_score)\u001b[0m\n\u001b[0;32m    204\u001b[0m             \u001b[0mfit_params\u001b[0m\u001b[1;33m,\u001b[0m \u001b[0mreturn_train_score\u001b[0m\u001b[1;33m=\u001b[0m\u001b[0mreturn_train_score\u001b[0m\u001b[1;33m,\u001b[0m\u001b[1;33m\u001b[0m\u001b[0m\n\u001b[0;32m    205\u001b[0m             return_times=True)\n\u001b[1;32m--> 206\u001b[1;33m         for train, test in cv.split(X, y, groups))\n\u001b[0m\u001b[0;32m    207\u001b[0m \u001b[1;33m\u001b[0m\u001b[0m\n\u001b[0;32m    208\u001b[0m     \u001b[1;32mif\u001b[0m \u001b[0mreturn_train_score\u001b[0m\u001b[1;33m:\u001b[0m\u001b[1;33m\u001b[0m\u001b[0m\n",
      "\u001b[1;32mC:\\ProgramData\\Miniconda3\\lib\\site-packages\\sklearn\\externals\\joblib\\parallel.py\u001b[0m in \u001b[0;36m__call__\u001b[1;34m(self, iterable)\u001b[0m\n\u001b[0;32m    777\u001b[0m             \u001b[1;31m# was dispatched. In particular this covers the edge\u001b[0m\u001b[1;33m\u001b[0m\u001b[1;33m\u001b[0m\u001b[0m\n\u001b[0;32m    778\u001b[0m             \u001b[1;31m# case of Parallel used with an exhausted iterator.\u001b[0m\u001b[1;33m\u001b[0m\u001b[1;33m\u001b[0m\u001b[0m\n\u001b[1;32m--> 779\u001b[1;33m             \u001b[1;32mwhile\u001b[0m \u001b[0mself\u001b[0m\u001b[1;33m.\u001b[0m\u001b[0mdispatch_one_batch\u001b[0m\u001b[1;33m(\u001b[0m\u001b[0miterator\u001b[0m\u001b[1;33m)\u001b[0m\u001b[1;33m:\u001b[0m\u001b[1;33m\u001b[0m\u001b[0m\n\u001b[0m\u001b[0;32m    780\u001b[0m                 \u001b[0mself\u001b[0m\u001b[1;33m.\u001b[0m\u001b[0m_iterating\u001b[0m \u001b[1;33m=\u001b[0m \u001b[1;32mTrue\u001b[0m\u001b[1;33m\u001b[0m\u001b[0m\n\u001b[0;32m    781\u001b[0m             \u001b[1;32melse\u001b[0m\u001b[1;33m:\u001b[0m\u001b[1;33m\u001b[0m\u001b[0m\n",
      "\u001b[1;32mC:\\ProgramData\\Miniconda3\\lib\\site-packages\\sklearn\\externals\\joblib\\parallel.py\u001b[0m in \u001b[0;36mdispatch_one_batch\u001b[1;34m(self, iterator)\u001b[0m\n\u001b[0;32m    623\u001b[0m                 \u001b[1;32mreturn\u001b[0m \u001b[1;32mFalse\u001b[0m\u001b[1;33m\u001b[0m\u001b[0m\n\u001b[0;32m    624\u001b[0m             \u001b[1;32melse\u001b[0m\u001b[1;33m:\u001b[0m\u001b[1;33m\u001b[0m\u001b[0m\n\u001b[1;32m--> 625\u001b[1;33m                 \u001b[0mself\u001b[0m\u001b[1;33m.\u001b[0m\u001b[0m_dispatch\u001b[0m\u001b[1;33m(\u001b[0m\u001b[0mtasks\u001b[0m\u001b[1;33m)\u001b[0m\u001b[1;33m\u001b[0m\u001b[0m\n\u001b[0m\u001b[0;32m    626\u001b[0m                 \u001b[1;32mreturn\u001b[0m \u001b[1;32mTrue\u001b[0m\u001b[1;33m\u001b[0m\u001b[0m\n\u001b[0;32m    627\u001b[0m \u001b[1;33m\u001b[0m\u001b[0m\n",
      "\u001b[1;32mC:\\ProgramData\\Miniconda3\\lib\\site-packages\\sklearn\\externals\\joblib\\parallel.py\u001b[0m in \u001b[0;36m_dispatch\u001b[1;34m(self, batch)\u001b[0m\n\u001b[0;32m    586\u001b[0m         \u001b[0mdispatch_timestamp\u001b[0m \u001b[1;33m=\u001b[0m \u001b[0mtime\u001b[0m\u001b[1;33m.\u001b[0m\u001b[0mtime\u001b[0m\u001b[1;33m(\u001b[0m\u001b[1;33m)\u001b[0m\u001b[1;33m\u001b[0m\u001b[0m\n\u001b[0;32m    587\u001b[0m         \u001b[0mcb\u001b[0m \u001b[1;33m=\u001b[0m \u001b[0mBatchCompletionCallBack\u001b[0m\u001b[1;33m(\u001b[0m\u001b[0mdispatch_timestamp\u001b[0m\u001b[1;33m,\u001b[0m \u001b[0mlen\u001b[0m\u001b[1;33m(\u001b[0m\u001b[0mbatch\u001b[0m\u001b[1;33m)\u001b[0m\u001b[1;33m,\u001b[0m \u001b[0mself\u001b[0m\u001b[1;33m)\u001b[0m\u001b[1;33m\u001b[0m\u001b[0m\n\u001b[1;32m--> 588\u001b[1;33m         \u001b[0mjob\u001b[0m \u001b[1;33m=\u001b[0m \u001b[0mself\u001b[0m\u001b[1;33m.\u001b[0m\u001b[0m_backend\u001b[0m\u001b[1;33m.\u001b[0m\u001b[0mapply_async\u001b[0m\u001b[1;33m(\u001b[0m\u001b[0mbatch\u001b[0m\u001b[1;33m,\u001b[0m \u001b[0mcallback\u001b[0m\u001b[1;33m=\u001b[0m\u001b[0mcb\u001b[0m\u001b[1;33m)\u001b[0m\u001b[1;33m\u001b[0m\u001b[0m\n\u001b[0m\u001b[0;32m    589\u001b[0m         \u001b[0mself\u001b[0m\u001b[1;33m.\u001b[0m\u001b[0m_jobs\u001b[0m\u001b[1;33m.\u001b[0m\u001b[0mappend\u001b[0m\u001b[1;33m(\u001b[0m\u001b[0mjob\u001b[0m\u001b[1;33m)\u001b[0m\u001b[1;33m\u001b[0m\u001b[0m\n\u001b[0;32m    590\u001b[0m \u001b[1;33m\u001b[0m\u001b[0m\n",
      "\u001b[1;32mC:\\ProgramData\\Miniconda3\\lib\\site-packages\\sklearn\\externals\\joblib\\_parallel_backends.py\u001b[0m in \u001b[0;36mapply_async\u001b[1;34m(self, func, callback)\u001b[0m\n\u001b[0;32m    109\u001b[0m     \u001b[1;32mdef\u001b[0m \u001b[0mapply_async\u001b[0m\u001b[1;33m(\u001b[0m\u001b[0mself\u001b[0m\u001b[1;33m,\u001b[0m \u001b[0mfunc\u001b[0m\u001b[1;33m,\u001b[0m \u001b[0mcallback\u001b[0m\u001b[1;33m=\u001b[0m\u001b[1;32mNone\u001b[0m\u001b[1;33m)\u001b[0m\u001b[1;33m:\u001b[0m\u001b[1;33m\u001b[0m\u001b[0m\n\u001b[0;32m    110\u001b[0m         \u001b[1;34m\"\"\"Schedule a func to be run\"\"\"\u001b[0m\u001b[1;33m\u001b[0m\u001b[0m\n\u001b[1;32m--> 111\u001b[1;33m         \u001b[0mresult\u001b[0m \u001b[1;33m=\u001b[0m \u001b[0mImmediateResult\u001b[0m\u001b[1;33m(\u001b[0m\u001b[0mfunc\u001b[0m\u001b[1;33m)\u001b[0m\u001b[1;33m\u001b[0m\u001b[0m\n\u001b[0m\u001b[0;32m    112\u001b[0m         \u001b[1;32mif\u001b[0m \u001b[0mcallback\u001b[0m\u001b[1;33m:\u001b[0m\u001b[1;33m\u001b[0m\u001b[0m\n\u001b[0;32m    113\u001b[0m             \u001b[0mcallback\u001b[0m\u001b[1;33m(\u001b[0m\u001b[0mresult\u001b[0m\u001b[1;33m)\u001b[0m\u001b[1;33m\u001b[0m\u001b[0m\n",
      "\u001b[1;32mC:\\ProgramData\\Miniconda3\\lib\\site-packages\\sklearn\\externals\\joblib\\_parallel_backends.py\u001b[0m in \u001b[0;36m__init__\u001b[1;34m(self, batch)\u001b[0m\n\u001b[0;32m    330\u001b[0m         \u001b[1;31m# Don't delay the application, to avoid keeping the input\u001b[0m\u001b[1;33m\u001b[0m\u001b[1;33m\u001b[0m\u001b[0m\n\u001b[0;32m    331\u001b[0m         \u001b[1;31m# arguments in memory\u001b[0m\u001b[1;33m\u001b[0m\u001b[1;33m\u001b[0m\u001b[0m\n\u001b[1;32m--> 332\u001b[1;33m         \u001b[0mself\u001b[0m\u001b[1;33m.\u001b[0m\u001b[0mresults\u001b[0m \u001b[1;33m=\u001b[0m \u001b[0mbatch\u001b[0m\u001b[1;33m(\u001b[0m\u001b[1;33m)\u001b[0m\u001b[1;33m\u001b[0m\u001b[0m\n\u001b[0m\u001b[0;32m    333\u001b[0m \u001b[1;33m\u001b[0m\u001b[0m\n\u001b[0;32m    334\u001b[0m     \u001b[1;32mdef\u001b[0m \u001b[0mget\u001b[0m\u001b[1;33m(\u001b[0m\u001b[0mself\u001b[0m\u001b[1;33m)\u001b[0m\u001b[1;33m:\u001b[0m\u001b[1;33m\u001b[0m\u001b[0m\n",
      "\u001b[1;32mC:\\ProgramData\\Miniconda3\\lib\\site-packages\\sklearn\\externals\\joblib\\parallel.py\u001b[0m in \u001b[0;36m__call__\u001b[1;34m(self)\u001b[0m\n\u001b[0;32m    129\u001b[0m \u001b[1;33m\u001b[0m\u001b[0m\n\u001b[0;32m    130\u001b[0m     \u001b[1;32mdef\u001b[0m \u001b[0m__call__\u001b[0m\u001b[1;33m(\u001b[0m\u001b[0mself\u001b[0m\u001b[1;33m)\u001b[0m\u001b[1;33m:\u001b[0m\u001b[1;33m\u001b[0m\u001b[0m\n\u001b[1;32m--> 131\u001b[1;33m         \u001b[1;32mreturn\u001b[0m \u001b[1;33m[\u001b[0m\u001b[0mfunc\u001b[0m\u001b[1;33m(\u001b[0m\u001b[1;33m*\u001b[0m\u001b[0margs\u001b[0m\u001b[1;33m,\u001b[0m \u001b[1;33m**\u001b[0m\u001b[0mkwargs\u001b[0m\u001b[1;33m)\u001b[0m \u001b[1;32mfor\u001b[0m \u001b[0mfunc\u001b[0m\u001b[1;33m,\u001b[0m \u001b[0margs\u001b[0m\u001b[1;33m,\u001b[0m \u001b[0mkwargs\u001b[0m \u001b[1;32min\u001b[0m \u001b[0mself\u001b[0m\u001b[1;33m.\u001b[0m\u001b[0mitems\u001b[0m\u001b[1;33m]\u001b[0m\u001b[1;33m\u001b[0m\u001b[0m\n\u001b[0m\u001b[0;32m    132\u001b[0m \u001b[1;33m\u001b[0m\u001b[0m\n\u001b[0;32m    133\u001b[0m     \u001b[1;32mdef\u001b[0m \u001b[0m__len__\u001b[0m\u001b[1;33m(\u001b[0m\u001b[0mself\u001b[0m\u001b[1;33m)\u001b[0m\u001b[1;33m:\u001b[0m\u001b[1;33m\u001b[0m\u001b[0m\n",
      "\u001b[1;32mC:\\ProgramData\\Miniconda3\\lib\\site-packages\\sklearn\\externals\\joblib\\parallel.py\u001b[0m in \u001b[0;36m<listcomp>\u001b[1;34m(.0)\u001b[0m\n\u001b[0;32m    129\u001b[0m \u001b[1;33m\u001b[0m\u001b[0m\n\u001b[0;32m    130\u001b[0m     \u001b[1;32mdef\u001b[0m \u001b[0m__call__\u001b[0m\u001b[1;33m(\u001b[0m\u001b[0mself\u001b[0m\u001b[1;33m)\u001b[0m\u001b[1;33m:\u001b[0m\u001b[1;33m\u001b[0m\u001b[0m\n\u001b[1;32m--> 131\u001b[1;33m         \u001b[1;32mreturn\u001b[0m \u001b[1;33m[\u001b[0m\u001b[0mfunc\u001b[0m\u001b[1;33m(\u001b[0m\u001b[1;33m*\u001b[0m\u001b[0margs\u001b[0m\u001b[1;33m,\u001b[0m \u001b[1;33m**\u001b[0m\u001b[0mkwargs\u001b[0m\u001b[1;33m)\u001b[0m \u001b[1;32mfor\u001b[0m \u001b[0mfunc\u001b[0m\u001b[1;33m,\u001b[0m \u001b[0margs\u001b[0m\u001b[1;33m,\u001b[0m \u001b[0mkwargs\u001b[0m \u001b[1;32min\u001b[0m \u001b[0mself\u001b[0m\u001b[1;33m.\u001b[0m\u001b[0mitems\u001b[0m\u001b[1;33m]\u001b[0m\u001b[1;33m\u001b[0m\u001b[0m\n\u001b[0m\u001b[0;32m    132\u001b[0m \u001b[1;33m\u001b[0m\u001b[0m\n\u001b[0;32m    133\u001b[0m     \u001b[1;32mdef\u001b[0m \u001b[0m__len__\u001b[0m\u001b[1;33m(\u001b[0m\u001b[0mself\u001b[0m\u001b[1;33m)\u001b[0m\u001b[1;33m:\u001b[0m\u001b[1;33m\u001b[0m\u001b[0m\n",
      "\u001b[1;32mC:\\ProgramData\\Miniconda3\\lib\\site-packages\\sklearn\\model_selection\\_validation.py\u001b[0m in \u001b[0;36m_fit_and_score\u001b[1;34m(estimator, X, y, scorer, train, test, verbose, parameters, fit_params, return_train_score, return_parameters, return_n_test_samples, return_times, error_score)\u001b[0m\n\u001b[0;32m    456\u001b[0m             \u001b[0mestimator\u001b[0m\u001b[1;33m.\u001b[0m\u001b[0mfit\u001b[0m\u001b[1;33m(\u001b[0m\u001b[0mX_train\u001b[0m\u001b[1;33m,\u001b[0m \u001b[1;33m**\u001b[0m\u001b[0mfit_params\u001b[0m\u001b[1;33m)\u001b[0m\u001b[1;33m\u001b[0m\u001b[0m\n\u001b[0;32m    457\u001b[0m         \u001b[1;32melse\u001b[0m\u001b[1;33m:\u001b[0m\u001b[1;33m\u001b[0m\u001b[0m\n\u001b[1;32m--> 458\u001b[1;33m             \u001b[0mestimator\u001b[0m\u001b[1;33m.\u001b[0m\u001b[0mfit\u001b[0m\u001b[1;33m(\u001b[0m\u001b[0mX_train\u001b[0m\u001b[1;33m,\u001b[0m \u001b[0my_train\u001b[0m\u001b[1;33m,\u001b[0m \u001b[1;33m**\u001b[0m\u001b[0mfit_params\u001b[0m\u001b[1;33m)\u001b[0m\u001b[1;33m\u001b[0m\u001b[0m\n\u001b[0m\u001b[0;32m    459\u001b[0m \u001b[1;33m\u001b[0m\u001b[0m\n\u001b[0;32m    460\u001b[0m     \u001b[1;32mexcept\u001b[0m \u001b[0mException\u001b[0m \u001b[1;32mas\u001b[0m \u001b[0me\u001b[0m\u001b[1;33m:\u001b[0m\u001b[1;33m\u001b[0m\u001b[0m\n",
      "\u001b[1;32mC:\\ProgramData\\Miniconda3\\lib\\site-packages\\sklearn\\kernel_ridge.py\u001b[0m in \u001b[0;36mfit\u001b[1;34m(self, X, y, sample_weight)\u001b[0m\n\u001b[0;32m    149\u001b[0m             \u001b[0msample_weight\u001b[0m \u001b[1;33m=\u001b[0m \u001b[0mcheck_array\u001b[0m\u001b[1;33m(\u001b[0m\u001b[0msample_weight\u001b[0m\u001b[1;33m,\u001b[0m \u001b[0mensure_2d\u001b[0m\u001b[1;33m=\u001b[0m\u001b[1;32mFalse\u001b[0m\u001b[1;33m)\u001b[0m\u001b[1;33m\u001b[0m\u001b[0m\n\u001b[0;32m    150\u001b[0m \u001b[1;33m\u001b[0m\u001b[0m\n\u001b[1;32m--> 151\u001b[1;33m         \u001b[0mK\u001b[0m \u001b[1;33m=\u001b[0m \u001b[0mself\u001b[0m\u001b[1;33m.\u001b[0m\u001b[0m_get_kernel\u001b[0m\u001b[1;33m(\u001b[0m\u001b[0mX\u001b[0m\u001b[1;33m)\u001b[0m\u001b[1;33m\u001b[0m\u001b[0m\n\u001b[0m\u001b[0;32m    152\u001b[0m         \u001b[0malpha\u001b[0m \u001b[1;33m=\u001b[0m \u001b[0mnp\u001b[0m\u001b[1;33m.\u001b[0m\u001b[0matleast_1d\u001b[0m\u001b[1;33m(\u001b[0m\u001b[0mself\u001b[0m\u001b[1;33m.\u001b[0m\u001b[0malpha\u001b[0m\u001b[1;33m)\u001b[0m\u001b[1;33m\u001b[0m\u001b[0m\n\u001b[0;32m    153\u001b[0m \u001b[1;33m\u001b[0m\u001b[0m\n",
      "\u001b[1;32mC:\\ProgramData\\Miniconda3\\lib\\site-packages\\sklearn\\kernel_ridge.py\u001b[0m in \u001b[0;36m_get_kernel\u001b[1;34m(self, X, Y)\u001b[0m\n\u001b[0;32m    119\u001b[0m                       \"coef0\": self.coef0}\n\u001b[0;32m    120\u001b[0m         return pairwise_kernels(X, Y, metric=self.kernel,\n\u001b[1;32m--> 121\u001b[1;33m                                 filter_params=True, **params)\n\u001b[0m\u001b[0;32m    122\u001b[0m \u001b[1;33m\u001b[0m\u001b[0m\n\u001b[0;32m    123\u001b[0m     \u001b[1;33m@\u001b[0m\u001b[0mproperty\u001b[0m\u001b[1;33m\u001b[0m\u001b[0m\n",
      "\u001b[1;32mC:\\ProgramData\\Miniconda3\\lib\\site-packages\\sklearn\\metrics\\pairwise.py\u001b[0m in \u001b[0;36mpairwise_kernels\u001b[1;34m(X, Y, metric, filter_params, n_jobs, **kwds)\u001b[0m\n\u001b[0;32m   1403\u001b[0m         \u001b[1;32mraise\u001b[0m \u001b[0mValueError\u001b[0m\u001b[1;33m(\u001b[0m\u001b[1;34m\"Unknown kernel %r\"\u001b[0m \u001b[1;33m%\u001b[0m \u001b[0mmetric\u001b[0m\u001b[1;33m)\u001b[0m\u001b[1;33m\u001b[0m\u001b[0m\n\u001b[0;32m   1404\u001b[0m \u001b[1;33m\u001b[0m\u001b[0m\n\u001b[1;32m-> 1405\u001b[1;33m     \u001b[1;32mreturn\u001b[0m \u001b[0m_parallel_pairwise\u001b[0m\u001b[1;33m(\u001b[0m\u001b[0mX\u001b[0m\u001b[1;33m,\u001b[0m \u001b[0mY\u001b[0m\u001b[1;33m,\u001b[0m \u001b[0mfunc\u001b[0m\u001b[1;33m,\u001b[0m \u001b[0mn_jobs\u001b[0m\u001b[1;33m,\u001b[0m \u001b[1;33m**\u001b[0m\u001b[0mkwds\u001b[0m\u001b[1;33m)\u001b[0m\u001b[1;33m\u001b[0m\u001b[0m\n\u001b[0m",
      "\u001b[1;32mC:\\ProgramData\\Miniconda3\\lib\\site-packages\\sklearn\\metrics\\pairwise.py\u001b[0m in \u001b[0;36m_parallel_pairwise\u001b[1;34m(X, Y, func, n_jobs, **kwds)\u001b[0m\n\u001b[0;32m   1088\u001b[0m     \u001b[1;32mif\u001b[0m \u001b[0mn_jobs\u001b[0m \u001b[1;33m==\u001b[0m \u001b[1;36m1\u001b[0m\u001b[1;33m:\u001b[0m\u001b[1;33m\u001b[0m\u001b[0m\n\u001b[0;32m   1089\u001b[0m         \u001b[1;31m# Special case to avoid picklability checks in delayed\u001b[0m\u001b[1;33m\u001b[0m\u001b[1;33m\u001b[0m\u001b[0m\n\u001b[1;32m-> 1090\u001b[1;33m         \u001b[1;32mreturn\u001b[0m \u001b[0mfunc\u001b[0m\u001b[1;33m(\u001b[0m\u001b[0mX\u001b[0m\u001b[1;33m,\u001b[0m \u001b[0mY\u001b[0m\u001b[1;33m,\u001b[0m \u001b[1;33m**\u001b[0m\u001b[0mkwds\u001b[0m\u001b[1;33m)\u001b[0m\u001b[1;33m\u001b[0m\u001b[0m\n\u001b[0m\u001b[0;32m   1091\u001b[0m \u001b[1;33m\u001b[0m\u001b[0m\n\u001b[0;32m   1092\u001b[0m     \u001b[1;31m# TODO: in some cases, backend='threading' may be appropriate\u001b[0m\u001b[1;33m\u001b[0m\u001b[1;33m\u001b[0m\u001b[0m\n",
      "\u001b[1;32mC:\\ProgramData\\Miniconda3\\lib\\site-packages\\sklearn\\metrics\\pairwise.py\u001b[0m in \u001b[0;36mpolynomial_kernel\u001b[1;34m(X, Y, degree, gamma, coef0)\u001b[0m\n\u001b[0;32m    772\u001b[0m         \u001b[0mgamma\u001b[0m \u001b[1;33m=\u001b[0m \u001b[1;36m1.0\u001b[0m \u001b[1;33m/\u001b[0m \u001b[0mX\u001b[0m\u001b[1;33m.\u001b[0m\u001b[0mshape\u001b[0m\u001b[1;33m[\u001b[0m\u001b[1;36m1\u001b[0m\u001b[1;33m]\u001b[0m\u001b[1;33m\u001b[0m\u001b[0m\n\u001b[0;32m    773\u001b[0m \u001b[1;33m\u001b[0m\u001b[0m\n\u001b[1;32m--> 774\u001b[1;33m     \u001b[0mK\u001b[0m \u001b[1;33m=\u001b[0m \u001b[0msafe_sparse_dot\u001b[0m\u001b[1;33m(\u001b[0m\u001b[0mX\u001b[0m\u001b[1;33m,\u001b[0m \u001b[0mY\u001b[0m\u001b[1;33m.\u001b[0m\u001b[0mT\u001b[0m\u001b[1;33m,\u001b[0m \u001b[0mdense_output\u001b[0m\u001b[1;33m=\u001b[0m\u001b[1;32mTrue\u001b[0m\u001b[1;33m)\u001b[0m\u001b[1;33m\u001b[0m\u001b[0m\n\u001b[0m\u001b[0;32m    775\u001b[0m     \u001b[0mK\u001b[0m \u001b[1;33m*=\u001b[0m \u001b[0mgamma\u001b[0m\u001b[1;33m\u001b[0m\u001b[0m\n\u001b[0;32m    776\u001b[0m     \u001b[0mK\u001b[0m \u001b[1;33m+=\u001b[0m \u001b[0mcoef0\u001b[0m\u001b[1;33m\u001b[0m\u001b[0m\n",
      "\u001b[1;32mC:\\ProgramData\\Miniconda3\\lib\\site-packages\\sklearn\\utils\\extmath.py\u001b[0m in \u001b[0;36msafe_sparse_dot\u001b[1;34m(a, b, dense_output)\u001b[0m\n\u001b[0;32m    138\u001b[0m         \u001b[1;32mreturn\u001b[0m \u001b[0mret\u001b[0m\u001b[1;33m\u001b[0m\u001b[0m\n\u001b[0;32m    139\u001b[0m     \u001b[1;32melse\u001b[0m\u001b[1;33m:\u001b[0m\u001b[1;33m\u001b[0m\u001b[0m\n\u001b[1;32m--> 140\u001b[1;33m         \u001b[1;32mreturn\u001b[0m \u001b[0mnp\u001b[0m\u001b[1;33m.\u001b[0m\u001b[0mdot\u001b[0m\u001b[1;33m(\u001b[0m\u001b[0ma\u001b[0m\u001b[1;33m,\u001b[0m \u001b[0mb\u001b[0m\u001b[1;33m)\u001b[0m\u001b[1;33m\u001b[0m\u001b[0m\n\u001b[0m\u001b[0;32m    141\u001b[0m \u001b[1;33m\u001b[0m\u001b[0m\n\u001b[0;32m    142\u001b[0m \u001b[1;33m\u001b[0m\u001b[0m\n",
      "\u001b[1;31mMemoryError\u001b[0m: "
     ]
    }
   ],
   "source": [
    "score = rmsle_cv(KRR)\n",
    "print(\"Kernel Ridge 得分: {:.4f} ({:.4f})\\n\".format(score.mean(), score.std()))"
   ]
  },
  {
   "cell_type": "markdown",
   "metadata": {},
   "source": [
    "krr运行时间太长，没有执行和给出结果"
   ]
  },
  {
   "cell_type": "code",
   "execution_count": 124,
   "metadata": {
    "collapsed": false
   },
   "outputs": [
    {
     "name": "stdout",
     "output_type": "stream",
     "text": [
      "Gradient Boosting 得分: 0.3328 (0.0041)\n",
      "\n"
     ]
    }
   ],
   "source": [
    "score = rmsle_cv(GBoost)\n",
    "print(\"Gradient Boosting 得分: {:.4f} ({:.4f})\\n\".format(score.mean(), score.std()))"
   ]
  },
  {
   "cell_type": "code",
   "execution_count": 135,
   "metadata": {
    "collapsed": false
   },
   "outputs": [
    {
     "name": "stdout",
     "output_type": "stream",
     "text": [
      "Gradient Boosting 得分: 0.3271 (0.0023)\n",
      "\n"
     ]
    }
   ],
   "source": [
    "score = rmsle_cv(GBoost)\n",
    "print(\"Gradient Boosting 得分: {:.4f} ({:.4f})\\n\".format(score.mean(), score.std()))"
   ]
  },
  {
   "cell_type": "code",
   "execution_count": 127,
   "metadata": {
    "collapsed": false
   },
   "outputs": [
    {
     "name": "stdout",
     "output_type": "stream",
     "text": [
      "Xgboost 得分: 0.3362 (0.0018)\n",
      "\n"
     ]
    }
   ],
   "source": [
    "score = rmsle_cv(model_xgb)\n",
    "print(\"Xgboost 得分: {:.4f} ({:.4f})\\n\".format(score.mean(), score.std()))"
   ]
  },
  {
   "cell_type": "code",
   "execution_count": 136,
   "metadata": {
    "collapsed": false
   },
   "outputs": [
    {
     "name": "stdout",
     "output_type": "stream",
     "text": [
      "Xgboost 得分: 0.3294 (0.0014)\n",
      "\n"
     ]
    }
   ],
   "source": [
    "score = rmsle_cv(model_xgb)\n",
    "print(\"Xgboost 得分: {:.4f} ({:.4f})\\n\".format(score.mean(), score.std()))"
   ]
  },
  {
   "cell_type": "code",
   "execution_count": 131,
   "metadata": {
    "collapsed": false
   },
   "outputs": [
    {
     "name": "stdout",
     "output_type": "stream",
     "text": [
      "Xgboost 得分: 0.3400 (0.0034)\n",
      "\n"
     ]
    }
   ],
   "source": [
    "score = rmsle_cv(model_lgb)\n",
    "print(\"Xgboost 得分: {:.4f} ({:.4f})\\n\".format(score.mean(), score.std()))"
   ]
  },
  {
   "cell_type": "markdown",
   "metadata": {},
   "source": [
    "#### 模型融合\n",
    "从简单的基本模型方法开始，考虑通过多模型融合的方式，尝试提高整体得分。首先构建简单类，扩充sklearn模型，然后根据初步融合结果进一步优化基模型参数，最后有所应用。"
   ]
  },
  {
   "cell_type": "code",
   "execution_count": 104,
   "metadata": {
    "collapsed": true
   },
   "outputs": [],
   "source": [
    "from sklearn.base import BaseEstimator, TransformerMixin, RegressorMixin, clone"
   ]
  },
  {
   "cell_type": "markdown",
   "metadata": {},
   "source": [
    "##### 基模型融合"
   ]
  },
  {
   "cell_type": "code",
   "execution_count": 105,
   "metadata": {
    "collapsed": true
   },
   "outputs": [],
   "source": [
    "class AverageModels(BaseEstimator, RegressorMixin, TransformerMixin):\n",
    "    def __init__(self, models):\n",
    "        self.models = models\n",
    "        \n",
    "    # 遍历所有模型\n",
    "    def fit(self, X, y):\n",
    "        self.models_ = [clone(x) for x in self.models]\n",
    "        for model in self.models_:\n",
    "            model.fit(X, y)   \n",
    "        return self\n",
    "    \n",
    "    # 预估，并对预估结果做average\n",
    "    def predict(self, X):\n",
    "        predictions = np.column_stack([model.predict(X) for model in self.models_])\n",
    "        return np.mean(predictions, axis=1)\n",
    "    "
   ]
  },
  {
   "cell_type": "code",
   "execution_count": 106,
   "metadata": {
    "collapsed": true
   },
   "outputs": [],
   "source": [
    "average_models = AverageModels(models=(lasso,ENet,GBoost))"
   ]
  },
  {
   "cell_type": "code",
   "execution_count": 169,
   "metadata": {
    "collapsed": false
   },
   "outputs": [
    {
     "name": "stdout",
     "output_type": "stream",
     "text": [
      "对基模型进行集成之后的得分：0.3403 (0.0029)\n",
      "\n"
     ]
    }
   ],
   "source": [
    "score = rmsle_cv(average_models)\n",
    "print('对基模型进行集成之后的得分：{:.4f} ({:.4f})\\n'.format(score.mean(), score.std()))"
   ]
  },
  {
   "cell_type": "markdown",
   "metadata": {},
   "source": [
    "对上面的结果对比，发现方差相比较单独模型有所降低，均值很低。故认为模型的融合起到改善预测结果的效果，所以考虑对单独模型构建更深层的模型融合。"
   ]
  },
  {
   "cell_type": "code",
   "execution_count": 25,
   "metadata": {
    "collapsed": false
   },
   "outputs": [
    {
     "data": {
      "text/plain": [
       "array([[  1,   2,   3,  11,  22,  33],\n",
       "       [ 10,  20,  30, 110, 220, 330]])"
      ]
     },
     "execution_count": 25,
     "metadata": {},
     "output_type": "execute_result"
    }
   ],
   "source": [
    "import numpy as np\n",
    "# np.array((1,2,3),(11,22,33))\n",
    "a=[1,2,3];b=[11,22,33];np.column_stack((a,b))\n",
    "a=[[1,2,3],[10,20,30]];b=[[11,22,33],[110,220,330]];np.column_stack((a,b))"
   ]
  },
  {
   "cell_type": "code",
   "execution_count": 44,
   "metadata": {
    "collapsed": false
   },
   "outputs": [
    {
     "name": "stdout",
     "output_type": "stream",
     "text": [
      "[[ 1 11]\n",
      " [ 2 22]\n",
      " [ 3 33]] (3, 2)\n"
     ]
    },
    {
     "data": {
      "text/plain": [
       "array([  6.,  12.,  18.])"
      ]
     },
     "execution_count": 44,
     "metadata": {},
     "output_type": "execute_result"
    }
   ],
   "source": [
    "ab = np.column_stack([np.array(a),np.array(b)])\n",
    "print(ab,ab.shape)\n",
    "ab.mean(axis=1)"
   ]
  },
  {
   "cell_type": "code",
   "execution_count": 45,
   "metadata": {
    "collapsed": false
   },
   "outputs": [
    {
     "name": "stdout",
     "output_type": "stream",
     "text": [
      "[[1]\n",
      " [2]\n",
      " [3]] (3, 1)\n"
     ]
    },
    {
     "data": {
      "text/plain": [
       "array([ 1.,  2.,  3.])"
      ]
     },
     "execution_count": 45,
     "metadata": {},
     "output_type": "execute_result"
    }
   ],
   "source": [
    "ab = np.column_stack([np.array(a)])\n",
    "print(ab,ab.shape)\n",
    "ab.mean(axis=1)"
   ]
  },
  {
   "cell_type": "code",
   "execution_count": 38,
   "metadata": {
    "collapsed": false
   },
   "outputs": [
    {
     "data": {
      "text/plain": [
       "array([  6.,  12.,  18.])"
      ]
     },
     "execution_count": 38,
     "metadata": {},
     "output_type": "execute_result"
    }
   ],
   "source": [
    "a=[1,2,3];b=[11,22,33];\n",
    "np.column_stack((a,b)).mean(axis=1)"
   ]
  },
  {
   "cell_type": "code",
   "execution_count": 31,
   "metadata": {
    "collapsed": false
   },
   "outputs": [
    {
     "data": {
      "text/plain": [
       "[array([[1, 1, 1, 1]]), array([[2, 2, 2, 2]]), array([[3, 3, 3, 3]])]"
      ]
     },
     "execution_count": 31,
     "metadata": {},
     "output_type": "execute_result"
    }
   ],
   "source": [
    "[np.column_stack([i]*4)  for i in list(range(1,4))]"
   ]
  },
  {
   "cell_type": "code",
   "execution_count": 30,
   "metadata": {
    "collapsed": false
   },
   "outputs": [
    {
     "data": {
      "text/plain": [
       "[array([ 1.]), array([ 2.]), array([ 3.])]"
      ]
     },
     "execution_count": 30,
     "metadata": {},
     "output_type": "execute_result"
    }
   ],
   "source": [
    "[np.column_stack([i]*4).mean(axis=1)  for i in list(range(1,4))]"
   ]
  },
  {
   "cell_type": "markdown",
   "metadata": {},
   "source": [
    "##### 构建stacking averagd models的类\n",
    "通过stacking的方式进行模型融合"
   ]
  },
  {
   "cell_type": "code",
   "execution_count": 107,
   "metadata": {
    "collapsed": true
   },
   "outputs": [],
   "source": [
    "class StackingAverageModels(BaseEstimator, RegressorMixin, TransformerMixin):\n",
    "    def __init__(self, base_models, meta_model, n_folds):\n",
    "        self.base_models = base_models\n",
    "        self.meta_model = meta_model\n",
    "        self.n_folds = n_folds\n",
    "    \n",
    "    # 遍历拟合原始模型\n",
    "    def fit(self, X, y):\n",
    "        self.base_models_ = [list() for x in self.base_models]\n",
    "        self.meta_model_ = clone(self.meta_model)\n",
    "        kfold = KFold(n_splits=self.n_folds, shuffle=True, random_state=123)\n",
    "        \n",
    "        # 得到基模型之后，对out_of_fold的数据做预估，并为学习stacking的第二层做数据准备\n",
    "        out_of_fold_predictions = np.zeros((X.shape[0], len(self.base_models)), dtype=np.float64)\n",
    "        \n",
    "        for i, model in enumerate(self.base_models):\n",
    "            for train_index, holdout_index in kfold.split(X, y):\n",
    "                instance = clone(model)\n",
    "                self.base_models_[i].append(instance)\n",
    "                instance.fit(X[train_index], y[train_index])\n",
    "                y_pred = instance.predict(X[holdout_index])\n",
    "                out_of_fold_predictions[holdout_index, i] = y_pred\n",
    "                \n",
    "        # 学习stacking模型\n",
    "        self.meta_model_.fit(out_of_fold_predictions, y)\n",
    "        return self\n",
    "    \n",
    "    # 做stacking预估\n",
    "    def predict(self, X):\n",
    "        meta_features = np.column_stack([\n",
    "            np.column_stack([model.predict(X) for model in base_models]).mean(axis=1)\n",
    "            for base_models in self.base_models_])\n",
    "        \n",
    "        return self.meta_model_.predict(meta_features)"
   ]
  },
  {
   "cell_type": "markdown",
   "metadata": {},
   "source": [
    "- 测试meta-model的stacking结果"
   ]
  },
  {
   "cell_type": "code",
   "execution_count": 108,
   "metadata": {
    "collapsed": false
   },
   "outputs": [
    {
     "name": "stdout",
     "output_type": "stream",
     "text": [
      "2018-08-13 09:25:11.523184\n"
     ]
    }
   ],
   "source": [
    "import datetime\n",
    "now = datetime.datetime.now()\n",
    "print(now)"
   ]
  },
  {
   "cell_type": "code",
   "execution_count": 111,
   "metadata": {
    "collapsed": false
   },
   "outputs": [
    {
     "name": "stdout",
     "output_type": "stream",
     "text": [
      "对基模型进行集成之后的得分：0.6017 (0.0024)\n",
      "\n"
     ]
    }
   ],
   "source": [
    "stacked_averaged_model = StackingAverageModels(base_models=(ENet, GBoost), meta_model=lasso, n_folds=5)\n",
    "\n",
    "score = rmsle_cv(stacked_averaged_model)\n",
    "print('对基模型进行集成之后的得分：{:.4f} ({:.4f})\\n'.format(score.mean(), score.std()))"
   ]
  },
  {
   "cell_type": "markdown",
   "metadata": {},
   "source": [
    "##### 测试模型融合"
   ]
  },
  {
   "cell_type": "code",
   "execution_count": 109,
   "metadata": {
    "collapsed": true
   },
   "outputs": [],
   "source": [
    "def rmsle(y, y_pred):\n",
    "    return np.sqrt(mean_squared_error(y, y_pred))"
   ]
  },
  {
   "cell_type": "markdown",
   "metadata": {},
   "source": [
    "###### stacking"
   ]
  },
  {
   "cell_type": "code",
   "execution_count": null,
   "metadata": {
    "collapsed": true
   },
   "outputs": [],
   "source": [
    "stacked_averaged_model.fit(train_x, train_y)"
   ]
  },
  {
   "cell_type": "code",
   "execution_count": 118,
   "metadata": {
    "collapsed": false
   },
   "outputs": [
    {
     "name": "stdout",
     "output_type": "stream",
     "text": [
      "0.6017301501182424\n",
      "30684.936189730954\n"
     ]
    }
   ],
   "source": [
    "stacked_train_pred = stacked_averaged_model.predict(train_x)\n",
    "stacked_pred = np.expm1(stacked_averaged_model.predict(test_x))\n",
    "print(rmsle(train_y, stacked_train_pred))\n",
    "print(rmsle(test_y, stacked_pred))"
   ]
  },
  {
   "cell_type": "markdown",
   "metadata": {},
   "source": [
    "###### xgboost"
   ]
  },
  {
   "cell_type": "code",
   "execution_count": 117,
   "metadata": {
    "collapsed": false
   },
   "outputs": [
    {
     "name": "stdout",
     "output_type": "stream",
     "text": [
      "0.28768534370101895\n",
      "36986.13921042293\n"
     ]
    }
   ],
   "source": [
    "model_xgb.fit(train_x, train_y)\n",
    "xgb_train_pred = model_xgb.predict(train_x)\n",
    "xgb_pred = np.expm1(model_xgb.predict(test_x))\n",
    "print(rmsle(train_y, xgb_train_pred))\n",
    "print(rmsle(test_y, xgb_pred))"
   ]
  },
  {
   "cell_type": "markdown",
   "metadata": {},
   "source": [
    "###### lightgbm"
   ]
  },
  {
   "cell_type": "code",
   "execution_count": 116,
   "metadata": {
    "collapsed": false
   },
   "outputs": [
    {
     "name": "stdout",
     "output_type": "stream",
     "text": [
      "0.33701688354734044\n",
      "36068.90124078451\n"
     ]
    }
   ],
   "source": [
    "model_lgb.fit(train_x, train_y)\n",
    "gbm_train_pred = model_lgb.predict(train_x)\n",
    "gbm_pred = np.expm1(model_lgb.predict(test_x))\n",
    "print(rmsle(train_y, gbm_train_pred))\n",
    "print(rmsle(test_y, gbm_pred))"
   ]
  },
  {
   "cell_type": "code",
   "execution_count": null,
   "metadata": {
    "collapsed": true
   },
   "outputs": [],
   "source": [
    "now = datetime.datetime.now()\n",
    "print(now)"
   ]
  },
  {
   "cell_type": "code",
   "execution_count": 54,
   "metadata": {
    "collapsed": false
   },
   "outputs": [
    {
     "data": {
      "text/plain": [
       "0.0"
      ]
     },
     "execution_count": 54,
     "metadata": {},
     "output_type": "execute_result"
    }
   ],
   "source": [
    "np.expm1(0)"
   ]
  },
  {
   "cell_type": "markdown",
   "metadata": {},
   "source": [
    "在测试集上面的表现很差，不理解为何差异非常大。"
   ]
  },
  {
   "cell_type": "markdown",
   "metadata": {},
   "source": [
    "##### 结果"
   ]
  },
  {
   "cell_type": "code",
   "execution_count": null,
   "metadata": {
    "collapsed": false
   },
   "outputs": [],
   "source": [
    "ensemble = stacked_pred*0.4 + xgb_pred*0.3 + lgb_pred*0.3"
   ]
  },
  {
   "cell_type": "code",
   "execution_count": null,
   "metadata": {
    "collapsed": true
   },
   "outputs": [],
   "source": []
  }
 ],
 "metadata": {
  "kernelspec": {
   "display_name": "Python 3",
   "language": "python",
   "name": "python3"
  },
  "language_info": {
   "codemirror_mode": {
    "name": "ipython",
    "version": 3
   },
   "file_extension": ".py",
   "mimetype": "text/x-python",
   "name": "python",
   "nbconvert_exporter": "python",
   "pygments_lexer": "ipython3",
   "version": "3.6.0"
  },
  "toc": {
   "base_numbering": 1,
   "nav_menu": {
    "height": "150px",
    "width": "246px"
   },
   "number_sections": true,
   "sideBar": true,
   "skip_h1_title": false,
   "title_cell": "Table of Contents",
   "title_sidebar": "Contents",
   "toc_cell": true,
   "toc_position": {
    "height": "110px",
    "left": "1137px",
    "top": "525px",
    "width": "209px"
   },
   "toc_section_display": true,
   "toc_window_display": true
  }
 },
 "nbformat": 4,
 "nbformat_minor": 2
}
